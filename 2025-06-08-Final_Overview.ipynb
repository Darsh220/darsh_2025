{
 "cells": [
  {
   "cell_type": "markdown",
   "id": "6daceae5",
   "metadata": {},
   "source": [
    "---\n",
    "layout: post\n",
    "title: Project Overview\n",
    "descriptiion: Project Overview\n",
    "courses: { csp: {week: 5} }\n",
    "comments: true\n",
    "sticky_rank: 1\n",
    "---"
   ]
  },
  {
   "cell_type": "markdown",
   "id": "5af7ddfe",
   "metadata": {},
   "source": [
    "### StudyBuddy\n",
    "StudyBuddy is an interactive website that makes use of user feedback to provide invaluable advice when studying for school. It was developed with Alex, Alex R, Travis C, and Marti J. \n",
    "\n",
    "### Overview of functions in the project\n",
    "Web Development Fundamentals\n",
    "\n",
    " **Frontend Frameworks & Libraries**\n",
    "- Exposure to modular JavaScript (using `type=\"module\"` and imports)  \n",
    "- Working with dynamic DOM manipulation and event handling  \n",
    "\n",
    "**API Integration**\n",
    "- Fetching data from REST APIs (GET, POST, DELETE, PUT)  \n",
    "- Handling asynchronous operations with `fetch` and `async/await`  \n",
    " \n",
    "**Data Management**\n",
    "- Managing user data (profiles, tasks, posts) and local storage  \n",
    "- CRUD operations (Create, Read, Update, Delete) for user-generated content  \n",
    " \n",
    "**Problem Solving & Debugging**\n",
    "- Reading, understanding, and troubleshooting code  \n",
    "- Improving features and fixing bugs  \n",
    "\n",
    "**Project Organization**\n",
    "- Navigating and contributing to a multi-file, multi-feature project  \n",
    "\n",
    "### Tower Defense - Open Coding Society\n",
    "- Abstraction: Uses classes and functions to organize code and manage game logic.\n",
    "- Algorithms: Implements logic for enemy movement, tower targeting, and upgrades.\n",
    "- Data Management: Stores game state (enemies, towers, coins, health) in variables and arrays.\n",
    "- Event Handling: Responds to user actions like dragging, dropping, and clicking.\n",
    "- Iteration & Conditionals: Uses loops and if-statements to control game flow and rules.\n",
    "- User Interface: Dynamically updates the display using DOM manipulation.\n",
    "- Procedural Abstraction: Breaks tasks into reusable functions and methods.\n",
    "\n",
    "As the Balance Change Expert, I worked on fixing any bugs in the game through constant testing of troops and rerunnning the game in various different situations. By using debugging as an essential tool, I fixed errors in class types, implemened projectiles for troops, and worked on tower logic when attacking each troop. I also implemented a drag and rop system for the towers to be placed and included set radii for each tower upon placing.\n",
    "\n",
    "### Final Reflection\n",
    "All in all, I was able to learn valuable hard skills and soft skills. With the knowledge that I have gained from this class, It is easier for me to look for an internship and then apply these concepts in a real life setting. \n",
    "\n",
    "\n",
    "    "
   ]
  }
 ],
 "metadata": {
  "language_info": {
   "name": "python"
  }
 },
 "nbformat": 4,
 "nbformat_minor": 5
}
