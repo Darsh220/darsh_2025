{
 "cells": [
  {
   "cell_type": "markdown",
   "id": "37736802",
   "metadata": {},
   "source": [
    "---\n",
    "layout: post\n",
    "title: HW all year Long\n",
    "descriptionn: Homework Assignments done so far\n",
    "courses: { csp: {week: 6} }\n",
    "comments: true\n",
    "sticky_rank: 1\n",
    "---"
   ]
  },
  {
   "cell_type": "markdown",
   "id": "042b876b",
   "metadata": {},
   "source": [
    "| #  | Title         | Link         |\n",
    "|----|---------------|--------------|\n",
    "| 1  | 3.1  | [Link](https://darsh220.github.io/darsh_2025/2024/10/07/3.1_IPYNB_2_.html)  |\n",
    "| 2  | 3.2  | [Link](https://darsh220.github.io/darsh_2025/2024/10/07/3.2_IPYNB_2_.html)  |\n",
    "| 3  | 3.3  | [Link](https://darsh220.github.io/darsh_2025/2024/10/09/3.3_3.5_IPYNB_2_.html)  |\n",
    "| 4  | 3.4  | [Link](https://darsh220.github.io/darsh_2025/2024/10/11/3.4_IPYNB_2_.html)  |\n",
    "| 5  | 3.5  | [Link](https://darsh220.github.io/darsh_2025/2024/10/09/3.3_3.5_IPYNB_2_.html)  |\n",
    "| 6  | 3.6  | [Link](https://darsh220.github.io/darsh_2025/2024/10/10/3.6_IPYNB_2_.html)  |\n",
    "| 7  | 3.7  | [Link](https://darsh220.github.io/darsh_2025/2024/10/11/3.7_IPYNB_2_.html)  |\n",
    "| 8  | 3.8  | [Link](https://darsh220.github.io/darsh_2025/2024/10/03/3.8_IPYNB_2_.html)  |\n",
    "| 9  | Graphs,Heuristics,and Undecidable Problems  | [Link](https://darsh220.github.io/darsh_2025/2025/02/22/Notes_on_Alex_Group_IPYNB_2_.html)  |\n",
    "| 10 | Binary Search Hacks | [Link](https://darsh220.github.io/darsh_2025/2025/04/27/Lessons_for_binary_search_IPYNB_2_.html) |\n",
    "| 11 | Logic Gates Hacks | [Link](https://darsh220.github.io/darsh_2025/2025/04/28/25-Important_lessons_IPYNB_2_.html) |\n",
    "| 12 | Random Numbers Hacks | [Link](https://darsh220.github.io/darsh_2025/2025/04/21/Notes_for_Lessons_IPYNB_2_.html) |\n",
    "| 13 | Big O and Algorithm Efficiency Hacks | [Link](https://darsh220.github.io/darsh_2025/2025/04/21/Notes_for_Lessons_IPYNB_2_.html) |\n",
    "| 14 | List Algorithms | [Link](https://darsh220.github.io/darsh_2025/2025/04/27/25-Lessons_for_list_algorithms_IPYNB_2_.html) |\n",
    "| 15 | Color Code and Base64 Hack | [Link](https://darsh220.github.io/darsh_2025/2025/05/05/Color_Code_IPYNB_2_.html) |\n",
    "\n",
    "### Overview\n",
    "This is a summary of all the HW hacks that I have done throughout the year and they have provided me with invaluable skills necessary for exposure into the tech world. By solidifying the fundamental skills of computer science, the HW hacks give me the necessary review and knowledge to apply into fields where it may be applicable. "
   ]
  }
 ],
 "metadata": {
  "kernelspec": {
   "display_name": "venv",
   "language": "python",
   "name": "python3"
  },
  "language_info": {
   "name": "python",
   "version": "3.12.3"
  }
 },
 "nbformat": 4,
 "nbformat_minor": 5
}
