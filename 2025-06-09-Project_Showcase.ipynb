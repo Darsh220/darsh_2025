{
 "cells": [
  {
   "cell_type": "markdown",
   "id": "7e477d31",
   "metadata": {},
   "source": [
    "---\n",
    "layout: post\n",
    "title: Project Showcase at NATM  \n",
    "descriptionn: Showcasing Our Projects\n",
    "courses: { csp: {week: 7} }\n",
    "comments: true\n",
    "sticky_rank: 1\n",
    "---"
   ]
  },
  {
   "cell_type": "markdown",
   "id": "8fbf505f",
   "metadata": {},
   "source": [
    "### 🚀 Highlights from My Previous Projects\n",
    "\n",
    "- **NATM 2 – StudyBuddy Presentation**  \n",
    "  Presented *StudyBuddy*, a study-focused site with strong core features. While the UI needed improvement, peers and visitors saw clear potential and diverse use cases. Future improvements will focus on enhancing functionality and refining the user interface.\n",
    "\n",
    "- **NATM 3 – Feedback-Driven Game Dev**  \n",
    "  Our latest project received valuable user feedback, helping us refine gameplay and design. Though we didn’t secure the internship, the event was a success for us as student game developers. Improvements will target UI clarity and a more intuitive tutorial experience.\n",
    "\n",
    "- **Illumina Biotech Game – Personal Favorite**  \n",
    "  A polished and intuitive evolution of a past OCS project. It featured a clean UI and a fully functional full-stack system, delivering accurate and dynamic data. This project showcased our best design and development work to date.\n",
    "\n",
    "- **Auto Website** \n",
    "One of my other favorites at the previous NATM was the website developed by Gavin Copley and his group. They developed a website for car enthusiasts that used API's such as Google Maps to locate potential buyers and sellers for their cars. Moreover, they also used an API made by CARFAX to determine the elligibility of the vehicle bought. They also implemented a chat for buyers and sellers to communicate through. Hence making the site easy to access and effective to use. \n"
   ]
  }
 ],
 "metadata": {
  "language_info": {
   "name": "python"
  }
 },
 "nbformat": 4,
 "nbformat_minor": 5
}
