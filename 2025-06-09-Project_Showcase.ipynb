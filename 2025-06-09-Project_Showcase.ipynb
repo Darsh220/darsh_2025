{
 "cells": [
  {
   "cell_type": "markdown",
   "id": "7e477d31",
   "metadata": {},
   "source": [
    "---\n",
    "layout: post\n",
    "title: Project Showcase at NATM  \n",
    "descriptionn: Showcasing Our Projects\n",
    "courses: { csp: {week: 6} }\n",
    "comments: true\n",
    "sticky_rank: 1\n",
    "---"
   ]
  },
  {
   "cell_type": "markdown",
   "id": "8fbf505f",
   "metadata": {},
   "source": [
    "### Highlights From My Previous Projects\n",
    "- During NATM 2, I had the privilege of presenting StudyBuddy to my fellow classmates and others involved in the event. Although the UI was lacking, many saw potential in the functionalty of our features. They also saw many use cases for the project that we had made. We could make the site better by making it more specified and more useful as a study site altogether. \n",
    "- NATM 3, the most recent one, was even better than the one before beacause although we did not get the internship opportunity, we did get a lot of people to comment some feedback on our project. This was essential to us as students and Game developers because our project relies on user experience and feedback to continue improving. We could have better UI and a more intuitive game tutorial but all in all, the event for us was a hit. \n",
    "\n"
   ]
  }
 ],
 "metadata": {
  "language_info": {
   "name": "python"
  }
 },
 "nbformat": 4,
 "nbformat_minor": 5
}
