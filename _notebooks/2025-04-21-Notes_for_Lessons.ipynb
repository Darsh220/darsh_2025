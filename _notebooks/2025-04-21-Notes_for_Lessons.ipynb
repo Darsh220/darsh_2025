{
 "cells": [
  {
   "cell_type": "markdown",
   "id": "febf8dbb",
   "metadata": {},
   "source": [
    "---\n",
    "layout: post\n",
    "title: Popcorn Hacks for Yash Group\n",
    "description: Notes from other lessons \n",
    "courses: { csp: {week: 5} }\n",
    "comments: true\n",
    "sticky_rank: 1\n",
    "---"
   ]
  },
  {
   "cell_type": "markdown",
   "id": "c74311d7",
   "metadata": {},
   "source": [
    "### Random Popcorn Hack 1\n",
    "- Cryptography:\n",
    "    - Random numbers are critical for generating secure encryption keys. If the numbers aren't truly random, it becomes easier for attackers to guess or reproduce the key, compromising data security.\n",
    "\n",
    "- Simulations (e.g., weather forecasting, financial modeling):\n",
    "    - Random numbers are used to simulate a wide range of possible outcomes in complex systems. For example, in Monte Carlo simulations, random inputs are used to model uncertainty and make predictions based on probability."
   ]
  },
  {
   "cell_type": "markdown",
   "id": "5315c76d",
   "metadata": {},
   "source": [
    "### Random Popcorn Hack 2\n"
   ]
  },
  {
   "cell_type": "code",
   "execution_count": 4,
   "id": "72a19bf8",
   "metadata": {},
   "outputs": [
    {
     "name": "stdout",
     "output_type": "stream",
     "text": [
      "Ask again later\n",
      "No\n",
      "Yes\n",
      "No\n",
      "Yes\n",
      "Yes\n",
      "No\n",
      "No\n",
      "Yes\n",
      "Ask again later\n"
     ]
    }
   ],
   "source": [
    "import random\n",
    "\n",
    "def magic_8_ball():\n",
    "    roll = random.random()  # Returns a float between 0.0 and 1.0\n",
    "    if roll < 0.5:\n",
    "        return \"Yes\"\n",
    "    elif roll < 0.75:\n",
    "        return \"No\"\n",
    "    else:\n",
    "        return \"Ask again later\"\n",
    "\n",
    "# Example usage\n",
    "for _ in range(10):\n",
    "    print(magic_8_ball())\n"
   ]
  },
  {
   "cell_type": "markdown",
   "id": "67986300",
   "metadata": {},
   "source": [
    "### Random Popcorn Hack 3\n"
   ]
  },
  {
   "cell_type": "code",
   "execution_count": 5,
   "id": "26f75cc8",
   "metadata": {},
   "outputs": [
    {
     "name": "stdout",
     "output_type": "stream",
     "text": [
      "Time 0: Green\n",
      "Time 1: Green\n",
      "Time 2: Green\n",
      "Time 3: Green\n",
      "Time 4: Green\n",
      "Time 5: Yellow\n",
      "Time 6: Yellow\n",
      "Time 7: Red\n",
      "Time 8: Red\n",
      "Time 9: Red\n",
      "Time 10: Red\n",
      "Time 11: Green\n",
      "Time 12: Green\n",
      "Time 13: Green\n",
      "Time 14: Green\n",
      "Time 15: Green\n",
      "Time 16: Yellow\n",
      "Time 17: Yellow\n",
      "Time 18: Red\n",
      "Time 19: Red\n"
     ]
    }
   ],
   "source": [
    "# Traffic light simulation (updated durations)\n",
    "\n",
    "states = [\"Green\", \"Yellow\", \"Red\"]\n",
    "durations = {\"Green\": 5, \"Yellow\": 2, \"Red\": 4}\n",
    "timeline = []\n",
    "\n",
    "# Simulate 20 time steps\n",
    "time = 0\n",
    "state = \"Green\"\n",
    "counter = 0\n",
    "\n",
    "while time < 20:\n",
    "    timeline.append((time, state))\n",
    "    counter += 1\n",
    "    if counter == durations[state]:\n",
    "        counter = 0\n",
    "        current_index = states.index(state)\n",
    "        state = states[(current_index + 1) % len(states)]\n",
    "    time += 1\n",
    "\n",
    "for t, s in timeline:\n",
    "    print(f\"Time {t}: {s}\")\n"
   ]
  },
  {
   "cell_type": "markdown",
   "id": "a48d6e19",
   "metadata": {},
   "source": [
    "### Random HW Hack 1\n"
   ]
  },
  {
   "cell_type": "code",
   "execution_count": 6,
   "id": "b88356f3",
   "metadata": {},
   "outputs": [
    {
     "name": "stdout",
     "output_type": "stream",
     "text": [
      "You rolled: 6 + 6 = 12\n",
      "You lose!\n",
      "\n",
      "Wins: 0 | Losses: 1\n",
      "You rolled: 4 + 4 = 8\n",
      "Point is set to: 8\n",
      "You rolled: 6 + 4 = 10\n",
      "You rolled: 2 + 5 = 7\n",
      "You rolled a 7. You lose!\n",
      "\n",
      "Wins: 0 | Losses: 2\n",
      "Thanks for playing!\n"
     ]
    }
   ],
   "source": [
    "import random\n",
    "\n",
    "def roll_dice():\n",
    "    return random.randint(1, 6), random.randint(1, 6)\n",
    "\n",
    "def play_game():\n",
    "    wins = 0\n",
    "    losses = 0\n",
    "\n",
    "    while True:\n",
    "        input(\"\\nPress Enter to roll the dice...\")\n",
    "        die1, die2 = roll_dice()\n",
    "        total = die1 + die2\n",
    "        print(f\"You rolled: {die1} + {die2} = {total}\")\n",
    "\n",
    "        if total in [7, 11]:\n",
    "            print(\"You win!\")\n",
    "            wins += 1\n",
    "        elif total in [2, 3, 12]:\n",
    "            print(\"You lose!\")\n",
    "            losses += 1\n",
    "        else:\n",
    "            point = total\n",
    "            print(f\"Point is set to: {point}\")\n",
    "            while True:\n",
    "                input(\"Rolling again...\")\n",
    "                die1, die2 = roll_dice()\n",
    "                total = die1 + die2\n",
    "                print(f\"You rolled: {die1} + {die2} = {total}\")\n",
    "                if total == point:\n",
    "                    print(\"You hit the point! You win!\")\n",
    "                    wins += 1\n",
    "                    break\n",
    "                elif total == 7:\n",
    "                    print(\"You rolled a 7. You lose!\")\n",
    "                    losses += 1\n",
    "                    break\n",
    "\n",
    "        print(f\"\\nWins: {wins} | Losses: {losses}\")\n",
    "        play_again = input(\"Play again? (y/n): \").strip().lower()\n",
    "        if play_again != 'y':\n",
    "            print(\"Thanks for playing!\")\n",
    "            break\n",
    "\n",
    "if __name__ == \"__main__\":\n",
    "    play_game()\n"
   ]
  },
  {
   "cell_type": "code",
   "execution_count": null,
   "id": "a5b01ad1",
   "metadata": {},
   "outputs": [],
   "source": []
  },
  {
   "cell_type": "code",
   "execution_count": null,
   "id": "8f18de8a",
   "metadata": {},
   "outputs": [],
   "source": [
    "\n",
    "import time\n",
    "import random\n",
    "\n",
    "# Generate a large sorted list\n",
    "data_size = 10000000\n",
    "sorted_data = sorted(random.sample(range(100000000), data_size))\n",
    "\n",
    "# Target to find (worst case for linear search)\n",
    "target = sorted_data[-1]  # Last element\n",
    "\n",
    "# O(n) - Linear Search\n",
    "def linear_search(arr, target):\n",
    "    for i, element in enumerate(arr):\n",
    "        if element == target:\n",
    "            return i\n",
    "    return -1\n",
    "\n",
    "# O(log n) - Binary Search\n",
    "def binary_search(arr, target):\n",
    "    left, right = 0, len(arr) - 1\n",
    "    \n",
    "    while left <= right:\n",
    "        mid = (left + right) // 2\n",
    "        if arr[mid] == target:\n",
    "            return mid\n",
    "        elif arr[mid] < target:\n",
    "            left = mid + 1\n",
    "        else:\n",
    "            right = mid - 1\n",
    "    \n",
    "    return -1\n",
    "\n",
    "# Compare performance\n",
    "print(\"Testing with data size:\", data_size)\n",
    "\n",
    "start = time.time()\n",
    "linear_result = linear_search(sorted_data, target)\n",
    "linear_time = time.time() - start\n",
    "print(f\"Linear search: {linear_time:.6f} seconds\")\n",
    "\n",
    "start = time.time()\n",
    "binary_result = binary_search(sorted_data, target)\n",
    "binary_time = time.time() - start\n",
    "print(f\"Binary search: {binary_time:.6f} seconds\")\n",
    "\n",
    "print(f\"Binary search is approximately {linear_time/binary_time:.0f}x faster\")\n",
    "\n",
    "  "
   ]
  },
  {
   "cell_type": "markdown",
   "id": "e68d71f8",
   "metadata": {},
   "source": [
    "### Notes for Teaching undecideable problems\n",
    "- Undecideable problems are defined by collegeboard as a problem that doesn't have a yes or no answer. \n",
    "- Popcorn Hack 1\n",
    "The second piece of code is undecideable because the integer always increases by 1 and never reaches 0 but this is somewhat different\n",
    "- Undecideable problems can be used for the College Board Project\n",
    "- Popcorn Hack 2\n",
    "1. If a problem is undecidable then no algorithm can be used to solve it so its False\n",
    "2. It is false, but can be true in some cases\n",
    "\n",
    "### Graphs Notes\n",
    "Graphs are defined as visual representations that display a relationship between two objects\n",
    "- A matrix is a way of representing a graph using boolean with 0's and 1's\n",
    "- Popcorn Hack 1\n",
    "    - Homework Hack 2\n",
    "\n",
    "### Heuristics\n",
    "- Hueristics are problem solving techniques that are good enough for solving computational problems and is good for dealing with datasets. \n",
    "- No need to know specifics about Hueristics but know they are existent\n",
    "- "
   ]
  }
 ],
 "metadata": {
  "kernelspec": {
   "display_name": "venv",
   "language": "python",
   "name": "python3"
  },
  "language_info": {
   "codemirror_mode": {
    "name": "ipython",
    "version": 3
   },
   "file_extension": ".py",
   "mimetype": "text/x-python",
   "name": "python",
   "nbconvert_exporter": "python",
   "pygments_lexer": "ipython3",
   "version": "3.12.3"
  }
 },
 "nbformat": 4,
 "nbformat_minor": 5
}
