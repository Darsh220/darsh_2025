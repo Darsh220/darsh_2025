{
 "cells": [
  {
   "cell_type": "markdown",
   "id": "febf8dbb",
   "metadata": {},
   "source": [
    "---\n",
    "layout: post\n",
    "title: Self Study Notes\n",
    "description: Notes from other lessons \n",
    "courses: { csp: {week: 5} }\n",
    "comments: true\n",
    "sticky_rank: 1\n",
    "---"
   ]
  },
  {
   "cell_type": "markdown",
   "id": "a48d6e19",
   "metadata": {},
   "source": [
    "### Random HW Hack 1\n"
   ]
  },
  {
   "cell_type": "code",
   "execution_count": 1,
   "id": "b88356f3",
   "metadata": {},
   "outputs": [
    {
     "name": "stdout",
     "output_type": "stream",
     "text": [
      "You rolled: 6 + 3 = 9\n",
      "Point is set to: 9\n",
      "You rolled: 5 + 2 = 7\n",
      "You rolled a 7. You lose!\n",
      "\n",
      "Wins: 0 | Losses: 1\n",
      "Thanks for playing!\n"
     ]
    }
   ],
   "source": [
    "import random\n",
    "\n",
    "def roll_dice():\n",
    "    return random.randint(1, 6), random.randint(1, 6)\n",
    "\n",
    "def play_game():\n",
    "    wins = 0\n",
    "    losses = 0\n",
    "\n",
    "    while True:\n",
    "        input(\"\\nPress Enter to roll the dice...\")\n",
    "        die1, die2 = roll_dice()\n",
    "        total = die1 + die2\n",
    "        print(f\"You rolled: {die1} + {die2} = {total}\")\n",
    "\n",
    "        if total in [7, 11]:\n",
    "            print(\"You win!\")\n",
    "            wins += 1\n",
    "        elif total in [2, 3, 12]:\n",
    "            print(\"You lose!\")\n",
    "            losses += 1\n",
    "        else:\n",
    "            point = total\n",
    "            print(f\"Point is set to: {point}\")\n",
    "            while True:\n",
    "                input(\"Rolling again...\")\n",
    "                die1, die2 = roll_dice()\n",
    "                total = die1 + die2\n",
    "                print(f\"You rolled: {die1} + {die2} = {total}\")\n",
    "                if total == point:\n",
    "                    print(\"You hit the point! You win!\")\n",
    "                    wins += 1\n",
    "                    break\n",
    "                elif total == 7:\n",
    "                    print(\"You rolled a 7. You lose!\")\n",
    "                    losses += 1\n",
    "                    break\n",
    "\n",
    "        print(f\"\\nWins: {wins} | Losses: {losses}\")\n",
    "        play_again = input(\"Play again? (y/n): \").strip().lower()\n",
    "        if play_again != 'y':\n",
    "            print(\"Thanks for playing!\")\n",
    "            break\n",
    "\n",
    "if __name__ == \"__main__\":\n",
    "    play_game()\n"
   ]
  },
  {
   "cell_type": "markdown",
   "id": "5446285a",
   "metadata": {},
   "source": [
    "### Random HW Hack 2\n"
   ]
  },
  {
   "cell_type": "code",
   "execution_count": 2,
   "id": "a5b01ad1",
   "metadata": {},
   "outputs": [
    {
     "name": "stdout",
     "output_type": "stream",
     "text": [
      "Ask again later\n",
      "Ask again later\n",
      "Ask again later\n",
      "Yes\n",
      "Yes\n",
      "Yes\n",
      "Yes\n",
      "Yes\n",
      "Yes\n",
      "No\n"
     ]
    }
   ],
   "source": [
    "import random\n",
    "\n",
    "def magic_8_ball():\n",
    "    roll = random.random()  # Returns a float between 0.0 and 1.0\n",
    "    if roll < 0.5:\n",
    "        return \"Yes\"\n",
    "    elif roll < 0.75:\n",
    "        return \"No\"\n",
    "    else:\n",
    "        return \"Ask again later\"\n",
    "\n",
    "# Example usage\n",
    "for _ in range(10):\n",
    "    print(magic_8_ball())\n"
   ]
  },
  {
   "cell_type": "code",
   "execution_count": 2,
   "id": "8f18de8a",
   "metadata": {},
   "outputs": [
    {
     "name": "stdout",
     "output_type": "stream",
     "text": [
      "Testing with data size: 10000000\n",
      "Linear search: 4.081091 seconds\n",
      "Binary search: 0.000119 seconds\n",
      "Binary search is approximately 34372x faster\n"
     ]
    }
   ],
   "source": [
    "\n",
    "import time\n",
    "import random\n",
    "\n",
    "# Generate a large sorted list\n",
    "data_size = 10000000\n",
    "sorted_data = sorted(random.sample(range(100000000), data_size))\n",
    "\n",
    "# Target to find (worst case for linear search)\n",
    "target = sorted_data[-1]  # Last element\n",
    "\n",
    "# O(n) - Linear Search\n",
    "def linear_search(arr, target):\n",
    "    for i, element in enumerate(arr):\n",
    "        if element == target:\n",
    "            return i\n",
    "    return -1\n",
    "\n",
    "# O(log n) - Binary Search\n",
    "def binary_search(arr, target):\n",
    "    left, right = 0, len(arr) - 1\n",
    "    \n",
    "    while left <= right:\n",
    "        mid = (left + right) // 2\n",
    "        if arr[mid] == target:\n",
    "            return mid\n",
    "        elif arr[mid] < target:\n",
    "            left = mid + 1\n",
    "        else:\n",
    "            right = mid - 1\n",
    "    \n",
    "    return -1\n",
    "\n",
    "# Compare performance\n",
    "print(\"Testing with data size:\", data_size)\n",
    "\n",
    "start = time.time()\n",
    "linear_result = linear_search(sorted_data, target)\n",
    "linear_time = time.time() - start\n",
    "print(f\"Linear search: {linear_time:.6f} seconds\")\n",
    "\n",
    "start = time.time()\n",
    "binary_result = binary_search(sorted_data, target)\n",
    "binary_time = time.time() - start\n",
    "print(f\"Binary search: {binary_time:.6f} seconds\")\n",
    "\n",
    "print(f\"Binary search is approximately {linear_time/binary_time:.0f}x faster\")\n",
    "\n",
    "  "
   ]
  },
  {
   "cell_type": "markdown",
   "id": "e68d71f8",
   "metadata": {},
   "source": [
    "### Notes for Teaching undecideable problems\n",
    "- Undecideable problems are defined by collegeboard as a problem that doesn't have a yes or no answer. \n",
    "- Popcorn Hack 1\n",
    "The second piece of code is undecideable because the integer always increases by 1 and never reaches 0 but this is somewhat different\n",
    "- Undecideable problems can be used for the College Board Project\n",
    "- Popcorn Hack 2\n",
    "1. If a problem is undecidable then no algorithm can be used to solve it so its False\n",
    "2. It is false, but can be true in some cases\n",
    "\n",
    "### Graphs Notes\n",
    "Graphs are defined as visual representations that display a relationship between two objects\n",
    "- A matrix is a way of representing a graph using boolean with 0's and 1's\n",
    "- Popcorn Hack 1\n",
    "    - Homework Hack 2\n",
    "\n",
    "### Heuristics\n",
    "- Hueristics are problem solving techniques that are good enough for solving computational problems and is good for dealing with datasets. \n",
    "- No need to know specifics about Hueristics but know they are existent\n",
    "- "
   ]
  }
 ],
 "metadata": {
  "kernelspec": {
   "display_name": "venv",
   "language": "python",
   "name": "python3"
  },
  "language_info": {
   "codemirror_mode": {
    "name": "ipython",
    "version": 3
   },
   "file_extension": ".py",
   "mimetype": "text/x-python",
   "name": "python",
   "nbconvert_exporter": "python",
   "pygments_lexer": "ipython3",
   "version": "3.12.3"
  }
 },
 "nbformat": 4,
 "nbformat_minor": 5
}
