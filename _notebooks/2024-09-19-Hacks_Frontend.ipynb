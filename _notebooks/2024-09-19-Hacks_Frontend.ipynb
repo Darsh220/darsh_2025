{
 "cells": [
  {
   "cell_type": "markdown",
   "metadata": {},
   "source": [
    "---\n",
    "layout: post\n",
    "title: Frontend\n",
    "description: Jupyter notebooks and Python \n",
    "courses: { csp: {week: 1} }\n",
    "comments: true\n",
    "sticky_rank: 1\n",
    "---"
   ]
  },
  {
   "cell_type": "code",
   "execution_count": 1,
   "metadata": {
    "vscode": {
     "languageId": "javascript"
    }
   },
   "outputs": [
    {
     "name": "stdout",
     "output_type": "stream",
     "text": [
      "Requirement already satisfied: ipywidgets in /home/darsh22/nighthawk/darsh_2025/venv/lib/python3.12/site-packages (8.1.5)\n",
      "Requirement already satisfied: comm>=0.1.3 in /home/darsh22/nighthawk/darsh_2025/venv/lib/python3.12/site-packages (from ipywidgets) (0.2.2)\n",
      "Requirement already satisfied: ipython>=6.1.0 in /home/darsh22/nighthawk/darsh_2025/venv/lib/python3.12/site-packages (from ipywidgets) (8.27.0)\n",
      "Requirement already satisfied: traitlets>=4.3.1 in /home/darsh22/nighthawk/darsh_2025/venv/lib/python3.12/site-packages (from ipywidgets) (5.14.3)\n",
      "Requirement already satisfied: widgetsnbextension~=4.0.12 in /home/darsh22/nighthawk/darsh_2025/venv/lib/python3.12/site-packages (from ipywidgets) (4.0.13)\n",
      "Requirement already satisfied: jupyterlab-widgets~=3.0.12 in /home/darsh22/nighthawk/darsh_2025/venv/lib/python3.12/site-packages (from ipywidgets) (3.0.13)\n",
      "Requirement already satisfied: decorator in /home/darsh22/nighthawk/darsh_2025/venv/lib/python3.12/site-packages (from ipython>=6.1.0->ipywidgets) (5.1.1)\n",
      "Requirement already satisfied: jedi>=0.16 in /home/darsh22/nighthawk/darsh_2025/venv/lib/python3.12/site-packages (from ipython>=6.1.0->ipywidgets) (0.19.1)\n",
      "Requirement already satisfied: matplotlib-inline in /home/darsh22/nighthawk/darsh_2025/venv/lib/python3.12/site-packages (from ipython>=6.1.0->ipywidgets) (0.1.7)\n",
      "Requirement already satisfied: prompt-toolkit<3.1.0,>=3.0.41 in /home/darsh22/nighthawk/darsh_2025/venv/lib/python3.12/site-packages (from ipython>=6.1.0->ipywidgets) (3.0.47)\n",
      "Requirement already satisfied: pygments>=2.4.0 in /home/darsh22/nighthawk/darsh_2025/venv/lib/python3.12/site-packages (from ipython>=6.1.0->ipywidgets) (2.18.0)\n",
      "Requirement already satisfied: stack-data in /home/darsh22/nighthawk/darsh_2025/venv/lib/python3.12/site-packages (from ipython>=6.1.0->ipywidgets) (0.6.3)\n",
      "Requirement already satisfied: pexpect>4.3 in /home/darsh22/nighthawk/darsh_2025/venv/lib/python3.12/site-packages (from ipython>=6.1.0->ipywidgets) (4.9.0)\n",
      "Requirement already satisfied: parso<0.9.0,>=0.8.3 in /home/darsh22/nighthawk/darsh_2025/venv/lib/python3.12/site-packages (from jedi>=0.16->ipython>=6.1.0->ipywidgets) (0.8.4)\n",
      "Requirement already satisfied: ptyprocess>=0.5 in /home/darsh22/nighthawk/darsh_2025/venv/lib/python3.12/site-packages (from pexpect>4.3->ipython>=6.1.0->ipywidgets) (0.7.0)\n",
      "Requirement already satisfied: wcwidth in /home/darsh22/nighthawk/darsh_2025/venv/lib/python3.12/site-packages (from prompt-toolkit<3.1.0,>=3.0.41->ipython>=6.1.0->ipywidgets) (0.2.13)\n",
      "Requirement already satisfied: executing>=1.2.0 in /home/darsh22/nighthawk/darsh_2025/venv/lib/python3.12/site-packages (from stack-data->ipython>=6.1.0->ipywidgets) (2.1.0)\n",
      "Requirement already satisfied: asttokens>=2.1.0 in /home/darsh22/nighthawk/darsh_2025/venv/lib/python3.12/site-packages (from stack-data->ipython>=6.1.0->ipywidgets) (2.4.1)\n",
      "Requirement already satisfied: pure-eval in /home/darsh22/nighthawk/darsh_2025/venv/lib/python3.12/site-packages (from stack-data->ipython>=6.1.0->ipywidgets) (0.2.3)\n",
      "Requirement already satisfied: six>=1.12.0 in /home/darsh22/nighthawk/darsh_2025/venv/lib/python3.12/site-packages (from asttokens>=2.1.0->stack-data->ipython>=6.1.0->ipywidgets) (1.16.0)\n",
      "Note: you may need to restart the kernel to use updated packages.\n"
     ]
    }
   ],
   "source": [
    "pip install ipywidgets\n"
   ]
  },
  {
   "cell_type": "code",
   "execution_count": 13,
   "metadata": {
    "vscode": {
     "languageId": "html"
    }
   },
   "outputs": [
    {
     "name": "stderr",
     "output_type": "stream",
     "text": [
      "/tmp/ipykernel_114687/2581505164.py:1: DeprecationWarning: Importing display from IPython.core.display is deprecated since IPython 7.14, please import from IPython display\n",
      "  from IPython.core.display import display, HTML\n"
     ]
    },
    {
     "data": {
      "text/html": [
       "\n",
       "<h2>User Information</h2>\n",
       "<div class=\"form-group\">\n",
       "    <label for=\"name\">Name:</label>\n",
       "    <input type=\"text\" id=\"name\" placeholder=\"Enter your name\">\n",
       "</div>\n",
       "<div class=\"form-group\">\n",
       "    <label for=\"age\">Age:</label>\n",
       "    <input type=\"number\" id=\"age\" min=\"0\" max=\"100\">\n",
       "</div>\n",
       "<div class=\"form-group\">\n",
       "    <label for=\"hobby\">Hobby:</label>\n",
       "    <select id=\"hobby\">\n",
       "        <option>Select a hobby</option>\n",
       "        <option>Reading</option>\n",
       "        <option>Traveling</option>\n",
       "        <option>Sports</option>\n",
       "        <option>Cooking</option>\n",
       "    </select>\n",
       "</div>\n",
       "<div class=\"form-group\">\n",
       "    <label>\n",
       "        <input type=\"checkbox\" id=\"subscribe\"> Subscribe to newsletter\n",
       "    </label>\n",
       "</div>\n",
       "<button class=\"my-button\" onclick=\"submitForm()\">Submit</button>\n",
       "\n",
       "<div id=\"output\"></div>\n",
       "\n",
       "<style>\n",
       "    .form-group { margin: 10px 0; }\n",
       "    .my-button {\n",
       "        background-color: lightblue;\n",
       "        color: white;\n",
       "        padding: 10px 20px;\n",
       "        border: none;\n",
       "        border-radius: 5px;\n",
       "        cursor: pointer;\n",
       "    }\n",
       "    .my-button:hover {\n",
       "        background-color: #45a049;\n",
       "    }\n",
       "</style>\n",
       "\n",
       "<script>\n",
       "    function submitForm() {\n",
       "        const name = document.getElementById('name').value;\n",
       "        const age = document.getElementById('age').value;\n",
       "        const hobby = document.getElementById('hobby').value;\n",
       "        const subscribe = document.getElementById('subscribe').checked;\n",
       "\n",
       "        let output = `<h3>Hello, ${name}!</h3>`;\n",
       "        output += `<p>You are ${age} years old.</p>`;\n",
       "        output += `<p>Your hobby is: ${hobby === 'Select a hobby' ? 'Not selected' : hobby}.</p>`;\n",
       "        output += `<p>Newsletter Subscription: ${subscribe ? 'Yes' : 'No'}</p>`;\n",
       "\n",
       "        document.getElementById('output').innerHTML = output;\n",
       "    }\n",
       "</script>\n"
      ],
      "text/plain": [
       "<IPython.core.display.HTML object>"
      ]
     },
     "metadata": {},
     "output_type": "display_data"
    }
   ],
   "source": [
    "from IPython.core.display import display, HTML\n",
    "\n",
    "# HTML code for the interactive form\n",
    "html_code = \"\"\"\n",
    "<h2>User Information</h2>\n",
    "<div class=\"form-group\">\n",
    "    <label for=\"name\">Name:</label>\n",
    "    <input type=\"text\" id=\"name\" placeholder=\"Enter your name\">\n",
    "</div>\n",
    "<div class=\"form-group\">\n",
    "    <label for=\"age\">Age:</label>\n",
    "    <input type=\"number\" id=\"age\" min=\"0\" max=\"100\">\n",
    "</div>\n",
    "<div class=\"form-group\">\n",
    "    <label for=\"hobby\">Hobby:</label>\n",
    "    <select id=\"hobby\">\n",
    "        <option>Select a hobby</option>\n",
    "        <option>Reading</option>\n",
    "        <option>Traveling</option>\n",
    "        <option>Sports</option>\n",
    "        <option>Cooking</option>\n",
    "    </select>\n",
    "</div>\n",
    "<div class=\"form-group\">\n",
    "    <label>\n",
    "        <input type=\"checkbox\" id=\"subscribe\"> Subscribe to newsletter\n",
    "    </label>\n",
    "</div>\n",
    "<button class=\"my-button\" onclick=\"submitForm()\">Submit</button>\n",
    "\n",
    "<div id=\"output\"></div>\n",
    "\n",
    "<style>\n",
    "    .form-group { margin: 10px 0; }\n",
    "    .my-button {\n",
    "        background-color: lightblue;\n",
    "        color: white;\n",
    "        padding: 10px 20px;\n",
    "        border: none;\n",
    "        border-radius: 5px;\n",
    "        cursor: pointer;\n",
    "    }\n",
    "    .my-button:hover {\n",
    "        background-color: #45a049;\n",
    "    }\n",
    "</style>\n",
    "\n",
    "<script>\n",
    "    function submitForm() {\n",
    "        const name = document.getElementById('name').value;\n",
    "        const age = document.getElementById('age').value;\n",
    "        const hobby = document.getElementById('hobby').value;\n",
    "        const subscribe = document.getElementById('subscribe').checked;\n",
    "\n",
    "        let output = `<h3>Hello, ${name}!</h3>`;\n",
    "        output += `<p>You are ${age} years old.</p>`;\n",
    "        output += `<p>Your hobby is: ${hobby === 'Select a hobby' ? 'Not selected' : hobby}.</p>`;\n",
    "        output += `<p>Newsletter Subscription: ${subscribe ? 'Yes' : 'No'}</p>`;\n",
    "\n",
    "        document.getElementById('output').innerHTML = output;\n",
    "    }\n",
    "</script>\n",
    "\"\"\"\n",
    "\n",
    "# Display the HTML code in the notebook\n",
    "display(HTML(html_code))\n"
   ]
  },
  {
   "cell_type": "code",
   "execution_count": 14,
   "metadata": {
    "vscode": {
     "languageId": "html"
    }
   },
   "outputs": [
    {
     "name": "stderr",
     "output_type": "stream",
     "text": [
      "/tmp/ipykernel_114687/1278385433.py:1: DeprecationWarning: Importing display from IPython.core.display is deprecated since IPython 7.14, please import from IPython display\n",
      "  from IPython.core.display import display, HTML\n"
     ]
    },
    {
     "data": {
      "text/html": [
       "\n",
       "<h2>Simple Calculator</h2>\n",
       "<div>\n",
       "    <input type=\"text\" id=\"num1\" placeholder=\"Enter first number\">\n",
       "    <input type=\"text\" id=\"num2\" placeholder=\"Enter second number\">\n",
       "</div>\n",
       "<div>\n",
       "    <button class=\"calc-button\" onclick=\"calculate('+')\">+</button>\n",
       "    <button class=\"calc-button\" onclick=\"calculate('-')\">-</button>\n",
       "    <button class=\"calc-button\" onclick=\"calculate('*')\">*</button>\n",
       "    <button class=\"calc-button\" onclick=\"calculate('/')\">/</button>\n",
       "</div>\n",
       "\n",
       "<h3>Result: <span id=\"result\">0</span></h3>\n",
       "\n",
       "<style>\n",
       "    body { font-family: Arial, sans-serif; }\n",
       "    .calc-button {\n",
       "        background-color: lightblue;\n",
       "        color: white;\n",
       "        padding: 10px 15px;\n",
       "        margin: 5px;\n",
       "        border: none;\n",
       "        border-radius: 5px;\n",
       "        cursor: pointer;\n",
       "    }\n",
       "    .calc-button:hover {\n",
       "        background-color: #45a049;\n",
       "    }\n",
       "</style>\n",
       "\n",
       "<script>\n",
       "    function calculate(operator) {\n",
       "        const num1 = parseFloat(document.getElementById('num1').value);\n",
       "        const num2 = parseFloat(document.getElementById('num2').value);\n",
       "        let result;\n",
       "\n",
       "        if (operator === '+') {\n",
       "            result = num1 + num2;\n",
       "        } else if (operator === '-') {\n",
       "            result = num1 - num2;\n",
       "        } else if (operator === '*') {\n",
       "            result = num1 * num2;\n",
       "        } else if (operator === '/') {\n",
       "            result = num2 !== 0 ? num1 / num2 : 'Cannot divide by zero';\n",
       "        }\n",
       "\n",
       "        document.getElementById('result').innerText = result || 0;\n",
       "    }\n",
       "</script>\n"
      ],
      "text/plain": [
       "<IPython.core.display.HTML object>"
      ]
     },
     "metadata": {},
     "output_type": "display_data"
    }
   ],
   "source": [
    "from IPython.core.display import display, HTML\n",
    "\n",
    "# HTML code for the calculator\n",
    "html_code = \"\"\"\n",
    "<h2>Simple Calculator</h2>\n",
    "<div>\n",
    "    <input type=\"text\" id=\"num1\" placeholder=\"Enter first number\">\n",
    "    <input type=\"text\" id=\"num2\" placeholder=\"Enter second number\">\n",
    "</div>\n",
    "<div>\n",
    "    <button class=\"calc-button\" onclick=\"calculate('+')\">+</button>\n",
    "    <button class=\"calc-button\" onclick=\"calculate('-')\">-</button>\n",
    "    <button class=\"calc-button\" onclick=\"calculate('*')\">*</button>\n",
    "    <button class=\"calc-button\" onclick=\"calculate('/')\">/</button>\n",
    "</div>\n",
    "\n",
    "<h3>Result: <span id=\"result\">0</span></h3>\n",
    "\n",
    "<style>\n",
    "    body { font-family: Arial, sans-serif; }\n",
    "    .calc-button {\n",
    "        background-color: lightblue;\n",
    "        color: white;\n",
    "        padding: 10px 15px;\n",
    "        margin: 5px;\n",
    "        border: none;\n",
    "        border-radius: 5px;\n",
    "        cursor: pointer;\n",
    "    }\n",
    "    .calc-button:hover {\n",
    "        background-color: #45a049;\n",
    "    }\n",
    "</style>\n",
    "\n",
    "<script>\n",
    "    function calculate(operator) {\n",
    "        const num1 = parseFloat(document.getElementById('num1').value);\n",
    "        const num2 = parseFloat(document.getElementById('num2').value);\n",
    "        let result;\n",
    "\n",
    "        if (operator === '+') {\n",
    "            result = num1 + num2;\n",
    "        } else if (operator === '-') {\n",
    "            result = num1 - num2;\n",
    "        } else if (operator === '*') {\n",
    "            result = num1 * num2;\n",
    "        } else if (operator === '/') {\n",
    "            result = num2 !== 0 ? num1 / num2 : 'Cannot divide by zero';\n",
    "        }\n",
    "\n",
    "        document.getElementById('result').innerText = result || 0;\n",
    "    }\n",
    "</script>\n",
    "\"\"\"\n",
    "\n",
    "# Display the HTML code in the notebook\n",
    "display(HTML(html_code))\n"
   ]
  },
  {
   "cell_type": "code",
   "execution_count": 15,
   "metadata": {
    "vscode": {
     "languageId": "html"
    }
   },
   "outputs": [
    {
     "name": "stderr",
     "output_type": "stream",
     "text": [
      "/tmp/ipykernel_114687/3794460850.py:1: DeprecationWarning: Importing display from IPython.core.display is deprecated since IPython 7.14, please import from IPython display\n",
      "  from IPython.core.display import display, HTML\n"
     ]
    },
    {
     "data": {
      "text/html": [
       "\n",
       "<h2>Watch Tutorial</h2>\n",
       "<button class=\"youtube-button\" onclick=\"window.open('https://www.youtube.com/watch?v=YOUR_VIDEO_ID', '_blank')\">Watch Video</button>\n",
       "\n",
       "<style>\n",
       "    body { font-family: Arial, sans-serif; }\n",
       "    .youtube-button {\n",
       "        background-color: lightblue;\n",
       "        color: white;\n",
       "        padding: 10px 15px;\n",
       "        margin: 5px;\n",
       "        border: none;\n",
       "        border-radius: 5px;\n",
       "        cursor: pointer;\n",
       "    }\n",
       "    .youtube-button:hover {\n",
       "        background-color: #45a049;\n",
       "    }\n",
       "</style>\n"
      ],
      "text/plain": [
       "<IPython.core.display.HTML object>"
      ]
     },
     "metadata": {},
     "output_type": "display_data"
    }
   ],
   "source": [
    "from IPython.core.display import display, HTML\n",
    "\n",
    "# HTML code for a YouTube link button\n",
    "html_code = \"\"\"\n",
    "<h2>Watch Tutorial</h2>\n",
    "<button class=\"youtube-button\" onclick=\"window.open('https://www.youtube.com/watch?v=YOUR_VIDEO_ID', '_blank')\">Watch Video</button>\n",
    "\n",
    "<style>\n",
    "    body { font-family: Arial, sans-serif; }\n",
    "    .youtube-button {\n",
    "        background-color: lightblue;\n",
    "        color: white;\n",
    "        padding: 10px 15px;\n",
    "        margin: 5px;\n",
    "        border: none;\n",
    "        border-radius: 5px;\n",
    "        cursor: pointer;\n",
    "    }\n",
    "    .youtube-button:hover {\n",
    "        background-color: #45a049;\n",
    "    }\n",
    "</style>\n",
    "\"\"\"\n",
    "\n",
    "# Display the HTML code in the notebook\n",
    "display(HTML(html_code))\n"
   ]
  }
 ],
 "metadata": {
  "kernelspec": {
   "display_name": "venv",
   "language": "python",
   "name": "python3"
  },
  "language_info": {
   "codemirror_mode": {
    "name": "ipython",
    "version": 3
   },
   "file_extension": ".py",
   "mimetype": "text/x-python",
   "name": "python",
   "nbconvert_exporter": "python",
   "pygments_lexer": "ipython3",
   "version": "3.12.3"
  }
 },
 "nbformat": 4,
 "nbformat_minor": 2
}
