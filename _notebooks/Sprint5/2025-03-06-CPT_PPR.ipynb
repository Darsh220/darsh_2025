{
 "cells": [
  {
   "cell_type": "markdown",
   "metadata": {},
   "source": [
    "---\n",
    "layout: post\n",
    "title: CPT & PPR \n",
    "description: CollegeBoard Components \n",
    "courses: { csp: {week: 1} }\n",
    "comments: true\n",
    "sticky_rank: 1\n",
    "---"
   ]
  },
  {
   "cell_type": "markdown",
   "metadata": {},
   "source": [
    "## Component A: Program Code "
   ]
  },
  {
   "cell_type": "code",
   "execution_count": null,
   "metadata": {},
   "outputs": [],
   "source": [
    "from flask import request, jsonify, Blueprint\n",
    "from model.factsbase import db, Facts\n",
    "\n",
    "# Blueprint for handling user-submitted facts via API endpoints\n",
    "userfacts = Blueprint('userfacts', __name__)\n",
    "\n",
    "@userfacts.route('/api/userfacts', methods=['POST'])\n",
    "def add_user():\n",
    "    \"\"\"\n",
    "    Algorithm: Adds a new fact to the database.\n",
    "    - Extracts JSON data from the request.\n",
    "    - Validates that required fields ('name' and 'fact') are provided.\n",
    "    - Creates a new database entry and commits it.\n",
    "    - Returns a success message if the operation is successful.\n",
    "    \"\"\"\n",
    "    data = request.get_json()\n",
    "    name = data.get('name')\n",
    "    fact = data.get('fact')\n",
    "\n",
    "    if not all([name, fact]):  # Ensuring necessary data is provided\n",
    "        return jsonify({'error': 'Missing data'}), 400\n",
    "\n",
    "    new_user = Facts(name=name, fact=fact)  # Data abstraction: Storing user fact\n",
    "    db.session.add(new_user)\n",
    "    db.session.commit()\n",
    "\n",
    "    return jsonify({'message': 'Fact added successfully'}), 201\n",
    "\n",
    "@userfacts.route('/api/userfacts', methods=['GET'])\n",
    "def get_fact():\n",
    "    \"\"\"\n",
    "    Algorithm: Retrieves all stored facts.\n",
    "    - Queries the database for all facts.\n",
    "    - Formats the data into a structured JSON response.\n",
    "    - Returns the facts list with a success status.\n",
    "    \"\"\"\n",
    "    facts = Facts.query.all()\n",
    "    result = [\n",
    "        {\n",
    "            'id': fact.id,\n",
    "            'name': fact._name,  # Potential issue: attribute name might be incorrect\n",
    "            'fact': fact._fact,\n",
    "        }\n",
    "        for fact in facts\n",
    "    ]\n",
    "    return jsonify(result), 200  # Returning structured data abstraction\n",
    "\n",
    "@userfacts.route('/api/userfacts/<int:id>', methods=['DELETE'])\n",
    "def delete_facts(id):\n",
    "    \"\"\"\n",
    "    Algorithm: Deletes a fact from the database.\n",
    "    - Searches for a fact using the provided ID.\n",
    "    - If found, deletes the fact and commits changes.\n",
    "    - If not found, returns an error message.\n",
    "    \"\"\"\n",
    "    fact = Facts.query.get(id)\n",
    "    if not fact:\n",
    "        return jsonify({'error': 'Fact not found'}), 404\n",
    "\n",
    "    db.session.delete(fact)\n",
    "    db.session.commit()\n",
    "    return jsonify({'message': 'Fact deleted successfully'}), 200\n",
    "\n",
    "@userfacts.route('/api/userfacts/<int:id>', methods=['PUT'])\n",
    "def update_fact(id):\n",
    "    \"\"\"\n",
    "    Algorithm: Updates an existing fact.\n",
    "    - Extracts JSON data from the request.\n",
    "    - Ensures 'name' and 'fact' fields are provided.\n",
    "    - Finds the existing fact and updates its values.\n",
    "    - Commits the changes and returns a success message.\n",
    "    \"\"\"\n",
    "    data = request.get_json()\n",
    "    name = data.get('name')\n",
    "    fact = data.get('fact')\n",
    "\n",
    "    if not all([name, fact]):  # Validation to ensure all necessary data is present\n",
    "        return jsonify({'error': 'Missing data'}), 400\n",
    "\n",
    "    existing_fact = Facts.query.get(id)\n",
    "    if not existing_fact:\n",
    "        return jsonify({'error': 'Fact not found'}), 404\n",
    "\n",
    "    existing_fact._name = name  # Potential issue: Attribute naming convention\n",
    "    existing_fact._fact = fact\n",
    "    db.session.commit()\n",
    "    return jsonify({'message': 'Fact updated successfully'}), 200\n",
    "\n",
    "\n",
    "    \n",
    "\n",
    "\n"
   ]
  },
  {
   "cell_type": "markdown",
   "metadata": {},
   "source": [
    "### How This Code Represents Component A\n",
    "#### Program Functionality\n",
    "\n",
    "- The code defines a RESTful API using Flask to handle user-submitted \"facts.\"\n",
    "- It supports CRUD (Create, Read, Update, Delete) operations on a database using SQLAlchemy.\n",
    "\n",
    "#### Algorithm Implementation\n",
    "- The add_user() function processes user input, validates it, and stores it in a database.\n",
    "- The get_fact() function retrieves and formats database entries.\n",
    "- The update_fact() function modifies stored data.\n",
    "- The delete_facts() function removes a record.\n",
    "\n",
    "#### Data Abstraction\n",
    "- The Facts class (presumably in model/factsbase.py) represents a database table, abstracting the underlying data structure.\n",
    "- The request.get_json() method extracts and processes structured JSON data.\n",
    "- The SQLAlchemy ORM handles data persistence, abstracting direct SQL operations."
   ]
  },
  {
   "cell_type": "markdown",
   "metadata": {},
   "source": [
    "### 1. Input from User"
   ]
  },
  {
   "cell_type": "code",
   "execution_count": null,
   "metadata": {},
   "outputs": [],
   "source": [
    "\n",
    "\n",
    "data = request.get_json()  # The user sends input as a JSON object.\n",
    "name = data.get('name')\n",
    "fact = data.get('fact')\n",
    "\n"
   ]
  },
  {
   "cell_type": "markdown",
   "metadata": {},
   "source": [
    "### 2. Use of list to Represent Data"
   ]
  },
  {
   "cell_type": "code",
   "execution_count": null,
   "metadata": {},
   "outputs": [],
   "source": [
    "\n",
    "\n",
    "facts = Facts.query.all()  # Querying all facts from the database\n",
    "result = [\n",
    "    {\n",
    "        'id': fact.id,\n",
    "        'name': fact._name,\n",
    "        'fact': fact._fact,\n",
    "    }\n",
    "    for fact in facts\n",
    "]\n",
    "\n"
   ]
  },
  {
   "cell_type": "markdown",
   "metadata": {},
   "source": [
    "## Component B: Video "
   ]
  },
  {
   "cell_type": "markdown",
   "metadata": {},
   "source": [
    "### 3. Student-Developed Procedure"
   ]
  },
  {
   "cell_type": "code",
   "execution_count": null,
   "metadata": {},
   "outputs": [],
   "source": [
    "\n",
    "def add_user():\n",
    "    data = request.get_json()\n",
    "    name = data.get('name')\n",
    "    fact = data.get('fact')\n",
    "\n",
    "    if not all([name, fact]):\n",
    "        return jsonify({'error': 'Missing data'}), 400\n",
    "\n",
    "    new_user = Facts(name=name, fact=fact)\n",
    "    db.session.add(new_user)\n",
    "    db.session.commit()\n",
    "\n",
    "    return jsonify({'message': 'Fact added successfully'}), 201\n",
    "    \n"
   ]
  },
  {
   "cell_type": "markdown",
   "metadata": {},
   "source": [
    "### 4. Algorith with sequencing, selection and iteration"
   ]
  },
  {
   "cell_type": "code",
   "execution_count": null,
   "metadata": {},
   "outputs": [],
   "source": [
    "\n",
    "\n",
    "def add_user():\n",
    "    data = request.get_json()\n",
    "    name = data.get('name')\n",
    "    fact = data.get('fact')\n",
    "\n",
    "    if not all([name, fact]):\n",
    "        return jsonify({'error': 'Missing data'}), 400\n",
    "\n",
    "    new_user = Facts(name=name, fact=fact)\n",
    "    db.session.add(new_user)\n",
    "    db.session.commit()\n",
    "\n",
    "    return jsonify({'message': 'Fact added successfully'}), 201\n",
    "    \n"
   ]
  },
  {
   "cell_type": "markdown",
   "metadata": {},
   "source": [
    "### 5. Calls to procedure"
   ]
  },
  {
   "cell_type": "code",
   "execution_count": null,
   "metadata": {},
   "outputs": [],
   "source": [
    "\n",
    "@userfacts.route('/api/userfacts', methods=['POST'])\n",
    "def add_user_route():\n",
    "    return add_user()  # Calling the procedure defined above\n",
    "    \n"
   ]
  },
  {
   "cell_type": "markdown",
   "metadata": {},
   "source": [
    "### 6. Output Based on Input"
   ]
  },
  {
   "cell_type": "code",
   "execution_count": null,
   "metadata": {},
   "outputs": [],
   "source": [
    "\n",
    "\n",
    "return jsonify({'message': 'Fact added successfully'}), 201\n",
    "\n"
   ]
  },
  {
   "cell_type": "markdown",
   "metadata": {},
   "source": [
    "## Component B - Video"
   ]
  },
  {
   "cell_type": "markdown",
   "metadata": {},
   "source": [
    "### Demonstrates:\n",
    "\n",
    "- Input to your program\n",
    "- At least one aspect of the functionality of your program\n",
    "- Output produced by your program\n",
    "\n",
    "### Requirements Followed:\n",
    "- Either .webm, .mp4, .wmv, .avi, or .mov format\n",
    "- No more than 1 minute in length\n",
    "- No more than 30MB in file size"
   ]
  },
  {
   "cell_type": "markdown",
   "metadata": {},
   "source": [
    "<video width=\"700\" controls>\n",
    "  \n",
    "  <source src=\"{{site.baseurl}}/videos/CPTVideo.mp4\" type=\"video/mp4\">\n",
    "</video>\n",
    "\n"
   ]
  },
  {
   "cell_type": "markdown",
   "metadata": {},
   "source": [
    "#### Procedure Example"
   ]
  },
  {
   "cell_type": "code",
   "execution_count": null,
   "metadata": {},
   "outputs": [],
   "source": [
    "## Component C - Personalized Project Reference\n",
    "\n",
    "### 1. **Student-Developed Procedure:**\n",
    "This procedure implements an algorithm used in your program. It contains:\n",
    "- A **procedure name** and **return type** (if necessary).\n",
    "- One or more **parameters** that affect the functionality of the procedure.\n",
    "- An **algorithm** that includes **sequencing**, **selection**, and **iteration**.\n",
    "\n",
    "\n",
    "\n",
    "# Student-developed procedure\n",
    "def add_user(data):\n",
    "    \"\"\"\n",
    "    This procedure adds a user and their fact to the database.\n",
    "    It checks if all data is provided, then adds it to the database.\n",
    "    \"\"\"\n",
    "    name = data.get('name')\n",
    "    fact = data.get('fact')\n",
    "    \n",
    "    # Selection (if-check to ensure data exists)\n",
    "    if not all([name, fact]):\n",
    "        return {'error': 'Missing data'}, 400\n",
    "    \n",
    "    # Sequencing (creating new user and committing to DB)\n",
    "    new_user = Facts(name=name, fact=fact)\n",
    "    db.session.add(new_user)\n",
    "    db.session.commit()\n",
    "    \n",
    "    # Return success message after addition\n",
    "    return {'message': 'Fact added successfully'}, 201\n",
    "   \n"
   ]
  },
  {
   "cell_type": "markdown",
   "metadata": {},
   "source": [
    "### Key Aspects:\n",
    "- Procedure Name: add_user\n",
    "- Parameters: data (this parameter is a dictionary containing name and fact)\n",
    "- Algorithm:\n",
    "    - sequencing: Check if data exists, create new user, and commit to the database.\n",
    "    - Selection: Ensure both name and fact are provided before adding to the database.\n",
    "    - Iteration: Though this specific method doesn’t have a loop, you could imagine an iteration process in other functions where multiple users/facts are handled."
   ]
  },
  {
   "cell_type": "markdown",
   "metadata": {},
   "source": [
    "#### Calling the add_user Procedure:\n"
   ]
  },
  {
   "cell_type": "markdown",
   "metadata": {},
   "source": [
    "### 2. **Call the add_user function when a POST request is made to '/api/userfacts'**\n",
    "- The second code segment shows where the add_user procedure is being called in the program."
   ]
  },
  {
   "cell_type": "code",
   "execution_count": null,
   "metadata": {},
   "outputs": [],
   "source": [
    "\n",
    "\n",
    "@userfacts.route('/api/userfacts', methods=['POST'])\n",
    "def add_user():\n",
    "    data = request.get_json()\n",
    "    name = data.get('name')\n",
    "    fact = data.get('fact')\n",
    "    \n",
    "    # Calling the add_user procedure to add a fact\n",
    "    response = add_user(data)\n",
    "    return jsonify(response)\n",
    "    \n",
    "\n"
   ]
  },
  {
   "cell_type": "markdown",
   "metadata": {},
   "source": [
    "### Key Aspects:\n",
    " - Procedure Name: add_user is being called inside the route handler for POST /api/userfacts.\n",
    " - Parameters: The data parameter is passed to the add_user procedure, which contains the user’s input.\n",
    " - Return: The add_user function returns a response that is sent back as JSON to the client."
   ]
  },
  {
   "cell_type": "markdown",
   "metadata": {},
   "source": [
    "### 3. **Using a List to Manage Complexity:**\n",
    "In this section, we store multiple insights in a list, which allows us to handle and manage the insights efficiently.\n",
    "- Storing Data(in this case insights) in a List:"
   ]
  },
  {
   "cell_type": "code",
   "execution_count": null,
   "metadata": {},
   "outputs": [],
   "source": [
    "\n",
    "\n",
    "facts = [\n",
    "    {'id': 1, 'name': 'Alice', 'fact': 'Apples are green or red'},\n",
    "    {'id': 2, 'name': 'Bob', 'fact': 'Honey never spoils'},\n",
    "    {'id': 3, 'name': 'Charlie', 'fact': 'The moon is made of cheese'},\n",
    "    {'id': 4, 'name': 'Diana', 'fact': 'The earth is flat'}\n",
    "]\n",
    "\n"
   ]
  },
  {
   "cell_type": "markdown",
   "metadata": {},
   "source": [
    "### Key Aspects:\n",
    " - List Type: A list of dictionaries is used to store facts with their id, name, and fact.\n",
    " - Purpose: The list allows us to efficiently handle a collection of facts for further processing (e.g., retrieving, updating, deleting).\n"
   ]
  },
  {
   "cell_type": "markdown",
   "metadata": {},
   "source": [
    "### 4. **Using the List to Fulfill Program’s Purpose:**\n",
    "#### Now, we use the stored facts from the list to retrieve and manipulate data, such as fetching all facts from the database.\n",
    "\n",
    " - Accessing and Using List Data:"
   ]
  },
  {
   "cell_type": "code",
   "execution_count": null,
   "metadata": {},
   "outputs": [],
   "source": [
    "\n",
    " \n",
    "@userfacts.route('/api/userfacts', methods=['GET'])\n",
    "def get_fact():\n",
    "    # Iterating through the facts list and returning each fact\n",
    "    result = [\n",
    "        {'id': fact['id'], 'name': fact['name'], 'fact': fact['fact']}\n",
    "        for fact in facts\n",
    "    ]\n",
    "    return jsonify(result), 200\n",
    "    \n"
   ]
  },
  {
   "cell_type": "markdown",
   "metadata": {},
   "source": [
    "### Key Aspects:\n",
    " - Iteration: We iterate over the facts list to retrieve each fact and prepare it for output.\n",
    " - Purpose: This is a part of the program’s goal to allow the user to retrieve all facts stored in the system.\n",
    " - Data Manipulation: The facts are accessed from the list, transformed into a suitable format (JSON), and then returned to the user.\n"
   ]
  },
  {
   "cell_type": "markdown",
   "metadata": {},
   "source": [
    "### Summary of Component C\n",
    "\n",
    "1. **Student-Developed Procedure**:\n",
    "   - **Definition**: A procedure with a name, return type (if needed), and parameters affecting its functionality.\n",
    "   - **Algorithm Features**: Should include sequencing, selection, and iteration.\n",
    "   - **Example**: The `add_user` procedure checks if data is provided, adds the data to the database, and returns a success or error message.\n",
    "\n",
    "2. **Calling the Procedure**:\n",
    "   - **Definition**: The procedure is invoked in the program using the relevant parameters.\n",
    "   - **Example**: The `add_user_route` function calls `add_user` with data from the request and returns the response.\n",
    "\n",
    "3. **Using a List for Data Management**:\n",
    "   - **Definition**: A list (or other collection) is used to manage multiple items efficiently.\n",
    "   - **Example**: Facts are stored in a list of dictionaries, allowing easy management of different user facts.\n",
    "\n",
    "4. **Accessing Data in the List**:\n",
    "   - **Definition**: The stored data is accessed and used as part of the program’s functionality.\n",
    "   - **Example**: A `GET` request retrieves facts from the list and sends them as a JSON response, utilizing iteration to process the list.\n"
   ]
  }
 ],
 "metadata": {
  "kernelspec": {
   "display_name": "venv",
   "language": "python",
   "name": "python3"
  },
  "language_info": {
   "codemirror_mode": {
    "name": "ipython",
    "version": 3
   },
   "file_extension": ".py",
   "mimetype": "text/x-python",
   "name": "python",
   "nbconvert_exporter": "python",
   "pygments_lexer": "ipython3",
   "version": "3.12.3"
  }
 },
 "nbformat": 4,
 "nbformat_minor": 2
}
