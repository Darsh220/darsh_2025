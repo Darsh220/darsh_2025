{
 "cells": [
  {
   "cell_type": "markdown",
   "metadata": {},
   "source": [
    "---\n",
    "layout: post\n",
    "title: Final Review \n",
    "description: Final  \n",
    "courses: { csp: {week: 1} }\n",
    "comments: true\n",
    "sticky_rank: 1\n",
    "---"
   ]
  },
  {
   "cell_type": "markdown",
   "metadata": {},
   "source": [
    "### **Reflection**\n",
    "- StudyBuddy turned out to be a solid project with useful features.\n",
    "- Faced challenges with user interactions and database management, which improved problem-solving and collaboration skills.\n",
    "- Group communication and collaboration improved significantly towards the end of the trimester.\n",
    "- Gained valuable knowledge in web development, backend functionality, and building practical, user-friendly applications.\n",
    "- Plan to major in mechanical engineering, but see computer science as a valuable side skill.\n",
    "- Coding knowledge will be useful for automation, simulations, data analysis, and engineering projects.\n",
    "- Even if CompSci isn’t pursued as a career, coding will be helpful for future engineering research and personal projects.\n",
    "\n",
    "\n",
    "---\n",
    "\n",
    "### **Self Grade**\n",
    "\n",
    "| **Category**                                               | **Points Possible** | **Points Earned** | **Notes**                                                                 |\n",
    "|------------------------------------------------------------|---------------------|-------------------|---------------------------------------------------------------------------|\n",
    "| 5 Things Over 12 Weeks (Issues, Burndown, Blog)            | 5                   | 4.31              | Missed some details in burndown tracking and being more specific, but overall solid work. |\n",
    "| Full Stack Project Demo (CPT Highlights & N@tM Feedback)    | 2                   | 1.8               | Demo covers key aspects but isn't very complex.                          |\n",
    "| Project Feature Blog (CPT/FRQ Language)                    | 1                   | 0.91              | Good structure, but could be clearer in connecting to CPT/FRQ, more explanation. |\n",
    "| MCQ                                                        | 1                   | 0.89              | Score wasn't that great but did a decent job when evaluating the skills that I needed to work on. |\n",
    "| Retrospective (Extra point)                                 | 1                   | 0.9               | Showed interest in other projects, but next steps plan needs more detail. |\n",
    "| **Total**                                                  | **10**              | **9.2**           | Solid effort with minor areas for improvement.                            |\n"
   ]
  }
 ],
 "metadata": {
  "language_info": {
   "name": "python"
  }
 },
 "nbformat": 4,
 "nbformat_minor": 2
}
