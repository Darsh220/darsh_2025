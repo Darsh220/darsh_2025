{
 "cells": [
  {
   "cell_type": "markdown",
   "metadata": {},
   "source": [
    "---\n",
    "layout: post\n",
    "title: Accomplishments \n",
    "description: CSP Final Retrospective - Accomplishments  \n",
    "courses: { csp: {week: 1} }\n",
    "comments: true\n",
    "sticky_rank: 1\n",
    "---"
   ]
  },
  {
   "cell_type": "markdown",
   "metadata": {},
   "source": [
    "### 1. Full CRUD Functionality with Flask & SQLAlchemy  \n",
    "- Successfully implemented **Create, Read, Update, and Delete (CRUD) operations** for managing user facts.  \n",
    "- API routes in `userfacts` use **Flask Blueprints** and properly interact with the database via SQLAlchemy.  \n",
    "<img src=\"{{ site.baseurl }}/images/screenshot1.png\" alt=\"Output on the site\">\n",
    "<img src=\"{{ site.baseurl }}/images/screenshot2.png\" alt=\"Output on the site\">\n",
    "\n",
    "\n",
    "\n",
    "\n",
    "\n",
    "\n",
    "### 2. Made my own posting page known as insights\n",
    "Created a customized backend UI to improve usability and streamline the management of stored data. Additionally, ensured proper functionality of db_backup, db_init, and db_restore features.\n",
    "\n",
    "\n",
    "\n",
    "### 4. Integrated an admin datatable into the backend UI, allowing for real-time retrieval and display of stored data.\n",
    "<img src=\"{{ site.baseurl }}/images/screen.png\" alt=\"Admin Datatable\">\n",
    "\n",
    "\n",
    "### 3. My site was able to work on the deployed server and I was able to get my page working without the need for localhost testing repeatedly. \n",
    "\n",
    "\n",
    "### 5. RESTful API Best Practices & Scalability  \n",
    "- Follows **RESTful principles**, using correct HTTP methods (`POST`, `GET`, `PUT`, `DELETE`) and structured endpoints (`/api/userfacts`).  \n",
    "- Uses **Flask Blueprints** for modular design, improving **scalability** and **code maintainability**.  \n",
    "<img src=\"{{ site.baseurl }}/images/ss.png\" alt=\"Output on the site\">\n",
    "\n",
    "\n"
   ]
  }
 ],
 "metadata": {
  "language_info": {
   "name": "python"
  }
 },
 "nbformat": 4,
 "nbformat_minor": 2
}
