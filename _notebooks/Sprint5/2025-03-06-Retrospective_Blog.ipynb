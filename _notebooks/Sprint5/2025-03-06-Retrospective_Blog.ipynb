{
 "cells": [
  {
   "cell_type": "markdown",
   "metadata": {},
   "source": [
    "---\n",
    "layout: post\n",
    "title: Accomplishments \n",
    "description: CSP Final Retrospective - Accomplishments  \n",
    "courses: { csp: {week: 1} }\n",
    "comments: true\n",
    "sticky_rank: 1\n",
    "---"
   ]
  },
  {
   "cell_type": "markdown",
   "metadata": {},
   "source": [
    "### 1. Full CRUD Functionality with Flask & SQLAlchemy  \n",
    "- Successfully implemented **Create, Read, Update, and Delete (CRUD) operations** for managing user facts.  \n",
    "- API routes in `userfacts` use **Flask Blueprints** and properly interact with the database via SQLAlchemy.  \n",
    "![Output on the site] ({{ site.baseurl }}/images/sers.jpg)\n",
    "![Data saved in backend table]({{ site.baseurl }}/path/to/your/image.jpg)\n",
    "\n",
    "\n",
    "### 2. Made my own posting page known as insights\n",
    "Created a customized backend UI to improve usability and streamline the management of stored data. Additionally, ensured proper functionality of db_backup, db_init, and db_restore features.\n",
    "\n",
    "### 4. Integrated an admin datatable into the backend UI, allowing for real-time retrieval and display of stored data.\n",
    "![Admin Datatable]({{ site.baseurl }}/images/screen.jpg)\n",
    "\n",
    "### 3. My site was able to work on the deployed server and I was able to get my page working without the need for localhost testing repeatedly. \n",
    "\n",
    "\n",
    "### 5. RESTful API Best Practices & Scalability  \n",
    "- Follows **RESTful principles**, using correct HTTP methods (`POST`, `GET`, `PUT`, `DELETE`) and structured endpoints (`/api/userfacts`).  \n",
    "- Uses **Flask Blueprints** for modular design, improving **scalability** and **code maintainability**.  \n",
    "![Postman Requst displaying a successful GET request]({{ site.baseurl }}/images/ss.jpg)\n",
    "\n"
   ]
  }
 ],
 "metadata": {
  "language_info": {
   "name": "python"
  }
 },
 "nbformat": 4,
 "nbformat_minor": 2
}
