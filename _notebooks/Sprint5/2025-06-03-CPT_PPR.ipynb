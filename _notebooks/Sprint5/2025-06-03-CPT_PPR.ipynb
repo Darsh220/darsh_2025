{
 "cells": [
  {
   "cell_type": "markdown",
   "metadata": {},
   "source": [
    "---\n",
    "layout: post\n",
    "title: CPT & PPR \n",
    "description: CollegeBoard Components \n",
    "courses: { csp: {week: 1} }\n",
    "comments: true\n",
    "sticky_rank: 1\n",
    "---"
   ]
  },
  {
   "cell_type": "markdown",
   "metadata": {},
   "source": [
    "## Component A: Program Code \n",
    "\n",
    "```python\n",
    "from flask import request, jsonify, Blueprint\n",
    "from model.factsbase import db, Facts\n",
    "\n",
    "userfacts = Blueprint('userfacts', __name__)\n",
    "\n",
    "@userfacts.route('/api/userfacts', methods=['POST'])\n",
    "def add_user():\n",
    "    data = request.get_json()\n",
    "    name = data.get('name')\n",
    "    fact = data.get('fact')\n",
    "\n",
    "    if not all([name, fact]):\n",
    "        return jsonify({'error': 'Missing data'}), 400\n",
    "\n",
    "    new_user = Facts(name=name, fact=fact)\n",
    "    db.session.add(new_user)\n",
    "    db.session.commit()\n",
    "\n",
    "    return jsonify({'message': 'Fact added successfully'}), 201\n",
    "\n",
    "@userfacts.route('/api/userfacts', methods=['GET'])\n",
    "def get_fact():\n",
    "    # Fetch all facts from the database\n",
    "    facts = Facts.query.all()\n",
    "    result = [\n",
    "        {\n",
    "            'id': fact.id,\n",
    "            'name': fact._name,\n",
    "            'fact': fact._fact,\n",
    "        }\n",
    "        for fact in facts\n",
    "    ]\n",
    "    return jsonify(result), 200\n",
    "\n",
    "@userfacts.route('/api/userfacts/<int:id>', methods=['DELETE'])\n",
    "def delete_facts(id):\n",
    "    fact = Facts.query.get(id)\n",
    "    if not fact:\n",
    "        return jsonify({'error': 'Fact not found'}), 404\n",
    "\n",
    "    db.session.delete(fact)\n",
    "    db.session.commit()\n",
    "    return jsonify({'message': 'Fact deleted successfully'}), 200\n",
    "\n",
    "@userfacts.route('/api/userfacts/<int:id>', methods=['PUT'])\n",
    "def update_fact(id):\n",
    "    data = request.get_json()\n",
    "    name = data.get('name')\n",
    "    fact = data.get('fact')\n",
    "\n",
    "    if not all([name, fact]):\n",
    "        return jsonify({'error': 'Missing data'}), 400\n",
    "\n",
    "    existing_fact = Facts.query.get(id)\n",
    "    if not existing_fact:\n",
    "        return jsonify({'error': 'Fact not found'}), 404\n",
    "    existing_fact._name = name\n",
    "    existing_fact._fact = fact\n",
    "    db.session.commit()\n",
    "    return jsonify({'message': 'Fact updated successfully'}), 200\n",
    "\n",
    "    \n"
   ]
  },
  {
   "cell_type": "markdown",
   "metadata": {},
   "source": [
    "### 1. Input from User\n",
    "```python\n",
    "data = request.get_json()  # The user sends input as a JSON object.\n",
    "name = data.get('name')\n",
    "fact = data.get('fact')\n"
   ]
  },
  {
   "cell_type": "markdown",
   "metadata": {},
   "source": [
    "### 2. Use of list to Represent Data\n",
    "```python\n",
    "facts = Facts.query.all()  # Querying all facts from the database\n",
    "result = [\n",
    "    {\n",
    "        'id': fact.id,\n",
    "        'name': fact._name,\n",
    "        'fact': fact._fact,\n",
    "    }\n",
    "    for fact in facts\n",
    "]\n"
   ]
  },
  {
   "cell_type": "markdown",
   "metadata": {},
   "source": [
    "## Component B: Video "
   ]
  },
  {
   "cell_type": "markdown",
   "metadata": {},
   "source": [
    "### 3. Student-Developed Procedure\n",
    "```python\n",
    "def add_user():\n",
    "    data = request.get_json()\n",
    "    name = data.get('name')\n",
    "    fact = data.get('fact')\n",
    "\n",
    "    if not all([name, fact]):\n",
    "        return jsonify({'error': 'Missing data'}), 400\n",
    "\n",
    "    new_user = Facts(name=name, fact=fact)\n",
    "    db.session.add(new_user)\n",
    "    db.session.commit()\n",
    "\n",
    "    return jsonify({'message': 'Fact added successfully'}), 201\n"
   ]
  },
  {
   "cell_type": "markdown",
   "metadata": {},
   "source": [
    "### 4. Algorith with sequencing, selection and iteration\n",
    "```python\n",
    "def add_user():\n",
    "    data = request.get_json()\n",
    "    name = data.get('name')\n",
    "    fact = data.get('fact')\n",
    "\n",
    "    if not all([name, fact]):\n",
    "        return jsonify({'error': 'Missing data'}), 400\n",
    "\n",
    "    new_user = Facts(name=name, fact=fact)\n",
    "    db.session.add(new_user)\n",
    "    db.session.commit()\n",
    "\n",
    "    return jsonify({'message': 'Fact added successfully'}), 201\n"
   ]
  },
  {
   "cell_type": "markdown",
   "metadata": {},
   "source": [
    "### 5. Calls to procedure\n",
    "```python\n",
    "@userfacts.route('/api/userfacts', methods=['POST'])\n",
    "def add_user_route():\n",
    "    return add_user()  # Calling the procedure defined above\n"
   ]
  },
  {
   "cell_type": "markdown",
   "metadata": {},
   "source": [
    "### 6. Output Based on Input\n",
    "```python\n",
    "return jsonify({'message': 'Fact added successfully'}), 201\n"
   ]
  },
  {
   "cell_type": "markdown",
   "metadata": {},
   "source": [
    "## Component B - Video"
   ]
  },
  {
   "cell_type": "markdown",
   "metadata": {},
   "source": [
    "### Demonstrates:\n",
    "\n",
    "- Input to your program\n",
    "- At least one aspect of the functionality of your program\n",
    "- Output produced by your program\n",
    "\n",
    "### Requirements Followed:\n",
    "- Either .webm, .mp4, .wmv, .avi, or .mov format\n",
    "- No more than 1 minute in length\n",
    "- No more than 30MB in file size"
   ]
  },
  {
   "cell_type": "markdown",
   "metadata": {},
   "source": [
    "<video width=\"700\" controls>\n",
    "  \n",
    "  <source src=\"{{site.baseurl}}/videos/CPTVideo.mp4\" type=\"video/mp4\">\n",
    "</video>\n",
    "\n"
   ]
  }
 ],
 "metadata": {
  "language_info": {
   "name": "python"
  }
 },
 "nbformat": 4,
 "nbformat_minor": 2
}
