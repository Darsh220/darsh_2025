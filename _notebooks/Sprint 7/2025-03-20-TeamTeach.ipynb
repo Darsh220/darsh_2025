{
 "cells": [
  {
   "cell_type": "markdown",
   "metadata": {},
   "source": [
    "---\n",
    "layout: post\n",
    "title: Team Teach Assignments for all groups and concepts\n",
    "description: Gimme Gimme credit \n",
    "courses: { csp: {week: 1} }\n",
    "comments: true\n",
    "---"
   ]
  },
  {
   "cell_type": "markdown",
   "metadata": {},
   "source": [
    "### Digital Divide Homework Hack\n",
    "\n",
    "- In my community, the digital divide is most noticeable in lower-income neighborhoods, where many families lack reliable internet  access and up-to-date devices for school and work.\n",
    "- Rural areas also face challenges, as spotty broadband coverage makes it difficult for students and remote workers to stay connected.\n",
    "- Many older adults struggle with technology, limiting their ability to access essential services like telehealth and online banking.\n",
    "- To help bridge this gap, I can volunteer at local libraries or community centers to teach basic digital skills and internet safety.\n",
    "- Additionally, I can advocate for policies that expand affordable broadband access and support initiatives that provide free or low-cost devices to underserved populations.\n",
    "\n",
    "\n",
    "\n",
    "\n",
    "\n",
    "\n",
    "\n"
   ]
  },
  {
   "cell_type": "markdown",
   "metadata": {},
   "source": [
    "### Beneficial and Harmful Effects Homework Hack\n",
    "- Technology is beneficial because it improves communication, allowing people to connect instantly through phones, video calls, and social media.\n",
    "- It also enhances education by providing online learning platforms, digital resources, and access to information from anywhere in the world.\n",
    "- In healthcare, technology plays a crucial role in telemedicine, medical research, and wearable devices that help monitor and improve patient health.\n",
    "- Additionally, technology increases efficiency in workplaces by automating tasks, improving productivity, and creating new job opportunities.\n",
    "- Despite some challenges, technology remains highly beneficial because it makes life more convenient, expands knowledge, and connects people globally.\n",
    "\n",
    "### Popcorn Hack 1\n",
    "- Beneficial effects are a result of technological advancements\n",
    "- And harmful effects are potential dilemmas that may arise with the advancements of technology. \n",
    "\n",
    "### Popcorn Hack 2\n",
    "- Science and Technolgy is the most beneficial effect out of these because it has helped important sectors in society such as Education to develop. With the development of science and tech, more people around the world are able to get easy access to education and develop together. \n",
    "\n",
    "### Popcorn Hack 3\n",
    "- Artificial Intelligence is a dilemma thats more harmful than beneficial especially in a educational setting. Ai dwindles the ability to learn for children and makes them less understanding to new sources of information. "
   ]
  },
  {
   "cell_type": "markdown",
   "metadata": {},
   "source": [
    "### Computing Bias Homework\n",
    "- Explain the difference between implicit and explicit data. Provide an example of each.\n",
    "- **Explicit Data**: Directly provided by users.  \n",
    "  - *Example*: A user enters their birthdate on a website.  \n",
    "\n",
    "- **Implicit Data**: Collected through behavior.  \n",
    "  - *Example*: A website tracks pages a user visits."
   ]
  },
  {
   "cell_type": "markdown",
   "metadata": {},
   "source": [
    "### Crowdsourcing\n",
    "#### Popcorn Hack 1\n",
    "\n",
    "1. **Crowd Voting** – Collects public opinions to guide decisions. (*Example: Online polls influencing product design.*)  \n",
    "2. **Crowd Contest** – Encourages competition to generate creative solutions. (*Example: Logo design contests.*)  \n",
    "3. **Crowd Funding** – Raises capital from many contributors. (*Example: Kickstarter projects funding innovative ideas.*)  \n",
    "4. **Microtasking** – Breaks tasks into small parts for efficiency. (*Example: Image tagging for AI training.*)  \n",
    "5. **Open Collaboration** – Gathers collective expertise for problem-solving. (*Example: Open-source software development.*)  \n",
    "\n",
    "Each type leverages collective intelligence to drive innovation efficiently.\n",
    "\n",
    "#### Popcorn Hack 2\n",
    "**Data Crowdsourcing** is the process of gathering large datasets from a distributed group of contributors, often volunteers or users, to improve research, AI, and open-source projects. It enhances **open-source development** by providing diverse, large-scale data for training models, conducting analyses, and improving systems collaboratively.  \n",
    "\n",
    "### **Examples of Crowdsourced Public Datasets:**  \n",
    "1. **ImageNet** – A massive image dataset labeled by volunteers, used for AI and machine learning advancements.  \n",
    "2. **OpenStreetMap (OSM)** – A user-generated global map used in navigation apps and geographic research.  \n",
    "3. **Wikipedia Dumps** – A freely available database of Wikipedia’s crowdsourced knowledge, used for natural language processing and AI models.  \n",
    "4. **Common Voice (Mozilla)** – A crowdsourced dataset of voice recordings to improve speech recognition technology.  \n",
    "\n",
    "These datasets fuel innovation by providing open access to high-quality data for research and development.\n",
    "\n",
    "#### Popcorn Hack 3\n",
    "**Distributed computing** contributes to innovation through crowdsourcing by utilizing the collective processing power of many computers worldwide. It enables large-scale problem-solving, data analysis, and scientific research that would be difficult for a single machine or institution to handle.  \n",
    "\n",
    "### **Successful Projects Using Distributed Computing & Crowdsourcing:**  \n",
    "1. **SETI@home** – Volunteers' computers analyze radio signals to search for extraterrestrial life.  \n",
    "2. **Folding@home** – Uses distributed computing to simulate protein folding, helping research on diseases like cancer and Alzheimer’s.  \n",
    "3. **BOINC (Berkeley Open Infrastructure for Network Computing)** – A platform supporting various scientific projects, including climate modeling and medical research.  \n",
    "4. **Einstein@home** – Analyzes astronomical data to detect gravitational waves and pulsars.  \n",
    "\n",
    "These projects harness global computing power to drive breakthroughs in science and technology.\n",
    "\n",
    "Homework\n",
    "Crowdsourcing has become a powerful tool for modern innovation by leveraging collective intelligence, creativity, and resources from diverse contributors worldwide. Various forms of crowdsourcing, such as crowd voting, microtasking, and open collaboration, have enabled businesses and researchers to solve complex problems efficiently. Distributed computing enhances crowdsourcing efforts by pooling global computational resources, as seen in projects like Folding@home, which accelerates medical research. Additionally, data crowdsourcing has significantly contributed to open-source development, with initiatives like OpenStreetMap and Mozilla’s Common Voice providing valuable datasets for AI and software advancements.  \n",
    "\n",
    "Looking ahead, crowdsourcing has the potential to revolutionize fields like artificial intelligence, climate research, and public policy by making innovation more inclusive, scalable, and data-driven. As technology advances, collaborative problem-solving will continue to push the boundaries of what is possible.\n"
   ]
  },
  {
   "cell_type": "markdown",
   "metadata": {},
   "source": []
  }
 ],
 "metadata": {
  "language_info": {
   "name": "python"
  }
 },
 "nbformat": 4,
 "nbformat_minor": 2
}
