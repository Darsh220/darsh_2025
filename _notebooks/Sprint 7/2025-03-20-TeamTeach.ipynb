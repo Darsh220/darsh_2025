{
 "cells": [
  {
   "cell_type": "markdown",
   "metadata": {},
   "source": [
    "---\n",
    "layout: post\n",
    "title: Team Teach Assignments for all groups and concepts\n",
    "description: Gimme Gimme credit \n",
    "courses: { csp: {week: 1} }\n",
    "comments: true\n",
    "sticky_rank: 1\n",
    "---"
   ]
  },
  {
   "cell_type": "markdown",
   "metadata": {},
   "source": [
    "### Digital Divide Homework Hack\n",
    "\n",
    "- In my community, the digital divide is most noticeable in lower-income neighborhoods, where many families lack reliable internet  access and up-to-date devices for school and work.\n",
    "- Rural areas also face challenges, as spotty broadband coverage makes it difficult for students and remote workers to stay connected.\n",
    "- Many older adults struggle with technology, limiting their ability to access essential services like telehealth and online banking.\n",
    "- To help bridge this gap, I can volunteer at local libraries or community centers to teach basic digital skills and internet safety.\n",
    "- Additionally, I can advocate for policies that expand affordable broadband access and support initiatives that provide free or low-cost devices to underserved populations.\n",
    "\n",
    "\n",
    "\n",
    "\n",
    "\n",
    "\n",
    "\n"
   ]
  },
  {
   "cell_type": "markdown",
   "metadata": {},
   "source": [
    "### Beneficial and Harmful Effects Homework Hack\n",
    "- Technology is beneficial because it improves communication, allowing people to connect instantly through phones, video calls, and social media.\n",
    "- It also enhances education by providing online learning platforms, digital resources, and access to information from anywhere in the world.\n",
    "- In healthcare, technology plays a crucial role in telemedicine, medical research, and wearable devices that help monitor and improve patient health.\n",
    "- Additionally, technology increases efficiency in workplaces by automating tasks, improving productivity, and creating new job opportunities.\n",
    "- Despite some challenges, technology remains highly beneficial because it makes life more convenient, expands knowledge, and connects people globally.\n",
    "\n",
    "### Popcorn Hack 1\n",
    "- Beneficial effects are a result of technological advancements\n",
    "- And harmful effects are potential dilemmas that may arise with the advancements of technology. \n",
    "\n",
    "### Popcorn Hack 2\n",
    "- Science and Technolgy is the most beneficial effect out of these because it has helped important sectors in society such as Education to develop. With the development of science and tech, more people around the world are able to get easy access to education and develop together. \n",
    "\n",
    "### Popcorn Hack 3\n",
    "- Artificial Intelligence is a dilemma thats more harmful than beneficial especially in a educational setting. Ai dwindles the ability to learn for children and makes them less understanding to new sources of information. "
   ]
  },
  {
   "cell_type": "markdown",
   "metadata": {},
   "source": [
    "### Computing Bias Homework\n",
    "- Explain the difference between implicit and explicit data. Provide an example of each.\n",
    "- **Explicit Data**: Directly provided by users.  \n",
    "  - *Example*: A user enters their birthdate on a website.  \n",
    "\n",
    "- **Implicit Data**: Collected through behavior.  \n",
    "  - *Example*: A website tracks pages a user visits."
   ]
  }
 ],
 "metadata": {
  "language_info": {
   "name": "python"
  }
 },
 "nbformat": 4,
 "nbformat_minor": 2
}
