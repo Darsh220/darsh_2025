{
 "cells": [
  {
   "cell_type": "markdown",
   "id": "c6c111d3",
   "metadata": {},
   "source": [
    "---\n",
    "layout: post\n",
    "title: Binary Search\n",
    "description: HW Hacks\n",
    "courses: { csp: {week: 5} }\n",
    "comments: true\n",
    "sticky_rank: 1\n",
    "---"
   ]
  },
  {
   "cell_type": "markdown",
   "id": "3b0cc3ed",
   "metadata": {
    "vscode": {
     "languageId": "plaintext"
    }
   },
   "source": [
    "### Popcorn Hack 1: Benefits of Using Lists\n",
    "\n",
    "#### Benefits of Using Lists\n",
    "1. **Orderly Storage**: Lists help store multiple items in an orderly manner, preserving the sequence.\n",
    "2. **Easy Access**: You can easily access and modify elements using an index.\n",
    "3. **Dynamic Size**: Unlike arrays, lists can dynamically grow or shrink in size.\n",
    "4. **Efficient Searching**: Lists allow for fast searching of elements, especially in sorted or indexed forms.\n",
    "5. **Versatile**: Lists can store elements of any data type, making them highly versatile.\n",
    "6. **Iterability**: Lists can be looped through, making them ideal for repetitive tasks or processing.\n",
    "\n",
    "#### Real-World Examples of Lists in Code\n",
    "\n",
    "1. **Shopping Cart** (E-commerce sites):  \n",
    "   A list can store all the items added to a shopping cart, such as:\n",
    "   ```python\n",
    "   shopping_cart = [\"apple\", \"banana\", \"chocolate\", \"toothpaste\"]\n"
   ]
  },
  {
   "cell_type": "markdown",
   "id": "e16d948d",
   "metadata": {},
   "source": [
    "### Popcorn Hack 2\n",
    "eraser\n"
   ]
  },
  {
   "cell_type": "markdown",
   "id": "d7a9ab13",
   "metadata": {},
   "source": [
    "## Popcorn Hack 3\n",
    "### Popcorn Hack 3: Real-World Examples of Filtering Algorithms\n",
    "\n",
    "### 1. **Spam Email Filters**\n",
    "   - **Description**: Email services like Gmail use filtering algorithms to classify emails as spam or not based on content and patterns.\n",
    "   - **Example**: Gmail’s spam filter which flags emails containing suspicious keywords or known spam addresses.\n",
    "\n",
    "### 2. **Content Recommendation Systems**\n",
    "   - **Description**: Streaming platforms like Netflix use filtering algorithms to recommend movies and shows based on user preferences and viewing history.\n",
    "   - **Example**: Netflix’s recommendation system that suggests content like “Top Picks for You” based on past views.\n",
    "\n",
    "### 3. **E-commerce Product Filters**\n",
    "   - **Description**: Online stores like Amazon use filtering algorithms to help users narrow product choices by attributes such as price, brand, and customer ratings.\n",
    "   - **Example**: Amazon’s product filtering system where users can sort by price, reviews, or availability.\n"
   ]
  },
  {
   "cell_type": "markdown",
   "id": "8a5bdd27",
   "metadata": {},
   "source": [
    "### Homework Hacks - Python Notebook\n",
    "\n",
    "#### Step 1: Create a list with at least five items\n",
    "items = [\"pen\", \"notebook\", \"pencil\", \"eraser\", \"sharpener\"]\n",
    "\n",
    "#### List Procedures:\n",
    "#### 1. Append a new item to the list\n",
    "items.append(\"stapler\")  # Adding 'stapler' to the list\n",
    "#### 2. Remove an item from the list\n",
    "items.remove(\"pencil\")  # Removing 'pencil' from the list\n",
    "#### 3. Insert an item at a specific index\n",
    "items.insert(2, \"marker\")  # Inserting 'marker' at index 2\n",
    "\n",
    "#### Step 2: List Traversal\n",
    "#### We will traverse the list and print each item one at a time using a for loop\n",
    "\n",
    "#### Traversal using a for loop\n",
    "for item in items:\n",
    "    print(item)\n",
    "\n",
    "#### Step 3: Filtering Algorithm (Pandas Database Filtering)\n",
    "import pandas as pd\n",
    "\n",
    "#### Creating a DataFrame from the list\n",
    "df = pd.DataFrame(items, columns=[\"items\"])\n",
    "\n",
    "#### Define a condition (e.g., items that contain the letter 'e')\n",
    "condition = df['items'].str.contains('e')\n",
    "\n",
    "#### Apply the condition and create a new list with only the items that meet the condition\n",
    "filtered_items = df[condition]\n",
    "\n",
    "#### Display the filtered items\n",
    "filtered_items\n",
    "\n",
    "#### Final Reflection\n",
    "reflection = \"\"\"\n",
    "Filtering algorithms are used in real life to sift through large datasets to find specific information that meets certain criteria. \n",
    "For example, in e-commerce, filtering algorithms are used to show customers only products that match their search preferences or conditions.\n",
    "\"\"\"\n",
    "reflection\n"
   ]
  }
 ],
 "metadata": {
  "language_info": {
   "name": "python"
  }
 },
 "nbformat": 4,
 "nbformat_minor": 5
}
