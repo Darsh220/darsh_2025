{
 "cells": [
  {
   "cell_type": "raw",
   "id": "efa2f6aa",
   "metadata": {},
   "source": [
    "---\n",
    "layout: post\n",
    "title: Important Lesson - Logic Gates\n",
    "description: Important lessons to understand\n",
    "courses: { csp: {week: 5} }\n",
    "comments: true\n",
    "sticky_rank: 1\n",
    "---"
   ]
  },
  {
   "cell_type": "markdown",
   "id": "d59d6775",
   "metadata": {},
   "source": [
    "#### Notes \n",
    "- Binary is a number system using 0's and 1's\n",
    "- it is the language of the computers. \n",
    "\n",
    "### Popcorn Hack 1\n",
    "1. This is binary\n",
    "2. This is not binary because it doesn't include 1's and 0's\n",
    "3. 25 and the number is binary\n",
    "\n",
    "### Popcorn Hack 2\n",
    "1. 101+110 = 1011\n",
    "2. 1101 - 1011 = 010\n",
    "3. 111 + 1001 = 1110\n",
    "\n",
    "### Popcorn Hack 1\n",
    "True becasue AND has higher priority than the OR\n",
    "\n",
    "### Popcorn Hack 2\n",
    "False because the NOT operator is evaluated first and then the AND operator. \n",
    "\n",
    "### Popcorn Hack 3\n",
    "True because the AND and NOT operators are evaluated first due to their high priority\n",
    "\n",
    "\n",
    "\n"
   ]
  },
  {
   "cell_type": "markdown",
   "id": "f48f82bf",
   "metadata": {},
   "source": [
    "### Homework Hacks\n",
    "\n",
    "#### Homework Hack 1: Binary Converter\n",
    "\n",
    "#### Instructions:\n",
    "- Create a function to convert a decimal number to binary.\n",
    "- Create a function to convert a binary string back to decimal.\n",
    "- Test your functions with positive and negative numbers.\n",
    "\n",
    "#### Code:\n",
    "\n",
    "```python\n",
    "# Function to convert decimal to binary\n",
    "def decimal_to_binary(n):\n",
    "    if n >= 0:\n",
    "        return bin(n)[2:]  # Remove the '0b' prefix\n",
    "    else:\n",
    "        return '-' + bin(n)[3:]  # Handle negative numbers\n",
    "\n",
    "# Function to convert binary to decimal\n",
    "def binary_to_decimal(b):\n",
    "    if b.startswith('-'):\n",
    "        return -int(b[1:], 2)\n",
    "    else:\n",
    "        return int(b, 2)\n",
    "\n",
    "# Test Cases\n",
    "print(decimal_to_binary(10))   # Output: 1010\n",
    "print(binary_to_decimal(\"1010\"))  # Output: 10\n",
    "print(decimal_to_binary(-10))  # Output: -1010\n",
    "print(binary_to_decimal(\"-1010\"))  # Output: -10\n"
   ]
  },
  {
   "cell_type": "code",
   "execution_count": null,
   "id": "5ed8ea3f",
   "metadata": {},
   "outputs": [],
   "source": [
    "while difficulty != \"easy\" or difficulty != \"medium\" or difficulty != \"hard\":\n"
   ]
  },
  {
   "cell_type": "code",
   "execution_count": null,
   "id": "9a20eced",
   "metadata": {},
   "outputs": [],
   "source": [
    "import time\n",
    "\n",
    "difficulty = input(\"Enter difficulty (easy, medium, hard): \").lower().strip()\n",
    "\n",
    "while difficulty != \"easy\" and difficulty != \"medium\" and difficulty != \"hard\":\n",
    "    print(\"Please enter a valid difficulty level.\")\n",
    "    difficulty = input(\"Enter difficulty (easy, medium, hard): \").lower().strip()\n",
    "    time.sleep(0.5)\n",
    "\n",
    "print(\"Difficulty set to:\", difficulty)\n"
   ]
  },
  {
   "cell_type": "code",
   "execution_count": 3,
   "id": "4fd4dedd",
   "metadata": {},
   "outputs": [
    {
     "name": "stdout",
     "output_type": "stream",
     "text": [
      "darsh's grade added.\n",
      "robert's grade added.\n",
      "avg's grade added.\n",
      "Class average: 84.00\n",
      "Goodbye!\n"
     ]
    }
   ],
   "source": [
    "grades = []\n",
    "\n",
    "def add_grade(name: str, score: int):\n",
    "    grades.append((name, score))\n",
    "\n",
    "def calculate_average() -> float:\n",
    "    total = 0\n",
    "    for entry in grades:\n",
    "        total += entry[1]\n",
    "    return total / len(grades)\n",
    "\n",
    "def main():\n",
    "    while True:\n",
    "        action = input(\"Type 'add' to add a grade, 'avg' to see average, or 'exit' to quit: \")\n",
    "        if action == \"add\":\n",
    "            name = input(\"Enter student name: \")\n",
    "            score = int(input(\"Enter grade: \"))\n",
    "            add_grade(name, score)\n",
    "            print(f\"{name}'s grade added.\")\n",
    "        elif action == \"avg\":\n",
    "            if grades:\n",
    "                avg = calculate_average()\n",
    "                print(f\"Class average: {avg:.2f}\")\n",
    "            else:\n",
    "                print(\"No grades yet.\")\n",
    "        elif action == \"exit\":\n",
    "            print(\"Goodbye!\")\n",
    "            break\n",
    "        else:\n",
    "            print(\"Invalid input. Try again.\")\n",
    "\n",
    "main()\n",
    "\n",
    "    "
   ]
  }
 ],
 "metadata": {
  "kernelspec": {
   "display_name": "venv",
   "language": "python",
   "name": "python3"
  },
  "language_info": {
   "codemirror_mode": {
    "name": "ipython",
    "version": 3
   },
   "file_extension": ".py",
   "mimetype": "text/x-python",
   "name": "python",
   "nbconvert_exporter": "python",
   "pygments_lexer": "ipython3",
   "version": "3.12.3"
  }
 },
 "nbformat": 4,
 "nbformat_minor": 5
}
