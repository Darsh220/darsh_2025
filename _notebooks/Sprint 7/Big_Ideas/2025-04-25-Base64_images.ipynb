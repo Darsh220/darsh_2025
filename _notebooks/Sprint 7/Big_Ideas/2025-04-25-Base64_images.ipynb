{
 "cells": [
  {
   "cell_type": "markdown",
   "id": "9fa96f62",
   "metadata": {},
   "source": [
    "---\n",
    "layout: post\n",
    "title: Homework and Popcorn Hacks for Base64 and Images Lesson\n",
    "description: .\n",
    "courses: { csp: {week: 5} }\n",
    "comments: true\n",
    "---"
   ]
  },
  {
   "cell_type": "markdown",
   "id": "b7727698",
   "metadata": {},
   "source": [
    "### Popcorn Hack 1\n",
    "1. png\n",
    "2. jpg/jpeg\n",
    "3. gif"
   ]
  },
  {
   "cell_type": "markdown",
   "id": "5897ba48",
   "metadata": {},
   "source": [
    "### Popcorn Hack 2 - Decode This!\n"
   ]
  },
  {
   "cell_type": "markdown",
   "id": "f495e62f",
   "metadata": {
    "vscode": {
     "languageId": "bat"
    }
   },
   "source": [
    "1. 1011\n",
    "2. 010\n",
    "3. 1110"
   ]
  },
  {
   "cell_type": "markdown",
   "id": "685f334b",
   "metadata": {},
   "source": [
    "## Popcorn Hack 1\n",
    "### What will be the result of this expression?\n",
    "True or False and False\n",
    "result:True\n",
    "\n",
    "## Popcorn Hack 2\n",
    "### What will be the result of this expression?\n",
    "not True and False\n",
    "result:False\n",
    "\n",
    "## Popcorn Hack 3\n",
    "### What will be the result of this expression?\n",
    "True or False and not False\n",
    "result:True"
   ]
  },
  {
   "cell_type": "markdown",
   "id": "1c2ed57f",
   "metadata": {},
   "source": [
    "### Homework Hack Binary Converter"
   ]
  },
  {
   "cell_type": "code",
   "execution_count": 1,
   "id": "20d65f9f",
   "metadata": {},
   "outputs": [
    {
     "name": "stdout",
     "output_type": "stream",
     "text": [
      "Decimal to Binary:\n",
      "10 → 1010\n",
      "-10 → -1010\n",
      "0 → 0\n",
      "255 → 11111111\n",
      "-255 → -11111111\n",
      "\n",
      "Binary to Decimal:\n",
      "1010 → 10\n",
      "-1010 → -10\n",
      "0 → 0\n",
      "11111111 → 255\n",
      "-11111111 → -255\n"
     ]
    }
   ],
   "source": [
    "def decimal_to_binary(n):\n",
    "    \"\"\"Convert a decimal number to a binary string.\"\"\"\n",
    "    if n == 0:\n",
    "        return \"0\"\n",
    "    is_negative = n < 0\n",
    "    n = abs(n)\n",
    "    binary = \"\"\n",
    "    while n > 0:\n",
    "        binary = str(n % 2) + binary\n",
    "        n //= 2\n",
    "    return \"-\" + binary if is_negative else binary\n",
    "\n",
    "def binary_to_decimal(binary_str):\n",
    "    \"\"\"Convert a binary string to a decimal number.\"\"\"\n",
    "    is_negative = binary_str.startswith(\"-\")\n",
    "    if is_negative:\n",
    "        binary_str = binary_str[1:]\n",
    "    decimal = 0\n",
    "    for digit in binary_str:\n",
    "        decimal = decimal * 2 + int(digit)\n",
    "    return -decimal if is_negative else decimal\n",
    "\n",
    "# Test cases\n",
    "test_decimals = [10, -10, 0, 255, -255]\n",
    "test_binaries = [\"1010\", \"-1010\", \"0\", \"11111111\", \"-11111111\"]\n",
    "\n",
    "print(\"Decimal to Binary:\")\n",
    "for dec in test_decimals:\n",
    "    print(f\"{dec} → {decimal_to_binary(dec)}\")\n",
    "\n",
    "print(\"\\nBinary to Decimal:\")\n",
    "for bin_str in test_binaries:\n",
    "    print(f\"{bin_str} → {binary_to_decimal(bin_str)}\")\n"
   ]
  },
  {
   "cell_type": "markdown",
   "id": "54a54e34",
   "metadata": {},
   "source": [
    "### Homework Hack 2: Difficulty Level Checker"
   ]
  },
  {
   "cell_type": "code",
   "execution_count": 2,
   "id": "7e4eecab",
   "metadata": {},
   "outputs": [
    {
     "name": "stdout",
     "output_type": "stream",
     "text": [
      "Difficulty set to: easy\n"
     ]
    }
   ],
   "source": [
    "import time\n",
    "\n",
    "difficulty = input(\"Enter difficulty (easy, medium, hard): \").lower().strip()\n",
    "\n",
    "while difficulty not in [\"easy\", \"medium\", \"hard\"]:\n",
    "    print(\"Please enter a valid difficulty level.\")\n",
    "    time.sleep(0.5)\n",
    "    difficulty = input(\"Enter difficulty (easy, medium, hard): \").lower().strip()\n",
    "\n",
    "print(\"Difficulty set to:\", difficulty)\n"
   ]
  }
 ],
 "metadata": {
  "kernelspec": {
   "display_name": "venv",
   "language": "python",
   "name": "python3"
  },
  "language_info": {
   "codemirror_mode": {
    "name": "ipython",
    "version": 3
   },
   "file_extension": ".py",
   "mimetype": "text/x-python",
   "name": "python",
   "nbconvert_exporter": "python",
   "pygments_lexer": "ipython3",
   "version": "3.12.3"
  }
 },
 "nbformat": 4,
 "nbformat_minor": 5
}
