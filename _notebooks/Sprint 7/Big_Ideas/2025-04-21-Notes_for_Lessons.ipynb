{
 "cells": [
  {
   "cell_type": "markdown",
   "id": "febf8dbb",
   "metadata": {},
   "source": [
    "---\n",
    "layout: post\n",
    "title: Popcorn Hacks for Yash Group\n",
    "description: Notes from other lessons \n",
    "courses: { csp: {week: 5} }\n",
    "comments: true\n",
    "sticky_rank: 1\n",
    "---"
   ]
  },
  {
   "cell_type": "markdown",
   "id": "c74311d7",
   "metadata": {},
   "source": [
    "### Random Popcorn Hack 1\n",
    "- Cryptography:\n",
    "    - Random numbers are critical for generating secure encryption keys. If the numbers aren't truly random, it becomes easier for attackers to guess or reproduce the key, compromising data security.\n",
    "\n",
    "- Simulations (e.g., weather forecasting, financial modeling):\n",
    "    - Random numbers are used to simulate a wide range of possible outcomes in complex systems. For example, in Monte Carlo simulations, random inputs are used to model uncertainty and make predictions based on probability."
   ]
  },
  {
   "cell_type": "markdown",
   "id": "5315c76d",
   "metadata": {},
   "source": [
    "### Random Popcorn Hack 2\n"
   ]
  },
  {
   "cell_type": "code",
   "execution_count": 4,
   "id": "72a19bf8",
   "metadata": {},
   "outputs": [
    {
     "name": "stdout",
     "output_type": "stream",
     "text": [
      "Ask again later\n",
      "No\n",
      "Yes\n",
      "No\n",
      "Yes\n",
      "Yes\n",
      "No\n",
      "No\n",
      "Yes\n",
      "Ask again later\n"
     ]
    }
   ],
   "source": [
    "import random\n",
    "\n",
    "def magic_8_ball():\n",
    "    roll = random.random()  # Returns a float between 0.0 and 1.0\n",
    "    if roll < 0.5:\n",
    "        return \"Yes\"\n",
    "    elif roll < 0.75:\n",
    "        return \"No\"\n",
    "    else:\n",
    "        return \"Ask again later\"\n",
    "\n",
    "# Example usage\n",
    "for _ in range(10):\n",
    "    print(magic_8_ball())\n"
   ]
  },
  {
   "cell_type": "markdown",
   "id": "67986300",
   "metadata": {},
   "source": [
    "### Random Popcorn Hack 3\n"
   ]
  },
  {
   "cell_type": "code",
   "execution_count": 5,
   "id": "26f75cc8",
   "metadata": {},
   "outputs": [
    {
     "name": "stdout",
     "output_type": "stream",
     "text": [
      "Time 0: Green\n",
      "Time 1: Green\n",
      "Time 2: Green\n",
      "Time 3: Green\n",
      "Time 4: Green\n",
      "Time 5: Yellow\n",
      "Time 6: Yellow\n",
      "Time 7: Red\n",
      "Time 8: Red\n",
      "Time 9: Red\n",
      "Time 10: Red\n",
      "Time 11: Green\n",
      "Time 12: Green\n",
      "Time 13: Green\n",
      "Time 14: Green\n",
      "Time 15: Green\n",
      "Time 16: Yellow\n",
      "Time 17: Yellow\n",
      "Time 18: Red\n",
      "Time 19: Red\n"
     ]
    }
   ],
   "source": [
    "# Traffic light simulation (updated durations)\n",
    "\n",
    "states = [\"Green\", \"Yellow\", \"Red\"]\n",
    "durations = {\"Green\": 5, \"Yellow\": 2, \"Red\": 4}\n",
    "timeline = []\n",
    "\n",
    "# Simulate 20 time steps\n",
    "time = 0\n",
    "state = \"Green\"\n",
    "counter = 0\n",
    "\n",
    "while time < 20:\n",
    "    timeline.append((time, state))\n",
    "    counter += 1\n",
    "    if counter == durations[state]:\n",
    "        counter = 0\n",
    "        current_index = states.index(state)\n",
    "        state = states[(current_index + 1) % len(states)]\n",
    "    time += 1\n",
    "\n",
    "for t, s in timeline:\n",
    "    print(f\"Time {t}: {s}\")\n"
   ]
  },
  {
   "cell_type": "markdown",
   "id": "a48d6e19",
   "metadata": {},
   "source": [
    "### Random HW Hack 1\n"
   ]
  },
  {
   "cell_type": "code",
   "execution_count": 6,
   "id": "b88356f3",
   "metadata": {},
   "outputs": [
    {
     "name": "stdout",
     "output_type": "stream",
     "text": [
      "You rolled: 6 + 6 = 12\n",
      "You lose!\n",
      "\n",
      "Wins: 0 | Losses: 1\n",
      "You rolled: 4 + 4 = 8\n",
      "Point is set to: 8\n",
      "You rolled: 6 + 4 = 10\n",
      "You rolled: 2 + 5 = 7\n",
      "You rolled a 7. You lose!\n",
      "\n",
      "Wins: 0 | Losses: 2\n",
      "Thanks for playing!\n"
     ]
    }
   ],
   "source": [
    "import random\n",
    "\n",
    "def roll_dice():\n",
    "    return random.randint(1, 6), random.randint(1, 6)\n",
    "\n",
    "def play_game():\n",
    "    wins = 0\n",
    "    losses = 0\n",
    "\n",
    "    while True:\n",
    "        input(\"\\nPress Enter to roll the dice...\")\n",
    "        die1, die2 = roll_dice()\n",
    "        total = die1 + die2\n",
    "        print(f\"You rolled: {die1} + {die2} = {total}\")\n",
    "\n",
    "        if total in [7, 11]:\n",
    "            print(\"You win!\")\n",
    "            wins += 1\n",
    "        elif total in [2, 3, 12]:\n",
    "            print(\"You lose!\")\n",
    "            losses += 1\n",
    "        else:\n",
    "            point = total\n",
    "            print(f\"Point is set to: {point}\")\n",
    "            while True:\n",
    "                input(\"Rolling again...\")\n",
    "                die1, die2 = roll_dice()\n",
    "                total = die1 + die2\n",
    "                print(f\"You rolled: {die1} + {die2} = {total}\")\n",
    "                if total == point:\n",
    "                    print(\"You hit the point! You win!\")\n",
    "                    wins += 1\n",
    "                    break\n",
    "                elif total == 7:\n",
    "                    print(\"You rolled a 7. You lose!\")\n",
    "                    losses += 1\n",
    "                    break\n",
    "\n",
    "        print(f\"\\nWins: {wins} | Losses: {losses}\")\n",
    "        play_again = input(\"Play again? (y/n): \").strip().lower()\n",
    "        if play_again != 'y':\n",
    "            print(\"Thanks for playing!\")\n",
    "            break\n",
    "\n",
    "if __name__ == \"__main__\":\n",
    "    play_game()\n"
   ]
  },
  {
   "cell_type": "markdown",
   "id": "a5b01ad1",
   "metadata": {},
   "source": [
    "### Big O Popcorn Hack 1\n",
    "1 and 2 are the fastest method to check if a number is even or odd because\n",
    "- the fist option is good because it checks wether the number is even or not when divided by 2 and returns 0 if it is even. It is typically the method used to determine wether a number is even or not\n",
    "- the second option is also good because it works for integers and is efficient when numbers are being handled as strings or focusing on digit patterns\n"
   ]
  },
  {
   "cell_type": "markdown",
   "id": "3b4e2112",
   "metadata": {},
   "source": [
    "### Big O popcorn Hack 2\n",
    "When doing a binary search with 100,000,000, the search time for binary is about 36,690 times faster and it almost doubles if it is increased to 56,609 times faster"
   ]
  },
  {
   "cell_type": "code",
   "execution_count": 7,
   "id": "8f18de8a",
   "metadata": {},
   "outputs": [
    {
     "name": "stdout",
     "output_type": "stream",
     "text": [
      "Testing with data size: 20000000\n",
      "Linear search: 7.058757 seconds\n",
      "Binary search: 0.000125 seconds\n",
      "Binary search is approximately 56609x faster\n"
     ]
    }
   ],
   "source": [
    "\n",
    "import time\n",
    "import random\n",
    "\n",
    "# Generate a large sorted list\n",
    "data_size = 20000000\n",
    "sorted_data = sorted(random.sample(range(100000000), data_size))\n",
    "\n",
    "# Target to find (worst case for linear search)\n",
    "target = sorted_data[-1]  # Last element\n",
    "\n",
    "# O(n) - Linear Search\n",
    "def linear_search(arr, target):\n",
    "    for i, element in enumerate(arr):\n",
    "        if element == target:\n",
    "            return i\n",
    "    return -1\n",
    "\n",
    "# O(log n) - Binary Search\n",
    "def binary_search(arr, target):\n",
    "    left, right = 0, len(arr) - 1\n",
    "    \n",
    "    while left <= right:\n",
    "        mid = (left + right) // 2\n",
    "        if arr[mid] == target:\n",
    "            return mid\n",
    "        elif arr[mid] < target:\n",
    "            left = mid + 1\n",
    "        else:\n",
    "            right = mid - 1\n",
    "    \n",
    "    return -1\n",
    "\n",
    "# Compare performance\n",
    "print(\"Testing with data size:\", data_size)\n",
    "\n",
    "start = time.time()\n",
    "linear_result = linear_search(sorted_data, target)\n",
    "linear_time = time.time() - start\n",
    "print(f\"Linear search: {linear_time:.6f} seconds\")\n",
    "\n",
    "start = time.time()\n",
    "binary_result = binary_search(sorted_data, target)\n",
    "binary_time = time.time() - start\n",
    "print(f\"Binary search: {binary_time:.6f} seconds\")\n",
    "\n",
    "print(f\"Binary search is approximately {linear_time/binary_time:.0f}x faster\")"
   ]
  },
  {
   "cell_type": "markdown",
   "id": "6e1c61f5",
   "metadata": {},
   "source": [
    "### Big O Homework Hack 1\n"
   ]
  },
  {
   "cell_type": "code",
   "execution_count": 8,
   "id": "0bd21bc6",
   "metadata": {},
   "outputs": [
    {
     "name": "stdout",
     "output_type": "stream",
     "text": [
      "Bubble Sort time: 0.000664 seconds\n",
      "Merge Sort time: 0.000369 seconds\n",
      "Merge Sort is faster.\n",
      "\n",
      "Final Question Answer:\n",
      "Merge Sort consistently outperforms Bubble Sort because it uses a divide-and-conquer strategy, reducing the problem size significantly at each step. Bubble Sort, on the other hand, repeatedly compares and swaps adjacent elements, resulting in much higher time complexity, especially as the list size grows.\n"
     ]
    }
   ],
   "source": [
    "import random\n",
    "import time\n",
    "\n",
    "# Bubble Sort function\n",
    "def bubble_sort(arr):\n",
    "    n = len(arr)\n",
    "    for i in range(n):\n",
    "        for j in range(0, n - i - 1):\n",
    "            if arr[j] > arr[j + 1]:\n",
    "                arr[j], arr[j + 1] = arr[j + 1], arr[j]\n",
    "\n",
    "# Merge Sort function\n",
    "def merge_sort(arr):\n",
    "    if len(arr) > 1:\n",
    "        mid = len(arr) // 2\n",
    "        L = arr[:mid]\n",
    "        R = arr[mid:]\n",
    "\n",
    "        merge_sort(L)\n",
    "        merge_sort(R)\n",
    "\n",
    "        i = j = k = 0\n",
    "\n",
    "        # Merge the temp arrays\n",
    "        while i < len(L) and j < len(R):\n",
    "            if L[i] < R[j]:\n",
    "                arr[k] = L[i]\n",
    "                i += 1\n",
    "            else:\n",
    "                arr[k] = R[j]\n",
    "                j += 1\n",
    "            k += 1\n",
    "\n",
    "        # Check for any remaining elements\n",
    "        while i < len(L):\n",
    "            arr[k] = L[i]\n",
    "            i += 1\n",
    "            k += 1\n",
    "\n",
    "        while j < len(R):\n",
    "            arr[k] = R[j]\n",
    "            j += 1\n",
    "            k += 1\n",
    "\n",
    "# Generate 100 random numbers between 1 and 1000\n",
    "original_list = [random.randint(1, 1000) for _ in range(100)]\n",
    "\n",
    "# Bubble Sort timing\n",
    "bubble_list = original_list.copy()\n",
    "start_bubble = time.time()\n",
    "bubble_sort(bubble_list)\n",
    "end_bubble = time.time()\n",
    "bubble_time = end_bubble - start_bubble\n",
    "\n",
    "# Merge Sort timing\n",
    "merge_list = original_list.copy()\n",
    "start_merge = time.time()\n",
    "merge_sort(merge_list)\n",
    "end_merge = time.time()\n",
    "merge_time = end_merge - start_merge\n",
    "\n",
    "# Output results\n",
    "print(f\"Bubble Sort time: {bubble_time:.6f} seconds\")\n",
    "print(f\"Merge Sort time: {merge_time:.6f} seconds\")\n",
    "\n",
    "if bubble_time < merge_time:\n",
    "    print(\"Bubble Sort is faster.\")\n",
    "else:\n",
    "    print(\"Merge Sort is faster.\")\n",
    "\n",
    "# Final Question Answer\n",
    "print(\"\\nFinal Question Answer:\")\n",
    "print(\"Merge Sort consistently outperforms Bubble Sort because it uses a divide-and-conquer strategy, reducing the problem size significantly at each step. Bubble Sort, on the other hand, repeatedly compares and swaps adjacent elements, resulting in much higher time complexity, especially as the list size grows.\")\n"
   ]
  },
  {
   "cell_type": "markdown",
   "id": "b7299fd1",
   "metadata": {},
   "source": [
    "### Big O Homework Hack 2\n"
   ]
  },
  {
   "cell_type": "code",
   "execution_count": 9,
   "id": "289f2b39",
   "metadata": {},
   "outputs": [
    {
     "name": "stdout",
     "output_type": "stream",
     "text": [
      "Target number: 45948\n",
      "Linear Search comparisons: 45948\n",
      "Binary Search comparisons: 17\n",
      "\n",
      "Final Questions:\n",
      "1. Which search algorithm is faster, and why?\n",
      "   ➤ Binary Search is faster because it divides the search range in half with each step, resulting in logarithmic time complexity (O(log n)), whereas Linear Search checks one element at a time (O(n)).\n",
      "\n",
      "2. What happens if you run both searches on an unsorted list?\n",
      "   ➤ Linear Search will still work correctly because it doesn't rely on any order. Binary Search, however, will produce incorrect results or fail entirely unless the list is sorted.\n"
     ]
    }
   ],
   "source": [
    "import random\n",
    "\n",
    "# Linear Search function with comparison count\n",
    "def linear_search(arr, target):\n",
    "    comparisons = 0\n",
    "    for i in range(len(arr)):\n",
    "        comparisons += 1\n",
    "        if arr[i] == target:\n",
    "            return i, comparisons\n",
    "    return -1, comparisons\n",
    "\n",
    "# Binary Search function with comparison count\n",
    "def binary_search(arr, target):\n",
    "    low = 0\n",
    "    high = len(arr) - 1\n",
    "    comparisons = 0\n",
    "\n",
    "    while low <= high:\n",
    "        comparisons += 1\n",
    "        mid = (low + high) // 2\n",
    "        if arr[mid] == target:\n",
    "            return mid, comparisons\n",
    "        elif arr[mid] < target:\n",
    "            low = mid + 1\n",
    "        else:\n",
    "            high = mid - 1\n",
    "\n",
    "    return -1, comparisons\n",
    "\n",
    "# Generate a sorted list of 100,000 numbers from 1 to 100,000\n",
    "sorted_list = list(range(1, 100001))\n",
    "\n",
    "# Pick a random number from the list\n",
    "target_number = random.choice(sorted_list)\n",
    "\n",
    "# Perform searches\n",
    "lin_index, lin_comparisons = linear_search(sorted_list, target_number)\n",
    "bin_index, bin_comparisons = binary_search(sorted_list, target_number)\n",
    "\n",
    "# Output results\n",
    "print(f\"Target number: {target_number}\")\n",
    "print(f\"Linear Search comparisons: {lin_comparisons}\")\n",
    "print(f\"Binary Search comparisons: {bin_comparisons}\")\n",
    "\n",
    "# Final Questions\n",
    "print(\"\\nFinal Questions:\")\n",
    "print(\"1. Which search algorithm is faster, and why?\")\n",
    "print(\"   ➤ Binary Search is faster because it divides the search range in half with each step, resulting in logarithmic time complexity (O(log n)), whereas Linear Search checks one element at a time (O(n)).\")\n",
    "\n",
    "print(\"\\n2. What happens if you run both searches on an unsorted list?\")\n",
    "print(\"   ➤ Linear Search will still work correctly because it doesn't rely on any order. Binary Search, however, will produce incorrect results or fail entirely unless the list is sorted.\")\n"
   ]
  }
 ],
 "metadata": {
  "kernelspec": {
   "display_name": "venv",
   "language": "python",
   "name": "python3"
  },
  "language_info": {
   "codemirror_mode": {
    "name": "ipython",
    "version": 3
   },
   "file_extension": ".py",
   "mimetype": "text/x-python",
   "name": "python",
   "nbconvert_exporter": "python",
   "pygments_lexer": "ipython3",
   "version": "3.12.3"
  }
 },
 "nbformat": 4,
 "nbformat_minor": 5
}
