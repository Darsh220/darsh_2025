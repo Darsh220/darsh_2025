{
 "cells": [
  {
   "cell_type": "markdown",
   "metadata": {},
   "source": [
    "---\n",
    "layout: post\n",
    "title: Homework and Popcorn Hacks for 3.1\n",
    "description: Homeworks and Popcorn Hacks\n",
    "courses: { csp: {week: 1} }\n",
    "comments: true\n",
    "sticky_rank: 1\n",
    "---"
   ]
  },
  {
   "cell_type": "markdown",
   "metadata": {},
   "source": [
    "---\n",
    "### Popcorn Hack 1.1 - Simple Dictionary"
   ]
  },
  {
   "cell_type": "code",
   "execution_count": null,
   "metadata": {},
   "outputs": [],
   "source": [
    "%%js\n",
    "var myDictionary = {\n",
    "    1: \"fruit\",\n",
    "    2: \"fruit\",\n",
    "    3: \"fruit\"\n",
    "};\n",
    "\n",
    "// Accessing a value\n",
    "console.log(\"Fruit with key 2:\", myDictionary[2]); // Output: fruit"
   ]
  },
  {
   "cell_type": "markdown",
   "metadata": {},
   "source": [
    "---\n",
    "### Popcorn Hack 1.2 - Simple Calculator with tweaks"
   ]
  },
  {
   "cell_type": "code",
   "execution_count": 10,
   "metadata": {},
   "outputs": [
    {
     "name": "stdout",
     "output_type": "stream",
     "text": [
      "Welcome to the Math Game!\n",
      "Answer as many questions as you can within the time limit of 10 seconds.\n",
      "Type 'q' to quit at any time.\n",
      "\n",
      "What is 1 + 9?\n"
     ]
    },
    {
     "name": "stdout",
     "output_type": "stream",
     "text": [
      "Correct! Great job!\n",
      "What is 9 - 10?\n",
      "Correct! Great job!\n",
      "What is 7 + 3?\n",
      "Correct! Great job!\n",
      "What is 10 / 1?\n",
      "Correct! Great job!\n",
      "What is 5 * 8?\n",
      "Oops! The correct answer was 40.\n",
      "What is 9 - 2?\n",
      "Correct! Great job!\n",
      "What is 5 / 4?\n",
      "Thanks for playing! Your final score is 5.\n"
     ]
    }
   ],
   "source": [
    "import random\n",
    "import time\n",
    "\n",
    "def play_game():\n",
    "    score = 0\n",
    "    operators = ['+', '-', '*', '/']  # Added division\n",
    "    max_time = 10  # Time limit for each question\n",
    "\n",
    "    print(\"Welcome to the Math Game!\")\n",
    "    print(\"Answer as many questions as you can within the time limit of 10 seconds.\")\n",
    "    print(\"Type 'q' to quit at any time.\\n\")\n",
    "\n",
    "    while True:\n",
    "        # Generate two random numbers and choose a random operator\n",
    "        num1 = random.randint(1, 10)\n",
    "        num2 = random.randint(1, 10)\n",
    "        op = random.choice(operators)\n",
    "\n",
    "        # Calculate the correct answer based on the operator\n",
    "        if op == '+':\n",
    "            answer = num1 + num2\n",
    "        elif op == '-':\n",
    "            answer = num1 - num2\n",
    "        elif op == '*':\n",
    "            answer = num1 * num2\n",
    "        elif op == '/':\n",
    "            # Ensure no division by zero\n",
    "            num2 = random.randint(1, 10)  # Make sure num2 is not zero\n",
    "            answer = round(num1 / num2, 2)  # Round to 2 decimal places\n",
    "\n",
    "        # Ask the player the question\n",
    "        print(f\"What is {num1} {op} {num2}?\")\n",
    "        \n",
    "        start_time = time.time()  # Start the timer\n",
    "        player_input = input(\"Your answer (or type 'q' to quit): \")\n",
    "\n",
    "        # Check if the player wants to quit\n",
    "        if player_input.lower() == 'q':\n",
    "            break\n",
    "\n",
    "        elapsed_time = time.time() - start_time  # Check elapsed time\n",
    "        if elapsed_time > max_time:\n",
    "            print(f\"Time's up! You took too long. The correct answer was {answer}.\")\n",
    "            continue\n",
    "\n",
    "        # Check if the answer is correct\n",
    "        try:\n",
    "            player_answer = float(player_input)  # Use float for division\n",
    "            if abs(player_answer - answer) < 0.01:  # Allow for rounding errors\n",
    "                print(\"Correct! Great job!\")\n",
    "                score += 1\n",
    "            else:\n",
    "                print(f\"Oops! The correct answer was {answer}.\")\n",
    "        except ValueError:\n",
    "            print(\"Invalid input, please enter a number or 'q' to quit.\")\n",
    "\n",
    "    print(f\"Thanks for playing! Your final score is {score}.\")\n",
    "\n",
    "# Start the game\n",
    "play_game()\n"
   ]
  },
  {
   "cell_type": "markdown",
   "metadata": {},
   "source": [
    "---\n",
    "### Popcorn Hack 1.3 - Temperature converter in JS and Python"
   ]
  },
  {
   "cell_type": "code",
   "execution_count": 13,
   "metadata": {},
   "outputs": [
    {
     "data": {
      "application/javascript": "\n// Temperature Converter in JavaScript\nfunction convertTemperature() {\n    let temperature = parseFloat(prompt(\"Enter the temperature:\"));\n    if (isNaN(temperature)) return console.log(\"Invalid number.\");\n\n    let type = prompt(\"Convert to (C)elsius or (F)ahrenheit?\").toUpperCase();\n    let result;\n\n    if (type === \"C\") {\n        result = (temperature - 32) * (5 / 9);\n        console.log(`${temperature}°F = ${result.toFixed(2)}°C`);\n    } else if (type === \"F\") {\n        result = (temperature * (9 / 5)) + 32;\n        console.log(`${temperature}°C = ${result.toFixed(2)}°F`);\n    } else {\n        console.log(\"Invalid type. Use 'C' or 'F'.\");\n    }\n}\n\n// Loop for continuous conversion\ndo {\n    convertTemperature();\n} while (confirm(\"Convert another temperature?\"));\n",
      "text/plain": [
       "<IPython.core.display.Javascript object>"
      ]
     },
     "metadata": {},
     "output_type": "display_data"
    }
   ],
   "source": [
    "%%js\n",
    "\n",
    "// Temperature Converter in JavaScript\n",
    "function convertTemperature() {\n",
    "    let temperature = parseFloat(prompt(\"Enter the temperature:\"));\n",
    "    if (isNaN(temperature)) return console.log(\"Invalid number.\");\n",
    "\n",
    "    let type = prompt(\"Convert to (C)elsius or (F)ahrenheit?\").toUpperCase();\n",
    "    let result;\n",
    "\n",
    "    if (type === \"C\") {\n",
    "        result = (temperature - 32) * (5 / 9);\n",
    "        console.log(`${temperature}°F = ${result.toFixed(2)}°C`);\n",
    "    } else if (type === \"F\") {\n",
    "        result = (temperature * (9 / 5)) + 32;\n",
    "        console.log(`${temperature}°C = ${result.toFixed(2)}°F`);\n",
    "    } else {\n",
    "        console.log(\"Invalid type. Use 'C' or 'F'.\");\n",
    "    }\n",
    "}\n",
    "\n",
    "// Loop for continuous conversion\n",
    "do {\n",
    "    convertTemperature();\n",
    "} while (confirm(\"Convert another temperature?\"));\n"
   ]
  },
  {
   "cell_type": "code",
   "execution_count": 16,
   "metadata": {},
   "outputs": [
    {
     "name": "stdout",
     "output_type": "stream",
     "text": [
      "56.0°F is equal to 13.33°C\n"
     ]
    }
   ],
   "source": [
    "def temperature_converter():\n",
    "    try:\n",
    "        temperature = float(input(\"Enter the temperature: \"))\n",
    "        \n",
    "        conversion_type = input(\"Convert to Celsius (C) or Fahrenheit (F)? \").strip().upper()\n",
    "        if conversion_type == \"C\":\n",
    "            celsius = (temperature - 32) * (5 / 9)\n",
    "            print(f\"{temperature}°F is equal to {celsius:.2f}°C\")\n",
    "        elif conversion_type == \"F\":\n",
    "            fahrenheit = (temperature * (9 / 5)) + 32\n",
    "            print(f\"{temperature}°C is equal to {fahrenheit:.2f}°F\")\n",
    "        else:\n",
    "            print(\"Invalid conversion type entered. Please enter 'C' or 'F'.\")\n",
    "            \n",
    "    except ValueError:\n",
    "        print(\"Invalid input. Please enter a numeric temperature value.\")\n",
    "temperature_converter()\n"
   ]
  },
  {
   "cell_type": "markdown",
   "metadata": {},
   "source": [
    "---\n",
    "### Popcorn Hack 4.1"
   ]
  },
  {
   "cell_type": "code",
   "execution_count": 23,
   "metadata": {},
   "outputs": [
    {
     "data": {
      "application/javascript": "let favoritesong = \"Misses\";\nlet favoritecar = \"Mercedes G-Wagon\";\nlet foodtype = \"Dessert\";\n\nlet concatenatedmessage = \"My Favorite song is\" + favoritesong + \"I love the\" + favoritecar + \"and my favorite type of food is\" + foodtype\nconsole.log(concatenatedmessage)\n",
      "text/plain": [
       "<IPython.core.display.Javascript object>"
      ]
     },
     "metadata": {},
     "output_type": "display_data"
    }
   ],
   "source": [
    "%%javascript\n",
    "let favoritesong = \"Misses\";\n",
    "let favoritecar = \"Mercedes G-Wagon\";\n",
    "let foodtype = \"Dessert\";\n",
    "\n",
    "let concatenatedmessage = \"My Favorite song is\" + favoritesong + \"I love the\" + favoritecar + \"and my favorite type of food is\" + foodtype\n",
    "console.log(concatenatedmessage)\n"
   ]
  },
  {
   "cell_type": "markdown",
   "metadata": {},
   "source": [
    "---\n",
    "### Popcorn Hack 4.2"
   ]
  },
  {
   "cell_type": "code",
   "execution_count": 25,
   "metadata": {},
   "outputs": [
    {
     "data": {
      "application/javascript": "let phrase = \"Its not about the destination its about the journey and how you goth there\";\nlet partOne = phrase.slice(2, 8);\nlet partTwo = phrase.slice(-18,-12);\nlet remainder = phrase.slice(20);\nconsole.log(partOne);\nconsole.log(partTwo);\nconsole.log(remainder);\n",
      "text/plain": [
       "<IPython.core.display.Javascript object>"
      ]
     },
     "metadata": {},
     "output_type": "display_data"
    }
   ],
   "source": [
    "%%js\n",
    "let phrase = \"Its not about the destination its about the journey and how you goth there\";\n",
    "let partOne = phrase.slice(2, 8);\n",
    "let partTwo = phrase.slice(-18,-12);\n",
    "let remainder = phrase.slice(20);\n",
    "console.log(partOne);\n",
    "console.log(partTwo);\n",
    "console.log(remainder);"
   ]
  },
  {
   "cell_type": "markdown",
   "metadata": {},
   "source": [
    "---\n",
    "### Popcorn Hack 4.3"
   ]
  },
  {
   "cell_type": "code",
   "execution_count": 29,
   "metadata": {},
   "outputs": [
    {
     "name": "stdout",
     "output_type": "stream",
     "text": [
      "I love plying Bminton\n"
     ]
    }
   ],
   "source": [
    "def removal_vowels(input_str):\n",
    "    vowels = \"darshDARSH\"\n",
    "    result = ''.join([char for char in input_str if char not in vowels])\n",
    "    return result\n",
    "\n",
    "sentence = \"I love playing Badminton\"\n",
    "print(removal_vowels(sentence))"
   ]
  },
  {
   "cell_type": "markdown",
   "metadata": {},
   "source": [
    "---\n",
    "### Reverse Hack (also a popcorn hack)"
   ]
  },
  {
   "cell_type": "code",
   "execution_count": 33,
   "metadata": {},
   "outputs": [
    {
     "name": "stdout",
     "output_type": "stream",
     "text": [
      "best!!! the is Scott Travis\n"
     ]
    }
   ],
   "source": [
    "def words_reverse(input_str):\n",
    "    words = input_str.split()\n",
    "    words_reverse = \" \".join(words[::-1])\n",
    "    return words_reverse\n",
    "\n",
    "sentence = \"Travis Scott is the best!!!\"\n",
    "print(words_reverse(sentence))"
   ]
  },
  {
   "cell_type": "markdown",
   "metadata": {},
   "source": [
    "## Homework Hack 1\n"
   ]
  },
  {
   "cell_type": "markdown",
   "metadata": {},
   "source": [
    "#### Part 1"
   ]
  },
  {
   "cell_type": "code",
   "execution_count": 34,
   "metadata": {},
   "outputs": [
    {
     "name": "stdout",
     "output_type": "stream",
     "text": [
      "Shopping List: []\n",
      "Total Cost: $ 0.0\n"
     ]
    }
   ],
   "source": [
    "shopping_list = []\n",
    "total_cost = 0.0\n",
    "print(\"Shopping List:\", shopping_list)\n",
    "print(\"Total Cost: $\", total_cost)\n"
   ]
  },
  {
   "cell_type": "markdown",
   "metadata": {},
   "source": [
    "#### Part 2"
   ]
  },
  {
   "cell_type": "code",
   "execution_count": 18,
   "metadata": {},
   "outputs": [
    {
     "name": "stdout",
     "output_type": "stream",
     "text": [
      "Added 'Cake' at $12.00.\n",
      "Added 'Chocolate' at $2.00.\n",
      "Added 'Sauce' at $3.00.\n",
      "Added 'Chicken' at $1000.00.\n",
      "\n",
      "Shopping List:\n",
      "Cake: $12.00\n",
      "Chocolate: $2.00\n",
      "Sauce: $3.00\n",
      "Chicken: $1000.00\n",
      "Total Cost: $1017.00\n"
     ]
    }
   ],
   "source": [
    "shopping_list = []\n",
    "total_cost = 0.0\n",
    "while True:\n",
    "    item_name = input(\"Enter item name (or 'done' to finish): \")\n",
    "    if item_name.lower() == 'done':\n",
    "        break\n",
    "    try:\n",
    "        item_price = float(input(f\"Enter price for '{item_name}': \"))\n",
    "        shopping_list.append((item_name, item_price))\n",
    "        total_cost += item_price\n",
    "        print(f\"Added '{item_name}' at ${item_price:.2f}.\")\n",
    "    except ValueError:\n",
    "        print(\"Invalid price. Please enter a number.\")\n",
    "print(\"\\nShopping List:\")\n",
    "for item, price in shopping_list:\n",
    "    print(f\"{item}: ${price:.2f}\")\n",
    "print(f\"Total Cost: ${total_cost:.2f}\")\n"
   ]
  },
  {
   "cell_type": "markdown",
   "metadata": {},
   "source": [
    "## Homework Hack 2"
   ]
  },
  {
   "cell_type": "code",
   "execution_count": 22,
   "metadata": {},
   "outputs": [
    {
     "name": "stdout",
     "output_type": "stream",
     "text": [
      "2.0 tbsp of Cheese = 6.00 tsp.\n"
     ]
    }
   ],
   "source": [
    "cup_to_tbsp, tbsp_to_tsp = 16, 3\n",
    "cup_to_tsp = cup_to_tbsp * tbsp_to_tsp\n",
    "\n",
    "def convert_ingredient(quantity, from_unit, to_unit):\n",
    "    if from_unit == \"cup\":\n",
    "        return quantity * (cup_to_tbsp if to_unit == \"tbsp\" else cup_to_tsp)\n",
    "    elif from_unit == \"tbsp\":\n",
    "        return quantity / (cup_to_tbsp if to_unit == \"cup\" else 1) * (tbsp_to_tsp if to_unit == \"tsp\" else 1)\n",
    "    elif from_unit == \"tsp\":\n",
    "        return quantity / (cup_to_tsp if to_unit == \"cup\" else tbsp_to_tsp)\n",
    "\n",
    "ingredients = []\n",
    "\n",
    "while True:\n",
    "    name = input(\"Ingredient name (or 'done' to finish): \")\n",
    "    if name.lower() == 'done': break\n",
    "    quantity = float(input(\"Quantity: \"))\n",
    "    unit = input(\"Current unit (cup/tbsp/tsp): \").strip().lower()\n",
    "    desired_unit = input(\"Convert to (cup/tbsp/tsp): \").strip().lower()\n",
    "    ingredients.append((name, quantity, unit, desired_unit))\n",
    "\n",
    "for name, quantity, unit, desired_unit in ingredients:\n",
    "    converted = convert_ingredient(quantity, unit, desired_unit)\n",
    "    print(f\"{quantity} {unit} of {name} = {converted:.2f} {desired_unit}.\")\n"
   ]
  }
 ],
 "metadata": {
  "kernelspec": {
   "display_name": "venv",
   "language": "python",
   "name": "python3"
  },
  "language_info": {
   "codemirror_mode": {
    "name": "ipython",
    "version": 3
   },
   "file_extension": ".py",
   "mimetype": "text/x-python",
   "name": "python",
   "nbconvert_exporter": "python",
   "pygments_lexer": "ipython3",
   "version": "3.12.3"
  }
 },
 "nbformat": 4,
 "nbformat_minor": 2
}
