{
 "cells": [
  {
   "cell_type": "markdown",
   "id": "de1023de",
   "metadata": {},
   "source": [
    "---\n",
    "layout: post\n",
    "title: All stuff for Alex Groupf\n",
    "description: Notes from other lessons \n",
    "courses: { csp: {week: 5} }\n",
    "comments: true\n",
    "sticky_rank: 1\n",
    "---"
   ]
  },
  {
   "cell_type": "markdown",
   "id": "658b3d72",
   "metadata": {},
   "source": [
    "### Graphs Popcorn Hack 1\n",
    "I answered this in class"
   ]
  },
  {
   "cell_type": "markdown",
   "id": "0d66a8e6",
   "metadata": {},
   "source": [
    "### Graphs Homework Hack 1\n",
    "1. B configuration II only\n",
    "2. B Two"
   ]
  },
  {
   "cell_type": "markdown",
   "id": "ba0b61e6",
   "metadata": {},
   "source": [
    "### Heuristics Popcorn Hack 1\n"
   ]
  },
  {
   "cell_type": "markdown",
   "id": "24da59e6",
   "metadata": {},
   "source": [
    "#### The output of the code below is not that efficient because it displays 1 about 63 times and so is long and unnecessary. "
   ]
  },
  {
   "cell_type": "code",
   "execution_count": 2,
   "id": "c8b07b22",
   "metadata": {},
   "outputs": [
    {
     "name": "stdout",
     "output_type": "stream",
     "text": [
      "Change for 63¢: [1, 1, 1, 1, 1, 1, 1, 1, 1, 1, 1, 1, 1, 1, 1, 1, 1, 1, 1, 1, 1, 1, 1, 1, 1, 1, 1, 1, 1, 1, 1, 1, 1, 1, 1, 1, 1, 1, 1, 1, 1, 1, 1, 1, 1, 1, 1, 1, 1, 1, 1, 1, 1, 1, 1, 1, 1, 1, 1, 1, 1, 1, 1]\n",
      "Total coins used: 63\n"
     ]
    }
   ],
   "source": [
    "def greedy_coin_change(amount, coins=[1, 5, 10, 25]):\n",
    "    change = []\n",
    "    for coin in coins:\n",
    "        while amount >= coin:\n",
    "            amount -= coin\n",
    "            change.append(coin)\n",
    "    return change\n",
    "\n",
    "# Example usage:\n",
    "amount = 63\n",
    "result = greedy_coin_change(amount)\n",
    "print(f\"Change for {amount}¢: {result}\")\n",
    "print(f\"Total coins used: {len(result)}\")"
   ]
  },
  {
   "cell_type": "markdown",
   "id": "cc65c312",
   "metadata": {},
   "source": [
    "### Heuristics Homework Hack 1\n",
    "Key Questions Answered\n",
    "\n",
    "How does changing the order of coins affect the result?\n",
    "If the coins list is not in descending order (e.g., [1, 5, 10, 25]), the algorithm may use more coins than necessary (e.g., 63¢ would become 63 pennies!).\n",
    "The greedy approach requires sorted denominations to work correctly for standard coin systems.\n",
    "\n",
    "Which algorithm used fewer coins?\n",
    "For the US coin system ([25, 10, 5, 1]), the greedy algorithm is optimal and matches the result of a dynamic programming solution.\n",
    "For non-canonical systems (e.g., [1, 3, 4] and amount = 6), greedy fails (greedy: [4, 1, 1] = 3 coins; optimal: [3, 3] = 2 coins).\n",
    "\n",
    "Where might greedy algorithms work well? Where might they fail?\n",
    "Works well: Canonical coin systems (like US coins), scheduling problems (e.g., interval scheduling), or problems with the \"greedy choice property\" (e.g., Huffman coding).\n",
    "Fails: Non-canonical coin systems, knapsack problems, or when local choices don't guarantee global optima.\n",
    "\n",
    "What is one thing you changed, and what did it show you?\n",
    "Changing the coin order to ascending ([1, 5, 10, 25]) demonstrates that greedy algorithms depend heavily on input structure. It also highlights why sorting is critical for correctness.\n",
    "\n",
    "2-3 Sentence Summary\n",
    "The greedy coin change algorithm prioritizes the largest denominations first, ensuring optimality for standard coin systems but failing for arbitrary ones. Testing changes (like coin order) reveals its reliance on problem structure, where it excels in canonical cases but struggles with non-intuitive setups. This underscores the importance of verifying algorithm suitability for specific constraints.\n",
    "\n"
   ]
  },
  {
   "cell_type": "markdown",
   "id": "08031d31",
   "metadata": {},
   "source": [
    "### Udecidable Problems Homework Hack 1\n",
    "Sure! Here's a clear response for each part:\n",
    "\n",
    "### **Part 1: Identify the Problem Type**\n",
    "\n",
    "1. **“Is this number divisible by 2?”**  \n",
    "   **Decidable** – There’s a clear algorithm: check if the number mod 2 equals 0.\n",
    "\n",
    "2. **“Will this program stop or run forever?”**  \n",
    "   **Undecidable** – This is the **Halting Problem**, proven by Alan Turing to be unsolvable in general.\n",
    "\n",
    "3. **“Does this sentence contain the word ‘banana’?”**  \n",
    "   **Decidable** – You can scan the sentence for the word. It's a straightforward string-matching problem.\n",
    "\n",
    "4. **“Will this AI ever become sentient?”**  \n",
    "   **Undecidable** – There’s no known algorithm or criteria that can definitively predict AI sentience.\n",
    "\n",
    "\n",
    "### **Part 2: Algorithm Detective**\n",
    "\n",
    "- **Algorithm 1 (Number is even?)**  \n",
    "  **Decidable** – This algorithm has a clear, finite process to determine if a number is even.\n",
    "\n",
    "- **Algorithm 2 (Program halts?)**  \n",
    "  **Undecidable** – This is another version of the Halting Problem; no algorithm can predict this for every possible program.\n",
    "\n",
    "\n",
    "### **Part 3: Real-Life Connection**\n",
    "\n",
    "**Example:** Choosing a college major – You can research all you want, but you won’t really know if it’s the right fit until you experience classes and see how you feel over time.\n"
   ]
  }
 ],
 "metadata": {
  "kernelspec": {
   "display_name": "venv",
   "language": "python",
   "name": "python3"
  },
  "language_info": {
   "codemirror_mode": {
    "name": "ipython",
    "version": 3
   },
   "file_extension": ".py",
   "mimetype": "text/x-python",
   "name": "python",
   "nbconvert_exporter": "python",
   "pygments_lexer": "ipython3",
   "version": "3.12.3"
  }
 },
 "nbformat": 4,
 "nbformat_minor": 5
}
