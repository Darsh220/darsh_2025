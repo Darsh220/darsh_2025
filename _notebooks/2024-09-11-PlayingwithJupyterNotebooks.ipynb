{
 "cells": [
  {
   "cell_type": "raw",
   "metadata": {
    "vscode": {
     "languageId": "raw"
    }
   },
   "source": [
    "---\n",
    "layout: post\n",
    "title: Playing With Hacks\n",
    "description: Jupyter notebooks and Python \n",
    "courses: { csp: {week: 1} }\n",
    "comments: true\n",
    "sticky_rank: 1\n",
    "---"
   ]
  },
  {
   "cell_type": "code",
   "execution_count": 1,
   "metadata": {},
   "outputs": [
    {
     "name": "stdout",
     "output_type": "stream",
     "text": [
      "hello world\n"
     ]
    }
   ],
   "source": [
    "print(\"hello world\")"
   ]
  },
  {
   "cell_type": "code",
   "execution_count": 3,
   "metadata": {},
   "outputs": [
    {
     "name": "stdout",
     "output_type": "stream",
     "text": [
      "Requirement already satisfied: wikipedia in /home/darsh22/nighthawk/darsh_2025/venv/lib/python3.12/site-packages (1.4.0)\n",
      "Requirement already satisfied: beautifulsoup4 in /home/darsh22/nighthawk/darsh_2025/venv/lib/python3.12/site-packages (from wikipedia) (4.12.3)\n",
      "Requirement already satisfied: requests<3.0.0,>=2.0.0 in /home/darsh22/nighthawk/darsh_2025/venv/lib/python3.12/site-packages (from wikipedia) (2.32.3)\n",
      "Requirement already satisfied: charset-normalizer<4,>=2 in /home/darsh22/nighthawk/darsh_2025/venv/lib/python3.12/site-packages (from requests<3.0.0,>=2.0.0->wikipedia) (3.3.2)\n",
      "Requirement already satisfied: idna<4,>=2.5 in /home/darsh22/nighthawk/darsh_2025/venv/lib/python3.12/site-packages (from requests<3.0.0,>=2.0.0->wikipedia) (3.8)\n",
      "Requirement already satisfied: urllib3<3,>=1.21.1 in /home/darsh22/nighthawk/darsh_2025/venv/lib/python3.12/site-packages (from requests<3.0.0,>=2.0.0->wikipedia) (2.2.2)\n",
      "Requirement already satisfied: certifi>=2017.4.17 in /home/darsh22/nighthawk/darsh_2025/venv/lib/python3.12/site-packages (from requests<3.0.0,>=2.0.0->wikipedia) (2024.8.30)\n",
      "Requirement already satisfied: soupsieve>1.2 in /home/darsh22/nighthawk/darsh_2025/venv/lib/python3.12/site-packages (from beautifulsoup4->wikipedia) (2.6)\n"
     ]
    }
   ],
   "source": [
    "!pip install wikipedia"
   ]
  },
  {
   "cell_type": "code",
   "execution_count": 1,
   "metadata": {},
   "outputs": [
    {
     "name": "stdout",
     "output_type": "stream",
     "text": [
      "Welcome to Wikipedia!\n"
     ]
    },
    {
     "name": "stderr",
     "output_type": "stream",
     "text": [
      "/home/darsh22/nighthawk/darsh_2025/venv/lib/python3.12/site-packages/wikipedia/wikipedia.py:389: GuessedAtParserWarning: No parser was explicitly specified, so I'm using the best available HTML parser for this system (\"lxml\"). This usually isn't a problem, but if you run this code on another system, or in a different virtual environment, it may use a different parser and behave differently.\n",
      "\n",
      "The code that caused this warning is on line 389 of the file /home/darsh22/nighthawk/darsh_2025/venv/lib/python3.12/site-packages/wikipedia/wikipedia.py. To get rid of this warning, pass the additional argument 'features=\"lxml\"' to the BeautifulSoup constructor.\n",
      "\n",
      "  lis = BeautifulSoup(html).find_all('li')\n"
     ]
    },
    {
     "ename": "DisambiguationError",
     "evalue": "\"can\" may refer to: \nAluminum can\nDrink can\nOil can\nSteel and tin cans\nTrash can\nPetrol can\nCan (band)\nCan (album)\nCan (South Korean band)\nCanada\nCantoris\nCan (name)\nCan (verb)\nCanning\nRiver Can\nTomato can (sports idiom)\nCAN (disambiguation)\nCann (disambiguation)\nCans (disambiguation)\nKan (disambiguation)",
     "output_type": "error",
     "traceback": [
      "\u001b[0;31m---------------------------------------------------------------------------\u001b[0m",
      "\u001b[0;31mDisambiguationError\u001b[0m                       Traceback (most recent call last)",
      "Cell \u001b[0;32mIn[1], line 12\u001b[0m\n\u001b[1;32m     10\u001b[0m result \u001b[38;5;241m=\u001b[39m wikipedia\u001b[38;5;241m.\u001b[39msearch(search_input)\n\u001b[1;32m     11\u001b[0m \u001b[38;5;66;03m# Get the summary of the first result\u001b[39;00m\n\u001b[0;32m---> 12\u001b[0m summary \u001b[38;5;241m=\u001b[39m \u001b[43mwikipedia\u001b[49m\u001b[38;5;241;43m.\u001b[39;49m\u001b[43msummary\u001b[49m\u001b[43m(\u001b[49m\u001b[43mresult\u001b[49m\u001b[43m[\u001b[49m\u001b[38;5;241;43m0\u001b[39;49m\u001b[43m]\u001b[49m\u001b[43m)\u001b[49m\n\u001b[1;32m     13\u001b[0m \u001b[38;5;28mprint\u001b[39m(search_input)\n\u001b[1;32m     14\u001b[0m search_history\u001b[38;5;241m.\u001b[39mappend(search_input)\n",
      "File \u001b[0;32m~/nighthawk/darsh_2025/venv/lib/python3.12/site-packages/wikipedia/util.py:28\u001b[0m, in \u001b[0;36mcache.__call__\u001b[0;34m(self, *args, **kwargs)\u001b[0m\n\u001b[1;32m     26\u001b[0m   ret \u001b[38;5;241m=\u001b[39m \u001b[38;5;28mself\u001b[39m\u001b[38;5;241m.\u001b[39m_cache[key]\n\u001b[1;32m     27\u001b[0m \u001b[38;5;28;01melse\u001b[39;00m:\n\u001b[0;32m---> 28\u001b[0m   ret \u001b[38;5;241m=\u001b[39m \u001b[38;5;28mself\u001b[39m\u001b[38;5;241m.\u001b[39m_cache[key] \u001b[38;5;241m=\u001b[39m \u001b[38;5;28;43mself\u001b[39;49m\u001b[38;5;241;43m.\u001b[39;49m\u001b[43mfn\u001b[49m\u001b[43m(\u001b[49m\u001b[38;5;241;43m*\u001b[39;49m\u001b[43margs\u001b[49m\u001b[43m,\u001b[49m\u001b[43m \u001b[49m\u001b[38;5;241;43m*\u001b[39;49m\u001b[38;5;241;43m*\u001b[39;49m\u001b[43mkwargs\u001b[49m\u001b[43m)\u001b[49m\n\u001b[1;32m     30\u001b[0m \u001b[38;5;28;01mreturn\u001b[39;00m ret\n",
      "File \u001b[0;32m~/nighthawk/darsh_2025/venv/lib/python3.12/site-packages/wikipedia/wikipedia.py:231\u001b[0m, in \u001b[0;36msummary\u001b[0;34m(title, sentences, chars, auto_suggest, redirect)\u001b[0m\n\u001b[1;32m    216\u001b[0m \u001b[38;5;250m\u001b[39m\u001b[38;5;124;03m'''\u001b[39;00m\n\u001b[1;32m    217\u001b[0m \u001b[38;5;124;03mPlain text summary of the page.\u001b[39;00m\n\u001b[1;32m    218\u001b[0m \n\u001b[0;32m   (...)\u001b[0m\n\u001b[1;32m    226\u001b[0m \u001b[38;5;124;03m* redirect - allow redirection without raising RedirectError\u001b[39;00m\n\u001b[1;32m    227\u001b[0m \u001b[38;5;124;03m'''\u001b[39;00m\n\u001b[1;32m    229\u001b[0m \u001b[38;5;66;03m# use auto_suggest and redirect to get the correct article\u001b[39;00m\n\u001b[1;32m    230\u001b[0m \u001b[38;5;66;03m# also, use page's error checking to raise DisambiguationError if necessary\u001b[39;00m\n\u001b[0;32m--> 231\u001b[0m page_info \u001b[38;5;241m=\u001b[39m \u001b[43mpage\u001b[49m\u001b[43m(\u001b[49m\u001b[43mtitle\u001b[49m\u001b[43m,\u001b[49m\u001b[43m \u001b[49m\u001b[43mauto_suggest\u001b[49m\u001b[38;5;241;43m=\u001b[39;49m\u001b[43mauto_suggest\u001b[49m\u001b[43m,\u001b[49m\u001b[43m \u001b[49m\u001b[43mredirect\u001b[49m\u001b[38;5;241;43m=\u001b[39;49m\u001b[43mredirect\u001b[49m\u001b[43m)\u001b[49m\n\u001b[1;32m    232\u001b[0m title \u001b[38;5;241m=\u001b[39m page_info\u001b[38;5;241m.\u001b[39mtitle\n\u001b[1;32m    233\u001b[0m pageid \u001b[38;5;241m=\u001b[39m page_info\u001b[38;5;241m.\u001b[39mpageid\n",
      "File \u001b[0;32m~/nighthawk/darsh_2025/venv/lib/python3.12/site-packages/wikipedia/wikipedia.py:276\u001b[0m, in \u001b[0;36mpage\u001b[0;34m(title, pageid, auto_suggest, redirect, preload)\u001b[0m\n\u001b[1;32m    273\u001b[0m     \u001b[38;5;28;01mexcept\u001b[39;00m \u001b[38;5;167;01mIndexError\u001b[39;00m:\n\u001b[1;32m    274\u001b[0m       \u001b[38;5;66;03m# if there is no suggestion or search results, the page doesn't exist\u001b[39;00m\n\u001b[1;32m    275\u001b[0m       \u001b[38;5;28;01mraise\u001b[39;00m PageError(title)\n\u001b[0;32m--> 276\u001b[0m   \u001b[38;5;28;01mreturn\u001b[39;00m \u001b[43mWikipediaPage\u001b[49m\u001b[43m(\u001b[49m\u001b[43mtitle\u001b[49m\u001b[43m,\u001b[49m\u001b[43m \u001b[49m\u001b[43mredirect\u001b[49m\u001b[38;5;241;43m=\u001b[39;49m\u001b[43mredirect\u001b[49m\u001b[43m,\u001b[49m\u001b[43m \u001b[49m\u001b[43mpreload\u001b[49m\u001b[38;5;241;43m=\u001b[39;49m\u001b[43mpreload\u001b[49m\u001b[43m)\u001b[49m\n\u001b[1;32m    277\u001b[0m \u001b[38;5;28;01melif\u001b[39;00m pageid \u001b[38;5;129;01mis\u001b[39;00m \u001b[38;5;129;01mnot\u001b[39;00m \u001b[38;5;28;01mNone\u001b[39;00m:\n\u001b[1;32m    278\u001b[0m   \u001b[38;5;28;01mreturn\u001b[39;00m WikipediaPage(pageid\u001b[38;5;241m=\u001b[39mpageid, preload\u001b[38;5;241m=\u001b[39mpreload)\n",
      "File \u001b[0;32m~/nighthawk/darsh_2025/venv/lib/python3.12/site-packages/wikipedia/wikipedia.py:299\u001b[0m, in \u001b[0;36mWikipediaPage.__init__\u001b[0;34m(self, title, pageid, redirect, preload, original_title)\u001b[0m\n\u001b[1;32m    296\u001b[0m \u001b[38;5;28;01melse\u001b[39;00m:\n\u001b[1;32m    297\u001b[0m   \u001b[38;5;28;01mraise\u001b[39;00m \u001b[38;5;167;01mValueError\u001b[39;00m(\u001b[38;5;124m\"\u001b[39m\u001b[38;5;124mEither a title or a pageid must be specified\u001b[39m\u001b[38;5;124m\"\u001b[39m)\n\u001b[0;32m--> 299\u001b[0m \u001b[38;5;28;43mself\u001b[39;49m\u001b[38;5;241;43m.\u001b[39;49m\u001b[43m__load\u001b[49m\u001b[43m(\u001b[49m\u001b[43mredirect\u001b[49m\u001b[38;5;241;43m=\u001b[39;49m\u001b[43mredirect\u001b[49m\u001b[43m,\u001b[49m\u001b[43m \u001b[49m\u001b[43mpreload\u001b[49m\u001b[38;5;241;43m=\u001b[39;49m\u001b[43mpreload\u001b[49m\u001b[43m)\u001b[49m\n\u001b[1;32m    301\u001b[0m \u001b[38;5;28;01mif\u001b[39;00m preload:\n\u001b[1;32m    302\u001b[0m   \u001b[38;5;28;01mfor\u001b[39;00m prop \u001b[38;5;129;01min\u001b[39;00m (\u001b[38;5;124m'\u001b[39m\u001b[38;5;124mcontent\u001b[39m\u001b[38;5;124m'\u001b[39m, \u001b[38;5;124m'\u001b[39m\u001b[38;5;124msummary\u001b[39m\u001b[38;5;124m'\u001b[39m, \u001b[38;5;124m'\u001b[39m\u001b[38;5;124mimages\u001b[39m\u001b[38;5;124m'\u001b[39m, \u001b[38;5;124m'\u001b[39m\u001b[38;5;124mreferences\u001b[39m\u001b[38;5;124m'\u001b[39m, \u001b[38;5;124m'\u001b[39m\u001b[38;5;124mlinks\u001b[39m\u001b[38;5;124m'\u001b[39m, \u001b[38;5;124m'\u001b[39m\u001b[38;5;124msections\u001b[39m\u001b[38;5;124m'\u001b[39m):\n",
      "File \u001b[0;32m~/nighthawk/darsh_2025/venv/lib/python3.12/site-packages/wikipedia/wikipedia.py:393\u001b[0m, in \u001b[0;36mWikipediaPage.__load\u001b[0;34m(self, redirect, preload)\u001b[0m\n\u001b[1;32m    390\u001b[0m   filtered_lis \u001b[38;5;241m=\u001b[39m [li \u001b[38;5;28;01mfor\u001b[39;00m li \u001b[38;5;129;01min\u001b[39;00m lis \u001b[38;5;28;01mif\u001b[39;00m \u001b[38;5;129;01mnot\u001b[39;00m \u001b[38;5;124m'\u001b[39m\u001b[38;5;124mtocsection\u001b[39m\u001b[38;5;124m'\u001b[39m \u001b[38;5;129;01min\u001b[39;00m \u001b[38;5;124m'\u001b[39m\u001b[38;5;124m'\u001b[39m\u001b[38;5;241m.\u001b[39mjoin(li\u001b[38;5;241m.\u001b[39mget(\u001b[38;5;124m'\u001b[39m\u001b[38;5;124mclass\u001b[39m\u001b[38;5;124m'\u001b[39m, []))]\n\u001b[1;32m    391\u001b[0m   may_refer_to \u001b[38;5;241m=\u001b[39m [li\u001b[38;5;241m.\u001b[39ma\u001b[38;5;241m.\u001b[39mget_text() \u001b[38;5;28;01mfor\u001b[39;00m li \u001b[38;5;129;01min\u001b[39;00m filtered_lis \u001b[38;5;28;01mif\u001b[39;00m li\u001b[38;5;241m.\u001b[39ma]\n\u001b[0;32m--> 393\u001b[0m   \u001b[38;5;28;01mraise\u001b[39;00m DisambiguationError(\u001b[38;5;28mgetattr\u001b[39m(\u001b[38;5;28mself\u001b[39m, \u001b[38;5;124m'\u001b[39m\u001b[38;5;124mtitle\u001b[39m\u001b[38;5;124m'\u001b[39m, page[\u001b[38;5;124m'\u001b[39m\u001b[38;5;124mtitle\u001b[39m\u001b[38;5;124m'\u001b[39m]), may_refer_to)\n\u001b[1;32m    395\u001b[0m \u001b[38;5;28;01melse\u001b[39;00m:\n\u001b[1;32m    396\u001b[0m   \u001b[38;5;28mself\u001b[39m\u001b[38;5;241m.\u001b[39mpageid \u001b[38;5;241m=\u001b[39m pageid\n",
      "\u001b[0;31mDisambiguationError\u001b[0m: \"can\" may refer to: \nAluminum can\nDrink can\nOil can\nSteel and tin cans\nTrash can\nPetrol can\nCan (band)\nCan (album)\nCan (South Korean band)\nCanada\nCantoris\nCan (name)\nCan (verb)\nCanning\nRiver Can\nTomato can (sports idiom)\nCAN (disambiguation)\nCann (disambiguation)\nCans (disambiguation)\nKan (disambiguation)"
     ]
    }
   ],
   "source": [
    "import wikipedia\n",
    "from IPython.display import display, Markdown\n",
    "\n",
    "print(\"Welcome to Wikipedia!\")\n",
    "search_history = []\n",
    "condition = True\n",
    "while condition:\n",
    "    search_input = input(\"Enter a search or type 'quit' to exit: \")\n",
    "    if search_input != \"quit\":\n",
    "            result = wikipedia.search(search_input)\n",
    "            # Get the summary of the first result\n",
    "            summary = wikipedia.summary(result[0])\n",
    "            print(search_input)\n",
    "            search_history.append(search_input)\n",
    "            # print(summary) # console display\n",
    "            display(Markdown(summary)) # Jupyter display\n",
    "    else:\n",
    "        condition = False\n",
    "        print(f\"Here is your search history: {search_history}\")\n",
    "        choice = input(\"Would you like to clear your search history? [y/n]\")\n",
    "        if choice == \"y\":\n",
    "            search_history.clear()\n",
    "            print(\"Search history cleared!\")\n",
    "            print(search_history)\n",
    "        elif choice == \"n\":\n",
    "            print(\"Ok, no problem.\")\n",
    "        else:\n",
    "            print(\"Invalid choice entered.\")\n",
    "        print(\"Thank you for visiting Wikipedia! Come back soon!\")"
   ]
  },
  {
   "cell_type": "code",
   "execution_count": 4,
   "metadata": {},
   "outputs": [
    {
     "name": "stdout",
     "output_type": "stream",
     "text": [
      "Requirement already satisfied: newspaper3k in /home/darsh22/nighthawk/darsh_2025/venv/lib/python3.12/site-packages (0.2.8)\n",
      "Requirement already satisfied: beautifulsoup4>=4.4.1 in /home/darsh22/nighthawk/darsh_2025/venv/lib/python3.12/site-packages (from newspaper3k) (4.12.3)\n",
      "Requirement already satisfied: Pillow>=3.3.0 in /home/darsh22/nighthawk/darsh_2025/venv/lib/python3.12/site-packages (from newspaper3k) (10.4.0)\n",
      "Requirement already satisfied: PyYAML>=3.11 in /home/darsh22/nighthawk/darsh_2025/venv/lib/python3.12/site-packages (from newspaper3k) (6.0.2)\n",
      "Requirement already satisfied: cssselect>=0.9.2 in /home/darsh22/nighthawk/darsh_2025/venv/lib/python3.12/site-packages (from newspaper3k) (1.2.0)\n",
      "Requirement already satisfied: lxml>=3.6.0 in /home/darsh22/nighthawk/darsh_2025/venv/lib/python3.12/site-packages (from newspaper3k) (5.3.0)\n",
      "Requirement already satisfied: nltk>=3.2.1 in /home/darsh22/nighthawk/darsh_2025/venv/lib/python3.12/site-packages (from newspaper3k) (3.9.1)\n",
      "Requirement already satisfied: requests>=2.10.0 in /home/darsh22/nighthawk/darsh_2025/venv/lib/python3.12/site-packages (from newspaper3k) (2.32.3)\n",
      "Requirement already satisfied: feedparser>=5.2.1 in /home/darsh22/nighthawk/darsh_2025/venv/lib/python3.12/site-packages (from newspaper3k) (6.0.11)\n",
      "Requirement already satisfied: tldextract>=2.0.1 in /home/darsh22/nighthawk/darsh_2025/venv/lib/python3.12/site-packages (from newspaper3k) (5.1.2)\n",
      "Requirement already satisfied: feedfinder2>=0.0.4 in /home/darsh22/nighthawk/darsh_2025/venv/lib/python3.12/site-packages (from newspaper3k) (0.0.4)\n",
      "Requirement already satisfied: jieba3k>=0.35.1 in /home/darsh22/nighthawk/darsh_2025/venv/lib/python3.12/site-packages (from newspaper3k) (0.35.1)\n",
      "Requirement already satisfied: python-dateutil>=2.5.3 in /home/darsh22/nighthawk/darsh_2025/venv/lib/python3.12/site-packages (from newspaper3k) (2.9.0.post0)\n",
      "Requirement already satisfied: tinysegmenter==0.3 in /home/darsh22/nighthawk/darsh_2025/venv/lib/python3.12/site-packages (from newspaper3k) (0.3)\n",
      "Requirement already satisfied: soupsieve>1.2 in /home/darsh22/nighthawk/darsh_2025/venv/lib/python3.12/site-packages (from beautifulsoup4>=4.4.1->newspaper3k) (2.6)\n",
      "Requirement already satisfied: six in /home/darsh22/nighthawk/darsh_2025/venv/lib/python3.12/site-packages (from feedfinder2>=0.0.4->newspaper3k) (1.16.0)\n",
      "Requirement already satisfied: sgmllib3k in /home/darsh22/nighthawk/darsh_2025/venv/lib/python3.12/site-packages (from feedparser>=5.2.1->newspaper3k) (1.0.0)\n",
      "Requirement already satisfied: click in /home/darsh22/nighthawk/darsh_2025/venv/lib/python3.12/site-packages (from nltk>=3.2.1->newspaper3k) (8.1.7)\n",
      "Requirement already satisfied: joblib in /home/darsh22/nighthawk/darsh_2025/venv/lib/python3.12/site-packages (from nltk>=3.2.1->newspaper3k) (1.4.2)\n",
      "Requirement already satisfied: regex>=2021.8.3 in /home/darsh22/nighthawk/darsh_2025/venv/lib/python3.12/site-packages (from nltk>=3.2.1->newspaper3k) (2024.7.24)\n",
      "Requirement already satisfied: tqdm in /home/darsh22/nighthawk/darsh_2025/venv/lib/python3.12/site-packages (from nltk>=3.2.1->newspaper3k) (4.66.5)\n",
      "Requirement already satisfied: charset-normalizer<4,>=2 in /home/darsh22/nighthawk/darsh_2025/venv/lib/python3.12/site-packages (from requests>=2.10.0->newspaper3k) (3.3.2)\n",
      "Requirement already satisfied: idna<4,>=2.5 in /home/darsh22/nighthawk/darsh_2025/venv/lib/python3.12/site-packages (from requests>=2.10.0->newspaper3k) (3.8)\n",
      "Requirement already satisfied: urllib3<3,>=1.21.1 in /home/darsh22/nighthawk/darsh_2025/venv/lib/python3.12/site-packages (from requests>=2.10.0->newspaper3k) (2.2.2)\n",
      "Requirement already satisfied: certifi>=2017.4.17 in /home/darsh22/nighthawk/darsh_2025/venv/lib/python3.12/site-packages (from requests>=2.10.0->newspaper3k) (2024.8.30)\n",
      "Requirement already satisfied: requests-file>=1.4 in /home/darsh22/nighthawk/darsh_2025/venv/lib/python3.12/site-packages (from tldextract>=2.0.1->newspaper3k) (2.1.0)\n",
      "Requirement already satisfied: filelock>=3.0.8 in /home/darsh22/nighthawk/darsh_2025/venv/lib/python3.12/site-packages (from tldextract>=2.0.1->newspaper3k) (3.16.0)\n"
     ]
    }
   ],
   "source": [
    "!pip install newspaper3k"
   ]
  },
  {
   "cell_type": "code",
   "execution_count": 3,
   "metadata": {},
   "outputs": [
    {
     "name": "stdout",
     "output_type": "stream",
     "text": [
      "^C\n",
      "Traceback (most recent call last):\n",
      "  File \"/home/darsh22/nighthawk/darsh_2025/venv/bin/pip\", line 8, in <module>\n",
      "    sys.exit(main())\n",
      "             ^^^^^^\n",
      "  File \"/home/darsh22/nighthawk/darsh_2025/venv/lib/python3.12/site-packages/pip/_internal/cli/main.py\", line 77, in main\n",
      "    command = create_command(cmd_name, isolated=(\"--isolated\" in cmd_args))\n",
      "              ^^^^^^^^^^^^^^^^^^^^^^^^^^^^^^^^^^^^^^^^^^^^^^^^^^^^^^^^^^^^^\n",
      "  File \"/home/darsh22/nighthawk/darsh_2025/venv/lib/python3.12/site-packages/pip/_internal/commands/__init__.py\", line 114, in create_command\n",
      "    module = importlib.import_module(module_path)\n",
      "             ^^^^^^^^^^^^^^^^^^^^^^^^^^^^^^^^^^^^\n",
      "  File \"/usr/lib/python3.12/importlib/__init__.py\", line 90, in import_module\n",
      "    return _bootstrap._gcd_import(name[level:], package, level)\n",
      "           ^^^^^^^^^^^^^^^^^^^^^^^^^^^^^^^^^^^^^^^^^^^^^^^^^^^^\n",
      "  File \"<frozen importlib._bootstrap>\", line 1387, in _gcd_import\n",
      "  File \"<frozen importlib._bootstrap>\", line 1360, in _find_and_load\n",
      "  File \"<frozen importlib._bootstrap>\", line 1331, in _find_and_load_unlocked\n",
      "  File \"<frozen importlib._bootstrap>\", line 935, in _load_unlocked\n",
      "  File \"<frozen importlib._bootstrap_external>\", line 995, in exec_module\n",
      "  File \"<frozen importlib._bootstrap>\", line 488, in _call_with_frames_removed\n",
      "  File \"/home/darsh22/nighthawk/darsh_2025/venv/lib/python3.12/site-packages/pip/_internal/commands/install.py\", line 15, in <module>\n",
      "    from pip._internal.cli.req_command import (\n",
      "  File \"/home/darsh22/nighthawk/darsh_2025/venv/lib/python3.12/site-packages/pip/_internal/cli/req_command.py\", line 21, in <module>\n",
      "    from pip._internal.index.package_finder import PackageFinder\n",
      "  File \"/home/darsh22/nighthawk/darsh_2025/venv/lib/python3.12/site-packages/pip/_internal/index/package_finder.py\", line 30, in <module>\n",
      "    from pip._internal.req import InstallRequirement\n",
      "  File \"/home/darsh22/nighthawk/darsh_2025/venv/lib/python3.12/site-packages/pip/_internal/req/__init__.py\", line 8, in <module>\n",
      "    from .req_install import InstallRequirement\n",
      "  File \"/home/darsh22/nighthawk/darsh_2025/venv/lib/python3.12/site-packages/pip/_internal/req/req_install.py\", line 40, in <module>\n",
      "    from pip._internal.operations.install.wheel import install_wheel\n",
      "  File \"/home/darsh22/nighthawk/darsh_2025/venv/lib/python3.12/site-packages/pip/_internal/operations/install/wheel.py\", line 242, in <module>\n",
      "    old_csv_rows: List[List[str]],\n",
      "                  ~~~~^^^^^^^^^^^\n",
      "  File \"/usr/lib/python3.12/typing.py\", line 395, in inner\n",
      "    return _caches[func](*args, **kwds)\n",
      "           ^^^^^^^^^^^^^^^^^^^^^^^^^^^^\n",
      "KeyboardInterrupt\n"
     ]
    }
   ],
   "source": [
    "!pip install newspaper"
   ]
  },
  {
   "cell_type": "code",
   "execution_count": 8,
   "metadata": {},
   "outputs": [
    {
     "name": "stdout",
     "output_type": "stream",
     "text": [
      "Requirement already satisfied: emoji in /home/darsh22/nighthawk/darsh_2025/venv/lib/python3.12/site-packages (2.12.1)\n",
      "Requirement already satisfied: typing-extensions>=4.7.0 in /home/darsh22/nighthawk/darsh_2025/venv/lib/python3.12/site-packages (from emoji) (4.12.2)\n"
     ]
    }
   ],
   "source": [
    "!pip install emoji"
   ]
  },
  {
   "cell_type": "code",
   "execution_count": 9,
   "metadata": {},
   "outputs": [
    {
     "name": "stdout",
     "output_type": "stream",
     "text": [
      "Collecting newspaper\n",
      "  Using cached newspaper-0.1.0.7.tar.gz (176 kB)\n",
      "  Installing build dependencies ... \u001b[?25ldone\n",
      "\u001b[?25h  Getting requirements to build wheel ... \u001b[?25lerror\n",
      "  \u001b[1;31merror\u001b[0m: \u001b[1msubprocess-exited-with-error\u001b[0m\n",
      "  \n",
      "  \u001b[31m×\u001b[0m \u001b[32mGetting requirements to build wheel\u001b[0m did not run successfully.\n",
      "  \u001b[31m│\u001b[0m exit code: \u001b[1;36m1\u001b[0m\n",
      "  \u001b[31m╰─>\u001b[0m \u001b[31m[1 lines of output]\u001b[0m\n",
      "  \u001b[31m   \u001b[0m \u001b[31;1mWARNING! You are attempting to install newspaper's python2 repository on python3. PLEASE RUN `$ pip3 install newspaper3k` for python3 or `$ pip install newspaper` for python2\u001b[0m\n",
      "  \u001b[31m   \u001b[0m \u001b[31m[end of output]\u001b[0m\n",
      "  \n",
      "  \u001b[1;35mnote\u001b[0m: This error originates from a subprocess, and is likely not a problem with pip.\n",
      "\u001b[?25h\u001b[1;31merror\u001b[0m: \u001b[1msubprocess-exited-with-error\u001b[0m\n",
      "\n",
      "\u001b[31m×\u001b[0m \u001b[32mGetting requirements to build wheel\u001b[0m did not run successfully.\n",
      "\u001b[31m│\u001b[0m exit code: \u001b[1;36m1\u001b[0m\n",
      "\u001b[31m╰─>\u001b[0m See above for output.\n",
      "\n",
      "\u001b[1;35mnote\u001b[0m: This error originates from a subprocess, and is likely not a problem with pip.\n"
     ]
    }
   ],
   "source": [
    "!pip install newspaper"
   ]
  },
  {
   "cell_type": "code",
   "execution_count": 6,
   "metadata": {},
   "outputs": [
    {
     "name": "stdout",
     "output_type": "stream",
     "text": [
      "Requirement already satisfied: lxml in /home/darsh22/nighthawk/darsh_2025/venv/lib/python3.12/site-packages (5.3.0)\n",
      "Requirement already satisfied: lxml_html_clean in /home/darsh22/nighthawk/darsh_2025/venv/lib/python3.12/site-packages (0.2.2)\n",
      "Note: you may need to restart the kernel to use updated packages.\n"
     ]
    }
   ],
   "source": [
    "pip install lxml lxml_html_clean"
   ]
  },
  {
   "cell_type": "code",
   "execution_count": 7,
   "metadata": {},
   "outputs": [
    {
     "name": "stdout",
     "output_type": "stream",
     "text": [
      "Requirement already satisfied: lxml[html_clean] in /home/darsh22/nighthawk/darsh_2025/venv/lib/python3.12/site-packages (5.3.0)\n",
      "Requirement already satisfied: lxml-html-clean in /home/darsh22/nighthawk/darsh_2025/venv/lib/python3.12/site-packages (from lxml[html_clean]) (0.2.2)\n"
     ]
    }
   ],
   "source": [
    "!pip install lxml[html_clean]"
   ]
  },
  {
   "cell_type": "code",
   "execution_count": 1,
   "metadata": {},
   "outputs": [
    {
     "name": "stdout",
     "output_type": "stream",
     "text": [
      "Firefighters are battling an eruption of wild🔥s in the western United States this weekend, with flames ravaging thousands of acres and triggering evacuation orders across California, Oregon and Nevada. Line Fire The quick-moving Line Fire in Southern California exploded over the weekend, consuming more than 20,500 acres as of late Sunday and forcing evacuations amid a searing heat wave in the region. It was zero percent contained as of just after 9 p.m. Sunday, authorities said.\n",
      "\n",
      "The blaze in San Bernardino County, which ignited late last week, quadrupled in size as the weekend began, scorching thousands of acres on Saturday alone. The flames raced up steep terrain, chewing through thick vegetation as they approached Running Springs, a mountain community of about 5,000 people that lies between the populated resort areas of Lake Arrowhead and Big Bear Lake. The community has been ordered to evacuate, while Lake Arrowhead and areas to its west are under an evacuation warning. By Sunday evening, Cal Fire estimated that the blaze threatened more than 36,000 structures, including family homes and businesses.\n",
      "\n",
      "The San Bernardino County 🔥 quadrupled in size over the weekend, and Gov. Gavin Newsom (D) has declared a state of emergency in the county. (Video: Menifee Battalion Chief via Storyful)\n",
      "\n",
      "Evacuation orders are also in effect on the 🔽 side of the 🔥, while structures could be affected in the city of Highland, which lies at the base of the mountains in San Bernardino County. Three 🔥fighters had been injured battling the blaze as of Sunday afternoon, according to a Cal Fire incident update. “Hot and dry conditions mixed with thunderstorms are expected to challenge 🔥fighters for the next few days,” the update stated.\n",
      "\n",
      "Advertisement\n",
      "\n",
      "Gov. Gavin Newsom (D) proclaimed a state of emergency in the county to secure federal assistance to respond to the 🔥, which is threatening homes as well as critical infrastructure.\n",
      "\n",
      "The 🔥 has “room to grow now in essentially three directions and there are population centers and pretty dense, dry vegetation in between those population centers,” UCLA climate scientist Daniel Swain said in a Saturday briefing.\n",
      "\n",
      "The 🔥 initially sparked Thursday and had burned about 3,800 acres by Saturday morning, before ballooning thousands of acres through the afternoon. The blaze was so intense that it also formed a towering pyrocumulonimbus cloud — a 🔥-generated thunderstorm — that was sending out its own lightning, erratic winds and brief rain.\n",
      "\n",
      "The Line Fire is spreading amid a scorching heat wave in Southern California that has rivaled one seen in September 2020, with temperatures approaching or tying all-time records, exceeding 105 and even 110 degrees in many locations.\n",
      "\n",
      "Advertisement\n",
      "\n",
      "Vegetation in the area is “critically dry,” according to the San Bernardino National Forest.\n",
      "\n",
      "“The San Bernardino front country … has everything you need for a 🔥 to get big,” retired Cal Fire assistant chief Tim Chavez said in an interview posted online by the Lookout, a wild🔥 reporting website.\n",
      "\n",
      "Along with this week’s heat, Chavez said, that includes heavy fuels that in most places haven’t burned since the 1990s — and “steep, steep terrain leading up to the mountain communities.”\n",
      "\n",
      "“Fuels that are stressed like that — they tend to surprise you,” he said.\n",
      "\n",
      "Firefighters battled fast-spreading wild🔥s ravaging thousands of acres across California and Nevada this weekend, forcing many residents to evacuate. (Video: Naomi Schanen, Anna Liss-Roy/The Washington Post)\n",
      "\n",
      "Temperatures at the base of the 🔥 have been running about 105-110 degrees each day this weekend, Alex Tardy, a meteorologist with the National Weather Service in San Diego, said in an email.\n",
      "\n",
      "He compared the blaze to the El Dorado Fire, which sparked during the September 2020 heat wave, burning almost 23,000 acres in San Bernardino and Riverside counties.\n",
      "\n",
      "Advertisement\n",
      "\n",
      "“These 🔥s are occurring in light winds, but this one is a little more complicated because it had thunderstorms over it yesterday and likely today as well,” he said.\n",
      "\n",
      "Stormy skies cloud parts of the region, as monsoon thunderstorms in the area Saturday also helped to intensify the 🔥.\n",
      "\n",
      "“Unfortunately, the weather conditions over the next few days are not going to be favorable,” Swain said in the Saturday briefing. “It’s going to be very hot and relatively unstable over the next few days with some increasing winds next week.\n",
      "\n",
      "Cooler weather is expected to move in by midweek, but that transition could come with strong winds.\n",
      "\n",
      "Boyles Fire\n",
      "\n",
      "California 🔥fighters are also battling to contain blazes around Los Angeles County, San Diego County and the city of Clearlake, which is about 100 miles northwest of Sacramento.\n",
      "\n",
      "Advertisement\n",
      "\n",
      "The Boyles Fire in Clearlake, in Lake County, has burned through about 76 acres and was about 10 percent contained as of Sunday evening. Authorities issued evacuation orders for two parts of the town, displacing at least 4,000 of its approximately 17,000 residents.\n",
      "\n",
      "According to Cal Fire, which posted a Sunday night update from the Lake County Fire Protection District, the blaze has “impacted” about 30 structures, although it is too soon to assess the damage. It has also destroyed more than 40 vehicles, the agency said.\n",
      "\n",
      "Bridge and Roblar Fires\n",
      "\n",
      "The Bridge Fire has ravaged at least 800 acres around the Angeles National Forest northeast of Los Angeles and Pasadena. In San Diego County, the Roblar Fire northeast of Camp Pendleton burned through at least 950 acres and remained only 20 percent contained as of Sunday night.\n",
      "\n",
      "Firefighting aircraft flew over the Bridge Fire on Sept. 8. The blaze has burned more than 800 acres northeast of Los Angeles and Pasadena, Calif. (Video: Angeles National Forest via Storyful)\n",
      "\n",
      "Fires in Nevada and Oregon\n",
      "\n",
      "Wild🔥s also raged Sunday in other parts of the western United States, including Nevada and Oregon.\n",
      "\n",
      "Advertisement\n",
      "\n",
      "In Oregon, multiple blazes in Deschutes County and northern Lake County have torn through thousands of acres of land and prompted evacuation notices. The Firestone Fire, 🔽east of Paulina Lake and within roughly an hour’s drive of the city of Bend, burned through at least 6,500 acres as of early Sunday evening. Meanwhile, the Flat Top Fire in the Deschutes National Forest has burned through at least 13,600 acres.\n",
      "\n",
      "In Nevada, strong, dry winds helped propel the Davis Fire 🔽 of Reno to roughly 6,500 acres, sparking a state of emergency declaration. Roughly 20,000 people have been evacuated ahead of the flames, according to the declaration from Nevada Gov. Joe Lombardo (R).\n",
      "\n",
      "The 🔥 destroyed at least 12 structures and continued to spread quickly Sunday, forcing new evacuations.\n",
      "\n",
      "The Western 🔥 season has roared back to life this past week as hot, dry conditions have returned. There are at least 70 large 🔥s burning out West, including 21 in Oregon, 19 in Idaho and 13 in Montana. A mix of wind and dry thunderstorms forecast for the coming days could exacerbate the situation and further strain 🔥fighting resources.\n",
      "\n",
      "Excessive heat in California is fueling the 🔥s\n",
      "\n",
      "The heat that has helped fuel the 🔥s has been extraordinary, especially in Southern California.\n",
      "\n",
      "Advertisement\n",
      "\n",
      "Downtown Los Angeles has observed its hottest weather of the year with highs near and above the century mark on four straight days. On Friday, it soared to a calendar-day record of 112, which tied for its all-time second-hottest day. On Sunday, it reached 104, another calendar-day record and one of many in the region.\n",
      "\n",
      "Other notable high temperatures include:\n",
      "\n",
      "Palm Springs: 121 degrees Friday.\n",
      "\n",
      "Death Valley: 119 on Thursday and Friday; it has reached at least 116 every day this month.\n",
      "\n",
      "Burbank: 114 on Thursday and Friday, tying the all-time high.\n",
      "\n",
      "Long Beach: 109 on Friday, a calendar-day record and fifth hottest of all time. It has reached at least 100 on four straight days , tied for most on record. A fifth is possible Monday.\n",
      "\n",
      "Widespread dangerous heat is forecast to persist in Southern California for one more day before starting to ease Tuesday. By Wednesday, highs will decrease into the 70s and 80s in most areas outside of the deserts because of a wind off the ocean.\n",
      "\n",
      "More dangerous 🔥 weather on Monday\n",
      "\n",
      "A red-flag warning for dangerous 🔥 weather runs until 11 p.m. Monday in the Santa Ynez Mountains and coastal areas in 🔽west Santa Barbara County because of the combination of heat, low humidity and strong winds. Gusts of 30 mph or higher remain possible, with erratic and gustier winds a threat near any large 🔥s.\n"
     ]
    }
   ],
   "source": [
    "import newspaper\n",
    "from newspaper import Article\n",
    "import emoji\n",
    "\n",
    "# URL of the article you want to extract\n",
    "url = 'https://www.washingtonpost.com/weather/2024/09/08/california-line-fire-evacuations-san-bernardino/?itid=hp-top-table-main_p001_f006'\n",
    "\n",
    "# Extract the article\n",
    "article = Article(url)\n",
    "article.download()\n",
    "article.parse()\n",
    "\n",
    "# Display article text\n",
    "# print(article.text)\n",
    "def add_emojis(text):\n",
    "    # Mapping of keywords to emojis\n",
    "    emoji_map = {\n",
    "        'happy': '😊',\n",
    "        'love': '❤️',\n",
    "        'money': '💰',\n",
    "        'fire': '🔥',\n",
    "        'good': '👍',\n",
    "        'bad': '👎',\n",
    "        'south': '🔽'\n",
    "    }\n",
    "\n",
    "    # Replace words with their emoji equivalent\n",
    "    for word, emj in emoji_map.items():\n",
    "        text = text.replace(word, emj)\n",
    "    \n",
    "    return text\n",
    "\n",
    "# Add emojis to the extracted article\n",
    "article_with_emojis = add_emojis(article.text)\n",
    "\n",
    "# Display article with emojis\n",
    "print(article_with_emojis)"
   ]
  }
 ],
 "metadata": {
  "kernelspec": {
   "display_name": "Python 3",
   "language": "python",
   "name": "python3"
  },
  "language_info": {
   "codemirror_mode": {
    "name": "ipython",
    "version": 3
   },
   "file_extension": ".py",
   "mimetype": "text/x-python",
   "name": "python",
   "nbconvert_exporter": "python",
   "pygments_lexer": "ipython3",
   "version": "3.12.3"
  }
 },
 "nbformat": 4,
 "nbformat_minor": 2
}
