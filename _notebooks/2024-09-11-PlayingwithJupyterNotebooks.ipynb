{
 "cells": [
  {
   "cell_type": "raw",
   "metadata": {},
   "source": [
    "---\n",
    "layout: post\n",
    "title: Playing With Hacks\n",
    "description: Jupyter notebooks and Python \n",
    "courses: { csp: {week: 1} }\n",
    "comments: true\n",
    "sticky_rank: 1\n",
    "---"
   ]
  },
  {
   "cell_type": "code",
   "execution_count": 2,
   "metadata": {},
   "outputs": [
    {
     "name": "stdout",
     "output_type": "stream",
     "text": [
      "hello world\n"
     ]
    }
   ],
   "source": [
    "print(\"hello world\")"
   ]
  },
  {
   "cell_type": "code",
   "execution_count": 3,
   "metadata": {},
   "outputs": [
    {
     "name": "stdout",
     "output_type": "stream",
     "text": [
      "Requirement already satisfied: wikipedia in /home/darsh22/nighthawk/darsh_2025/venv/lib/python3.12/site-packages (1.4.0)\n",
      "Requirement already satisfied: beautifulsoup4 in /home/darsh22/nighthawk/darsh_2025/venv/lib/python3.12/site-packages (from wikipedia) (4.12.3)\n",
      "Requirement already satisfied: requests<3.0.0,>=2.0.0 in /home/darsh22/nighthawk/darsh_2025/venv/lib/python3.12/site-packages (from wikipedia) (2.32.3)\n",
      "Requirement already satisfied: charset-normalizer<4,>=2 in /home/darsh22/nighthawk/darsh_2025/venv/lib/python3.12/site-packages (from requests<3.0.0,>=2.0.0->wikipedia) (3.3.2)\n",
      "Requirement already satisfied: idna<4,>=2.5 in /home/darsh22/nighthawk/darsh_2025/venv/lib/python3.12/site-packages (from requests<3.0.0,>=2.0.0->wikipedia) (3.8)\n",
      "Requirement already satisfied: urllib3<3,>=1.21.1 in /home/darsh22/nighthawk/darsh_2025/venv/lib/python3.12/site-packages (from requests<3.0.0,>=2.0.0->wikipedia) (2.2.2)\n",
      "Requirement already satisfied: certifi>=2017.4.17 in /home/darsh22/nighthawk/darsh_2025/venv/lib/python3.12/site-packages (from requests<3.0.0,>=2.0.0->wikipedia) (2024.8.30)\n",
      "Requirement already satisfied: soupsieve>1.2 in /home/darsh22/nighthawk/darsh_2025/venv/lib/python3.12/site-packages (from beautifulsoup4->wikipedia) (2.6)\n"
     ]
    }
   ],
   "source": [
    "!pip install wikipedia"
   ]
  },
  {
   "cell_type": "code",
   "execution_count": 5,
   "metadata": {},
   "outputs": [
    {
     "name": "stdout",
     "output_type": "stream",
     "text": [
      "Welcome to Wikipedia!\n",
      "car\n"
     ]
    },
    {
     "data": {
      "text/markdown": [
       "The cat (Felis catus), also referred to as domestic cat or house cat, is a small domesticated carnivorous mammal. It is the only domesticated species of the family Felidae. Advances in archaeology and genetics have shown that the domestication of the cat occurred in the Near East around 7500 BC. It is commonly kept as a house pet and farm cat, but also ranges freely as a feral cat avoiding human contact. Valued by humans for companionship and its ability to kill vermin, the cat's retractable claws are adapted to killing small prey like mice and rats. It has a strong, flexible body, quick reflexes, and sharp teeth, and its night vision and sense of smell are well developed. It is a social species, but a solitary hunter and a crepuscular predator. Cat communication includes vocalizations like meowing, purring, trilling, hissing, growling, and grunting as well as cat body language. It can hear sounds too faint or too high in frequency for human ears, such as those made by small mammals. It secretes and perceives pheromones.\n",
       "Female domestic cats can have kittens from spring to late autumn in temperate zones and throughout the year in equatorial regions, with litter sizes often ranging from two to five kittens. Domestic cats are bred and shown at events as registered pedigreed cats, a hobby known as cat fancy. Animal population control of cats may be achieved by spaying and neutering, but their proliferation and the abandonment of pets has resulted in large numbers of feral cats worldwide, contributing to the extinction of bird, mammal, and reptile species.\n",
       "As of 2017, the domestic cat was the second most popular pet in the United States, with 95.6 million cats owned and around 42 million households owning at least one cat. In the United Kingdom, 26% of adults have a cat, with an estimated population of 10.9 million pet cats as of 2020. As of 2021, there were an estimated 220 million owned and 480 million stray cats in the world."
      ],
      "text/plain": [
       "<IPython.core.display.Markdown object>"
      ]
     },
     "metadata": {},
     "output_type": "display_data"
    },
    {
     "name": "stdout",
     "output_type": "stream",
     "text": [
      "money\n"
     ]
    },
    {
     "data": {
      "text/markdown": [
       "Money is any item or verifiable record that is generally accepted as payment for goods and services and repayment of debts, such as taxes, in a particular country or socio-economic context. The primary functions which distinguish money are: medium of exchange, a unit of account, a store of value and sometimes, a standard of deferred payment.\n",
       "Money was historically an emergent market phenomenon that possessed intrinsic value as a commodity; nearly all contemporary money systems are based on unbacked fiat money without use value. Its value is consequently derived by social convention, having been declared by a government or regulatory entity to be legal tender; that is, it must be accepted as a form of payment within the boundaries of the country, for \"all debts, public and private\", in the case of the United States dollar.\n",
       "The money supply of a country comprises all currency in circulation (banknotes and coins currently issued) and, depending on the particular definition used, one or more types of bank money (the balances held in checking accounts, savings accounts, and other types of bank accounts). Bank money, whose value exists on the books of financial institutions and can be converted into physical notes or used for cashless payment, forms by far the largest part of broad money in developed countries."
      ],
      "text/plain": [
       "<IPython.core.display.Markdown object>"
      ]
     },
     "metadata": {},
     "output_type": "display_data"
    },
    {
     "name": "stdout",
     "output_type": "stream",
     "text": [
      "Here is your search history: ['car', 'money']\n",
      "Search history cleared!\n",
      "[]\n",
      "Thank you for visiting Wikipedia! Come back soon!\n"
     ]
    }
   ],
   "source": [
    "import wikipedia\n",
    "from IPython.display import display, Markdown\n",
    "\n",
    "print(\"Welcome to Wikipedia!\")\n",
    "search_history = []\n",
    "condition = True\n",
    "while condition:\n",
    "    search_input = input(\"Enter a search or type 'quit' to exit: \")\n",
    "    if search_input != \"quit\":\n",
    "            result = wikipedia.search(search_input)\n",
    "            # Get the summary of the first result\n",
    "            summary = wikipedia.summary(result[0])\n",
    "            print(search_input)\n",
    "            search_history.append(search_input)\n",
    "            # print(summary) # console display\n",
    "            display(Markdown(summary)) # Jupyter display\n",
    "    else:\n",
    "        condition = False\n",
    "        print(f\"Here is your search history: {search_history}\")\n",
    "        choice = input(\"Would you like to clear your search history? [y/n]\")\n",
    "        if choice == \"y\":\n",
    "            search_history.clear()\n",
    "            print(\"Search history cleared!\")\n",
    "            print(search_history)\n",
    "        elif choice == \"n\":\n",
    "            print(\"Ok, no problem.\")\n",
    "        else:\n",
    "            print(\"Invalid choice entered.\")\n",
    "        print(\"Thank you for visiting Wikipedia! Come back soon!\")"
   ]
  },
  {
   "cell_type": "code",
   "execution_count": 2,
   "metadata": {},
   "outputs": [
    {
     "name": "stdout",
     "output_type": "stream",
     "text": [
      "Requirement already satisfied: newspaper3k in /home/darsh22/nighthawk/darsh_2025/venv/lib/python3.12/site-packages (0.2.8)\n",
      "Requirement already satisfied: beautifulsoup4>=4.4.1 in /home/darsh22/nighthawk/darsh_2025/venv/lib/python3.12/site-packages (from newspaper3k) (4.12.3)\n",
      "Requirement already satisfied: Pillow>=3.3.0 in /home/darsh22/nighthawk/darsh_2025/venv/lib/python3.12/site-packages (from newspaper3k) (10.4.0)\n",
      "Requirement already satisfied: PyYAML>=3.11 in /home/darsh22/nighthawk/darsh_2025/venv/lib/python3.12/site-packages (from newspaper3k) (6.0.2)\n",
      "Requirement already satisfied: cssselect>=0.9.2 in /home/darsh22/nighthawk/darsh_2025/venv/lib/python3.12/site-packages (from newspaper3k) (1.2.0)\n",
      "Requirement already satisfied: lxml>=3.6.0 in /home/darsh22/nighthawk/darsh_2025/venv/lib/python3.12/site-packages (from newspaper3k) (5.3.0)\n",
      "Requirement already satisfied: nltk>=3.2.1 in /home/darsh22/nighthawk/darsh_2025/venv/lib/python3.12/site-packages (from newspaper3k) (3.9.1)\n",
      "Requirement already satisfied: requests>=2.10.0 in /home/darsh22/nighthawk/darsh_2025/venv/lib/python3.12/site-packages (from newspaper3k) (2.32.3)\n",
      "Requirement already satisfied: feedparser>=5.2.1 in /home/darsh22/nighthawk/darsh_2025/venv/lib/python3.12/site-packages (from newspaper3k) (6.0.11)\n",
      "Requirement already satisfied: tldextract>=2.0.1 in /home/darsh22/nighthawk/darsh_2025/venv/lib/python3.12/site-packages (from newspaper3k) (5.1.2)\n",
      "Requirement already satisfied: feedfinder2>=0.0.4 in /home/darsh22/nighthawk/darsh_2025/venv/lib/python3.12/site-packages (from newspaper3k) (0.0.4)\n",
      "Requirement already satisfied: jieba3k>=0.35.1 in /home/darsh22/nighthawk/darsh_2025/venv/lib/python3.12/site-packages (from newspaper3k) (0.35.1)\n",
      "Requirement already satisfied: python-dateutil>=2.5.3 in /home/darsh22/nighthawk/darsh_2025/venv/lib/python3.12/site-packages (from newspaper3k) (2.9.0.post0)\n",
      "Requirement already satisfied: tinysegmenter==0.3 in /home/darsh22/nighthawk/darsh_2025/venv/lib/python3.12/site-packages (from newspaper3k) (0.3)\n",
      "Requirement already satisfied: soupsieve>1.2 in /home/darsh22/nighthawk/darsh_2025/venv/lib/python3.12/site-packages (from beautifulsoup4>=4.4.1->newspaper3k) (2.6)\n",
      "Requirement already satisfied: six in /home/darsh22/nighthawk/darsh_2025/venv/lib/python3.12/site-packages (from feedfinder2>=0.0.4->newspaper3k) (1.16.0)\n",
      "Requirement already satisfied: sgmllib3k in /home/darsh22/nighthawk/darsh_2025/venv/lib/python3.12/site-packages (from feedparser>=5.2.1->newspaper3k) (1.0.0)\n",
      "Requirement already satisfied: click in /home/darsh22/nighthawk/darsh_2025/venv/lib/python3.12/site-packages (from nltk>=3.2.1->newspaper3k) (8.1.7)\n",
      "Requirement already satisfied: joblib in /home/darsh22/nighthawk/darsh_2025/venv/lib/python3.12/site-packages (from nltk>=3.2.1->newspaper3k) (1.4.2)\n",
      "Requirement already satisfied: regex>=2021.8.3 in /home/darsh22/nighthawk/darsh_2025/venv/lib/python3.12/site-packages (from nltk>=3.2.1->newspaper3k) (2024.7.24)\n",
      "Requirement already satisfied: tqdm in /home/darsh22/nighthawk/darsh_2025/venv/lib/python3.12/site-packages (from nltk>=3.2.1->newspaper3k) (4.66.5)\n",
      "Requirement already satisfied: charset-normalizer<4,>=2 in /home/darsh22/nighthawk/darsh_2025/venv/lib/python3.12/site-packages (from requests>=2.10.0->newspaper3k) (3.3.2)\n",
      "Requirement already satisfied: idna<4,>=2.5 in /home/darsh22/nighthawk/darsh_2025/venv/lib/python3.12/site-packages (from requests>=2.10.0->newspaper3k) (3.8)\n",
      "Requirement already satisfied: urllib3<3,>=1.21.1 in /home/darsh22/nighthawk/darsh_2025/venv/lib/python3.12/site-packages (from requests>=2.10.0->newspaper3k) (2.2.2)\n",
      "Requirement already satisfied: certifi>=2017.4.17 in /home/darsh22/nighthawk/darsh_2025/venv/lib/python3.12/site-packages (from requests>=2.10.0->newspaper3k) (2024.8.30)\n",
      "Requirement already satisfied: requests-file>=1.4 in /home/darsh22/nighthawk/darsh_2025/venv/lib/python3.12/site-packages (from tldextract>=2.0.1->newspaper3k) (2.1.0)\n",
      "Requirement already satisfied: filelock>=3.0.8 in /home/darsh22/nighthawk/darsh_2025/venv/lib/python3.12/site-packages (from tldextract>=2.0.1->newspaper3k) (3.16.0)\n"
     ]
    }
   ],
   "source": [
    "!pip install newspaper3k"
   ]
  },
  {
   "cell_type": "code",
   "execution_count": 3,
   "metadata": {},
   "outputs": [
    {
     "name": "stdout",
     "output_type": "stream",
     "text": [
      "^C\n",
      "Traceback (most recent call last):\n",
      "  File \"/home/darsh22/nighthawk/darsh_2025/venv/bin/pip\", line 8, in <module>\n",
      "    sys.exit(main())\n",
      "             ^^^^^^\n",
      "  File \"/home/darsh22/nighthawk/darsh_2025/venv/lib/python3.12/site-packages/pip/_internal/cli/main.py\", line 77, in main\n",
      "    command = create_command(cmd_name, isolated=(\"--isolated\" in cmd_args))\n",
      "              ^^^^^^^^^^^^^^^^^^^^^^^^^^^^^^^^^^^^^^^^^^^^^^^^^^^^^^^^^^^^^\n",
      "  File \"/home/darsh22/nighthawk/darsh_2025/venv/lib/python3.12/site-packages/pip/_internal/commands/__init__.py\", line 114, in create_command\n",
      "    module = importlib.import_module(module_path)\n",
      "             ^^^^^^^^^^^^^^^^^^^^^^^^^^^^^^^^^^^^\n",
      "  File \"/usr/lib/python3.12/importlib/__init__.py\", line 90, in import_module\n",
      "    return _bootstrap._gcd_import(name[level:], package, level)\n",
      "           ^^^^^^^^^^^^^^^^^^^^^^^^^^^^^^^^^^^^^^^^^^^^^^^^^^^^\n",
      "  File \"<frozen importlib._bootstrap>\", line 1387, in _gcd_import\n",
      "  File \"<frozen importlib._bootstrap>\", line 1360, in _find_and_load\n",
      "  File \"<frozen importlib._bootstrap>\", line 1331, in _find_and_load_unlocked\n",
      "  File \"<frozen importlib._bootstrap>\", line 935, in _load_unlocked\n",
      "  File \"<frozen importlib._bootstrap_external>\", line 995, in exec_module\n",
      "  File \"<frozen importlib._bootstrap>\", line 488, in _call_with_frames_removed\n",
      "  File \"/home/darsh22/nighthawk/darsh_2025/venv/lib/python3.12/site-packages/pip/_internal/commands/install.py\", line 15, in <module>\n",
      "    from pip._internal.cli.req_command import (\n",
      "  File \"/home/darsh22/nighthawk/darsh_2025/venv/lib/python3.12/site-packages/pip/_internal/cli/req_command.py\", line 21, in <module>\n",
      "    from pip._internal.index.package_finder import PackageFinder\n",
      "  File \"/home/darsh22/nighthawk/darsh_2025/venv/lib/python3.12/site-packages/pip/_internal/index/package_finder.py\", line 30, in <module>\n",
      "    from pip._internal.req import InstallRequirement\n",
      "  File \"/home/darsh22/nighthawk/darsh_2025/venv/lib/python3.12/site-packages/pip/_internal/req/__init__.py\", line 8, in <module>\n",
      "    from .req_install import InstallRequirement\n",
      "  File \"/home/darsh22/nighthawk/darsh_2025/venv/lib/python3.12/site-packages/pip/_internal/req/req_install.py\", line 40, in <module>\n",
      "    from pip._internal.operations.install.wheel import install_wheel\n",
      "  File \"/home/darsh22/nighthawk/darsh_2025/venv/lib/python3.12/site-packages/pip/_internal/operations/install/wheel.py\", line 242, in <module>\n",
      "    old_csv_rows: List[List[str]],\n",
      "                  ~~~~^^^^^^^^^^^\n",
      "  File \"/usr/lib/python3.12/typing.py\", line 395, in inner\n",
      "    return _caches[func](*args, **kwds)\n",
      "           ^^^^^^^^^^^^^^^^^^^^^^^^^^^^\n",
      "KeyboardInterrupt\n"
     ]
    }
   ],
   "source": [
    "!pip install newspaper"
   ]
  },
  {
   "cell_type": "code",
   "execution_count": 4,
   "metadata": {},
   "outputs": [
    {
     "name": "stdout",
     "output_type": "stream",
     "text": [
      "Requirement already satisfied: emoji in /home/darsh22/nighthawk/darsh_2025/venv/lib/python3.12/site-packages (2.12.1)\n",
      "Requirement already satisfied: typing-extensions>=4.7.0 in /home/darsh22/nighthawk/darsh_2025/venv/lib/python3.12/site-packages (from emoji) (4.12.2)\n"
     ]
    }
   ],
   "source": [
    "!pip install emoji"
   ]
  },
  {
   "cell_type": "code",
   "execution_count": 5,
   "metadata": {},
   "outputs": [
    {
     "name": "stdout",
     "output_type": "stream",
     "text": [
      "Collecting newspaper\n",
      "  Using cached newspaper-0.1.0.7.tar.gz (176 kB)\n",
      "  Installing build dependencies ... \u001b[?25ldone\n",
      "\u001b[?25h  Getting requirements to build wheel ... \u001b[?25lerror\n",
      "  \u001b[1;31merror\u001b[0m: \u001b[1msubprocess-exited-with-error\u001b[0m\n",
      "  \n",
      "  \u001b[31m×\u001b[0m \u001b[32mGetting requirements to build wheel\u001b[0m did not run successfully.\n",
      "  \u001b[31m│\u001b[0m exit code: \u001b[1;36m1\u001b[0m\n",
      "  \u001b[31m╰─>\u001b[0m \u001b[31m[1 lines of output]\u001b[0m\n",
      "  \u001b[31m   \u001b[0m \u001b[31;1mWARNING! You are attempting to install newspaper's python2 repository on python3. PLEASE RUN `$ pip3 install newspaper3k` for python3 or `$ pip install newspaper` for python2\u001b[0m\n",
      "  \u001b[31m   \u001b[0m \u001b[31m[end of output]\u001b[0m\n",
      "  \n",
      "  \u001b[1;35mnote\u001b[0m: This error originates from a subprocess, and is likely not a problem with pip.\n",
      "\u001b[?25h\u001b[1;31merror\u001b[0m: \u001b[1msubprocess-exited-with-error\u001b[0m\n",
      "\n",
      "\u001b[31m×\u001b[0m \u001b[32mGetting requirements to build wheel\u001b[0m did not run successfully.\n",
      "\u001b[31m│\u001b[0m exit code: \u001b[1;36m1\u001b[0m\n",
      "\u001b[31m╰─>\u001b[0m See above for output.\n",
      "\n",
      "\u001b[1;35mnote\u001b[0m: This error originates from a subprocess, and is likely not a problem with pip.\n"
     ]
    }
   ],
   "source": [
    "!pip install newspaper"
   ]
  },
  {
   "cell_type": "code",
   "execution_count": 6,
   "metadata": {},
   "outputs": [
    {
     "name": "stdout",
     "output_type": "stream",
     "text": [
      "Requirement already satisfied: lxml in /home/darsh22/nighthawk/darsh_2025/venv/lib/python3.12/site-packages (5.3.0)\n",
      "Requirement already satisfied: lxml_html_clean in /home/darsh22/nighthawk/darsh_2025/venv/lib/python3.12/site-packages (0.2.2)\n",
      "Note: you may need to restart the kernel to use updated packages.\n"
     ]
    }
   ],
   "source": [
    "pip install lxml lxml_html_clean"
   ]
  },
  {
   "cell_type": "code",
   "execution_count": 7,
   "metadata": {},
   "outputs": [
    {
     "name": "stdout",
     "output_type": "stream",
     "text": [
      "Requirement already satisfied: lxml[html_clean] in /home/darsh22/nighthawk/darsh_2025/venv/lib/python3.12/site-packages (5.3.0)\n",
      "Requirement already satisfied: lxml-html-clean in /home/darsh22/nighthawk/darsh_2025/venv/lib/python3.12/site-packages (from lxml[html_clean]) (0.2.2)\n"
     ]
    }
   ],
   "source": [
    "!pip install lxml[html_clean]"
   ]
  },
  {
   "cell_type": "code",
   "execution_count": 8,
   "metadata": {},
   "outputs": [
    {
     "name": "stdout",
     "output_type": "stream",
     "text": [
      "Firefighters are battling an eruption of wild🔥s in the western United States this weekend, with flames ravaging thousands of acres and triggering evacuation orders across California, Oregon and Nevada. Line Fire The quick-moving Line Fire in Southern California exploded over the weekend, consuming more than 20,500 acres as of late Sunday and forcing evacuations amid a searing heat wave in the region. It was zero percent contained as of just after 9 p.m. Sunday, authorities said.\n",
      "\n",
      "The blaze in San Bernardino County, which ignited late last week, quadrupled in size as the weekend began, scorching thousands of acres on Saturday alone. The flames raced up steep terrain, chewing through thick vegetation as they approached Running Springs, a mountain community of about 5,000 people that lies between the populated resort areas of Lake Arrowhead and Big Bear Lake. The community has been ordered to evacuate, while Lake Arrowhead and areas to its west are under an evacuation warning. By Sunday evening, Cal Fire estimated that the blaze threatened more than 36,000 structures, including family homes and businesses.\n",
      "\n",
      "The San Bernardino County 🔥 quadrupled in size over the weekend, and Gov. Gavin Newsom (D) has declared a state of emergency in the county. (Video: Menifee Battalion Chief via Storyful)\n",
      "\n",
      "Evacuation orders are also in effect on the 🔽 side of the 🔥, while structures could be affected in the city of Highland, which lies at the base of the mountains in San Bernardino County. Three 🔥fighters had been injured battling the blaze as of Sunday afternoon, according to a Cal Fire incident update. “Hot and dry conditions mixed with thunderstorms are expected to challenge 🔥fighters for the next few days,” the update stated.\n",
      "\n",
      "Advertisement\n",
      "\n",
      "Gov. Gavin Newsom (D) proclaimed a state of emergency in the county to secure federal assistance to respond to the 🔥, which is threatening homes as well as critical infrastructure.\n",
      "\n",
      "The 🔥 has “room to grow now in essentially three directions and there are population centers and pretty dense, dry vegetation in between those population centers,” UCLA climate scientist Daniel Swain said in a Saturday briefing.\n",
      "\n",
      "The 🔥 initially sparked Thursday and had burned about 3,800 acres by Saturday morning, before ballooning thousands of acres through the afternoon. The blaze was so intense that it also formed a towering pyrocumulonimbus cloud — a 🔥-generated thunderstorm — that was sending out its own lightning, erratic winds and brief rain.\n",
      "\n",
      "The Line Fire is spreading amid a scorching heat wave in Southern California that has rivaled one seen in September 2020, with temperatures approaching or tying all-time records, exceeding 105 and even 110 degrees in many locations.\n",
      "\n",
      "Advertisement\n",
      "\n",
      "Vegetation in the area is “critically dry,” according to the San Bernardino National Forest.\n",
      "\n",
      "“The San Bernardino front country … has everything you need for a 🔥 to get big,” retired Cal Fire assistant chief Tim Chavez said in an interview posted online by the Lookout, a wild🔥 reporting website.\n",
      "\n",
      "Along with this week’s heat, Chavez said, that includes heavy fuels that in most places haven’t burned since the 1990s — and “steep, steep terrain leading up to the mountain communities.”\n",
      "\n",
      "“Fuels that are stressed like that — they tend to surprise you,” he said.\n",
      "\n",
      "Firefighters battled fast-spreading wild🔥s ravaging thousands of acres of land across California and Nevada this weekend, forcing thousands to evacuate. (Video: Naomi Schanen, Anna Liss-Roy/The Washington Post)\n",
      "\n",
      "Temperatures at the base of the 🔥 have been running about 105-110 degrees each day this weekend, Alex Tardy, a meteorologist with the National Weather Service in San Diego, said in an email.\n",
      "\n",
      "He compared the blaze to the El Dorado Fire, which sparked during the September 2020 heat wave, burning almost 23,000 acres in San Bernardino and Riverside counties.\n",
      "\n",
      "Advertisement\n",
      "\n",
      "“These 🔥s are occurring in light winds, but this one is a little more complicated because it had thunderstorms over it yesterday and likely today as well,” he said.\n",
      "\n",
      "Stormy skies cloud parts of the region, as monsoon thunderstorms in the area Saturday also helped to intensify the 🔥.\n",
      "\n",
      "“Unfortunately, the weather conditions over the next few days are not going to be favorable,” Swain said in the Saturday briefing. “It’s going to be very hot and relatively unstable over the next few days with some increasing winds next week.\n",
      "\n",
      "Cooler weather is expected to move in by midweek, but that transition could come with strong winds.\n",
      "\n",
      "Boyles Fire\n",
      "\n",
      "California 🔥fighters are also battling to contain blazes around Los Angeles County, San Diego County and the city of Clearlake, which is about 100 miles northwest of Sacramento.\n",
      "\n",
      "Advertisement\n",
      "\n",
      "The Boyles Fire in Clearlake, in Lake County, has burned through about 76 acres and was about 10 percent contained as of Sunday evening. Authorities issued evacuation orders for two parts of the town, displacing at least 4,000 of its approximately 17,000 residents.\n",
      "\n",
      "According to Cal Fire, which posted a Sunday night update from the Lake County Fire Protection District, the blaze has “impacted” about 30 structures, although it is too soon to assess the damage. It has also destroyed more than 40 vehicles, the agency said.\n",
      "\n",
      "Bridge and Roblar Fires\n",
      "\n",
      "The Bridge Fire has ravaged at least 800 acres around the Angeles National Forest northeast of Los Angeles and Pasadena. In San Diego County, the Roblar Fire northeast of Camp Pendleton burned through at least 950 acres and remained only 20 percent contained as of Sunday night.\n",
      "\n",
      "Firefighting aircraft flew over the Bridge Fire on Sept. 8. The blaze has burned more than 800 acres northeast of Los Angeles and Pasadena, Calif. (Video: Angeles National Forest via Storyful)\n",
      "\n",
      "Fires in Nevada and Oregon\n",
      "\n",
      "Wild🔥s also raged Sunday in other parts of the western United States, including Nevada and Oregon.\n",
      "\n",
      "Advertisement\n",
      "\n",
      "In Oregon, multiple blazes in Deschutes County and northern Lake County have torn through thousands of acres of land and prompted evacuation notices. The Firestone Fire, 🔽east of Paulina Lake and within roughly an hour’s drive of the city of Bend, burned through at least 6,500 acres as of early Sunday evening. Meanwhile, the Flat Top Fire in the Deschutes National Forest has burned through at least 13,600 acres.\n",
      "\n",
      "In Nevada, strong, dry winds helped propel the Davis Fire 🔽 of Reno to roughly 6,500 acres, sparking a state of emergency declaration. Roughly 20,000 people have been evacuated ahead of the flames, according to the declaration from Nevada Gov. Joe Lombardo (R).\n",
      "\n",
      "The 🔥 destroyed at least 12 structures and continued to spread quickly Sunday, forcing new evacuations.\n",
      "\n",
      "The Western 🔥 season has roared back to life this past week as hot, dry conditions have returned. There are at least 70 large 🔥s burning out West, including 21 in Oregon, 19 in Idaho and 13 in Montana. A mix of wind and dry thunderstorms forecast for the coming days could exacerbate the situation and further strain 🔥fighting resources.\n",
      "\n",
      "Excessive heat in California is fueling the 🔥s\n",
      "\n",
      "The heat that has helped fuel the 🔥s has been extraordinary, especially in Southern California.\n",
      "\n",
      "Advertisement\n",
      "\n",
      "Downtown Los Angeles has observed its hottest weather of the year with highs near and above the century mark on four straight days. On Friday, it soared to a calendar-day record of 112, which tied for its all-time second-hottest day. On Sunday, it reached 104, another calendar-day record and one of many in the region.\n",
      "\n",
      "Other notable high temperatures include:\n",
      "\n",
      "Palm Springs: 121 degrees Friday.\n",
      "\n",
      "Death Valley: 119 on Thursday and Friday; it has reached at least 116 every day this month.\n",
      "\n",
      "Burbank: 114 on Thursday and Friday, tying the all-time high.\n",
      "\n",
      "Long Beach: 109 on Friday, a calendar-day record and fifth hottest of all time. It has reached at least 100 on four straight days , tied for most on record. A fifth is possible Monday.\n",
      "\n",
      "Widespread dangerous heat is forecast to persist in Southern California for one more day before starting to ease Tuesday. By Wednesday, highs will decrease into the 70s and 80s in most areas outside of the deserts because of a wind off the ocean.\n",
      "\n",
      "More dangerous 🔥 weather on Monday\n",
      "\n",
      "A red-flag warning for dangerous 🔥 weather runs until 11 p.m. Monday in the Santa Ynez Mountains and coastal areas in 🔽west Santa Barbara County because of the combination of heat, low humidity and strong winds. Gusts of 30 mph or higher remain possible, with erratic and gustier winds a threat near any large 🔥s.\n"
     ]
    }
   ],
   "source": [
    "import newspaper\n",
    "from newspaper import Article\n",
    "import emoji\n",
    "\n",
    "# URL of the article you want to extract\n",
    "url = 'https://www.washingtonpost.com/weather/2024/09/08/california-line-fire-evacuations-san-bernardino/?itid=hp-top-table-main_p001_f006'\n",
    "\n",
    "# Extract the article\n",
    "article = Article(url)\n",
    "article.download()\n",
    "article.parse()\n",
    "\n",
    "# Display article text\n",
    "# print(article.text)\n",
    "def add_emojis(text):\n",
    "    # Mapping of keywords to emojis\n",
    "    emoji_map = {\n",
    "        'happy': '😊',\n",
    "        'love': '❤️',\n",
    "        'money': '💰',\n",
    "        'fire': '🔥',\n",
    "        'good': '👍',\n",
    "        'bad': '👎',\n",
    "        'south': '🔽'\n",
    "    }\n",
    "\n",
    "    # Replace words with their emoji equivalent\n",
    "    for word, emj in emoji_map.items():\n",
    "        text = text.replace(word, emj)\n",
    "    \n",
    "    return text\n",
    "\n",
    "# Add emojis to the extracted article\n",
    "article_with_emojis = add_emojis(article.text)\n",
    "\n",
    "# Display article with emojis\n",
    "print(article_with_emojis)"
   ]
  }
 ],
 "metadata": {
  "kernelspec": {
   "display_name": "Python 3",
   "language": "python",
   "name": "python3"
  },
  "language_info": {
   "codemirror_mode": {
    "name": "ipython",
    "version": 3
   },
   "file_extension": ".py",
   "mimetype": "text/x-python",
   "name": "python",
   "nbconvert_exporter": "python",
   "pygments_lexer": "ipython3",
   "version": "3.12.3"
  }
 },
 "nbformat": 4,
 "nbformat_minor": 2
}
