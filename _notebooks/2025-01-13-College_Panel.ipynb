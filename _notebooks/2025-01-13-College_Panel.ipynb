{
 "cells": [
  {
   "cell_type": "markdown",
   "metadata": {},
   "source": [
    "---\n",
    "layout: post\n",
    "title: College Panel\n",
    "description: Tips on college decisions\n",
    "courses: { csp: {week: 1} }\n",
    "comments: true\n",
    "sticky_rank: 1\n",
    "---"
   ]
  },
  {
   "cell_type": "code",
   "execution_count": null,
   "metadata": {
    "vscode": {
     "languageId": "plaintext"
    }
   },
   "outputs": [],
   "source": []
  },
  {
   "cell_type": "markdown",
   "metadata": {},
   "source": [
    "# College Panel Tips\n",
    "\n",
    "---\n",
    "\n",
    "## Building Skills\n",
    "🎯 **Key Points:**\n",
    "- Focus on developing practical skills over chasing objectives.\n",
    "- Use live class reviews to enhance learning.\n",
    "- Be clear, concise, and on-topic during presentations.\n",
    "- Highlight your achievements and personal methodology.\n",
    "- Use tools like flowcharts to simplify communication.\n",
    "- Maintain an organized GitHub for engineering-related internships.\n",
    "\n",
    "---\n",
    "\n",
    "## College Admissions\n",
    "\n",
    "### Essay Writing ✍️\n",
    "- Start early; avoid last-minute rushes.\n",
    "- Highlight your projects, skills, and experiences.\n",
    "- Reuse and adapt essays for different applications.\n",
    "\n",
    "### Academics and Extracurriculars 📚\n",
    "- Take AP courses to demonstrate academic rigor.\n",
    "- Balance STEM courses with humanities for versatility.\n",
    "- Consider community college classes to fast-track your learning.\n",
    "- Focus on impactful projects rather than perfect grades.\n",
    "\n",
    "### Researching Schools 🏫\n",
    "- Research universities, their majors, and specific opportunities.\n",
    "- Show genuine passion and interest in unique programs.\n",
    "- Highlight technical achievements, especially for tech-focused schools.\n",
    "\n",
    "### Networking 🤝\n",
    "- Email professors (especially for UC schools) to gain insights.\n",
    "- Attend creator fairs to build valuable connections.\n",
    "\n",
    "---\n",
    "\n",
    "## Internships and Portfolios\n",
    "\n",
    "### Internships 💼\n",
    "- Begin with internships, even if unrelated to your major.\n",
    "- Target startups for better accessibility.\n",
    "\n",
    "### Portfolio 📂\n",
    "- Keep a portfolio of projects, club activities, and experiences.\n",
    "- Some applications may require showcasing past projects.\n",
    "\n",
    "---\n",
    "\n",
    "## Clubs and Passions 🎨\n",
    "- Join clubs that align with your interests.\n",
    "- Demonstrate commitment and genuine passion.\n",
    "\n",
    "---\n",
    "\n",
    "![College Panel]({{ site.baseurl }}/images/panel.jpg)\n",
    "\n",
    "\n"
   ]
  }
 ],
 "metadata": {
  "language_info": {
   "name": "python"
  }
 },
 "nbformat": 4,
 "nbformat_minor": 2
}
