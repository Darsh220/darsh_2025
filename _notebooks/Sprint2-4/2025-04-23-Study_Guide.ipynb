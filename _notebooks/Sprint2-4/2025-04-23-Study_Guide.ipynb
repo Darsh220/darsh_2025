{
 "cells": [
  {
   "cell_type": "markdown",
   "id": "b69596ae",
   "metadata": {},
   "source": [
    "---\n",
    "layout: post\n",
    "title: Study Guide\n",
    "description: Notes from other lessons \n",
    "courses: { csp: {week: 5} }\n",
    "comments: true\n",
    "sticky_rank: 1\n",
    "---"
   ]
  },
  {
   "cell_type": "markdown",
   "id": "65816b1f",
   "metadata": {},
   "source": [
    "### 📊 Skill Analysis Report\n",
    "\n",
    "#### ❌ Missed Skills Overview\n",
    "\n",
    "You attempted 3 questions and missed all of them. Below is a breakdown of the **skills** associated with each question that you need to review.\n",
    "\n",
    "---\n",
    "\n",
    "#### 🔹 Q70 – *Remove nth character from oldStr*\n",
    "- **Topic**: 3.4, 3.12  \n",
    "- **Skill Missed**: `3.B`  \n",
    "- **Time Spent**: 36:18  \n",
    "- **Result**: 0/1  \n",
    "- ✅ **Takeaway**: Review string manipulation and indexing. Break problems into smaller parts and debug with print statements.\n",
    "\n",
    "---\n",
    "\n",
    "#### 🔹 Q69 – *Analyzing weather photos*\n",
    "- **Topic**: 2.3  \n",
    "- **Skill Missed**: `5.B`  \n",
    "- **Time Spent**: 00:04  \n",
    "- **Result**: 0/1  \n",
    "- ✅ **Takeaway**: Possibly rushed. Focus on data/image interpretation and ensure you understand the question before answering.\n",
    "\n",
    "---\n",
    "\n",
    "#### 🔹 Q55 – *Move element from end of list to beginning*\n",
    "- **Topic**: 3.10  \n",
    "- **Skill Missed**: `2.B`  \n",
    "- **Time Spent**: 00:05  \n",
    "- **Result**: 0/1  \n",
    "- ✅ **Takeaway**: Practice list operations like `pop()`, `insert()`, and slicing. Avoid rushing even simple-looking problems.\n",
    "\n",
    "---\n",
    "\n",
    "### 📘 Summary of Missed Skills\n",
    "\n",
    "| Skill Code | Area of Focus                                 |\n",
    "|------------|-----------------------------------------------|\n",
    "| **2.B**    | List operations and basic data structures     |\n",
    "| **3.B**    | String manipulation and indexing              |\n",
    "| **5.B**    | Data or image analysis, pattern recognition   |\n",
    "\n",
    "---\n",
    "\n",
    "### 💡 Suggestions\n",
    "- Spend more time reading the question thoroughly.\n",
    "- Practice problems focused on string handling, list manipulation, and data interpretation.\n",
    "- Let me know if you'd like custom practice problems or tutorials for these skills!"
   ]
  }
 ],
 "metadata": {
  "language_info": {
   "name": "python"
  }
 },
 "nbformat": 4,
 "nbformat_minor": 5
}
