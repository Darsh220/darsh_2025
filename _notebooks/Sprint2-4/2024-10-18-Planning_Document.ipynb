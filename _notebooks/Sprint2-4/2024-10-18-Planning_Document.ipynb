{
 "cells": [
  {
   "cell_type": "markdown",
   "metadata": {},
   "source": [
    "---\n",
    "layout: post\n",
    "title: N@TM Project Planning\n",
    "description: This is a planning document for the N@TM Project\n",
    "courses: { csp: {week: 1} }\n",
    "comments: true\n",
    "sticky_rank: 1\n",
    "---"
   ]
  },
  {
   "cell_type": "markdown",
   "metadata": {},
   "source": [
    "##### Some Ideas for Names for the website\n",
    "- Nighthawk nest\n",
    "- Nightnest\n",
    "- DNest\n",
    "\n",
    "##### Ideas for success and accountability \n",
    "- Each  team/table has process to check each others work, fork or branch off of classroom repository.  A place where a table validates and then makes a pull request.\n",
    "- Each classroom has a process to check each tables work, fork from flocker repos. The Integrator-of-integrators could  grant permission to act on pull requests to trusted individuals - in class, like scrum-master-of-scrum-master or another trusted table integrator.  But that is up to you!  But make sure you have a couple of backups, or just another set of eyes to make you successful.\n",
    "- Only  the integrator of integrators will be able to act on pull requests in official repo.\n",
    "\n",
    "##### \n",
    "\n",
    "##### Links for Important repos during project\n",
    "- https://github.com/nighthawkcoders/flocker_frontend (Flocker Frontend Repo)\n",
    "- https://github.com/nighthawkcoders/flocker_backend (Flocker Backend Repo)\n",
    "- https://github.com/nighthawkcoders/flask_2025 (Flask Repo)\n",
    "- https://github.com/nighthawkcoders/flask_portfolio (Flask Portfolio)\n",
    "- https://github.com/nighthawkcoders/portfolio_2025 (Main Link)\n",
    "- https://github.com/nighthawkcoders (Link to take me to main repos in class)\n",
    "\n",
    "\n",
    "\n"
   ]
  }
 ],
 "metadata": {
  "language_info": {
   "name": "python"
  }
 },
 "nbformat": 4,
 "nbformat_minor": 2
}
