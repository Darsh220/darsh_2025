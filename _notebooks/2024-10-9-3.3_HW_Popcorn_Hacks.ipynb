{
 "cells": [
  {
   "cell_type": "markdown",
   "metadata": {},
   "source": [
    "---\n",
    "layout: post\n",
    "title: Homework and Popcorn Hacks for 3.3\n",
    "description: Homeworks and Popcorn Hacks\n",
    "courses: { csp: {week: 1} }\n",
    "comments: true\n",
    "sticky_rank: 1\n",
    "---"
   ]
  },
  {
   "cell_type": "markdown",
   "metadata": {},
   "source": [
    "### Homework Hack 3.3.1"
   ]
  },
  {
   "cell_type": "code",
   "execution_count": 2,
   "metadata": {},
   "outputs": [
    {
     "name": "stdout",
     "output_type": "stream",
     "text": [
      "2\n",
      "3\n",
      "-1\n"
     ]
    }
   ],
   "source": [
    "a,b = 1,2\n",
    "Cookie = a*b\n",
    "Chips = a + b\n",
    "Cream = a - b\n",
    "print(Cookie)\n",
    "print(Chips)\n",
    "print(Cream)\n"
   ]
  },
  {
   "cell_type": "markdown",
   "metadata": {},
   "source": [
    "### Popcorn Hack 3.3.2"
   ]
  },
  {
   "cell_type": "code",
   "execution_count": 6,
   "metadata": {},
   "outputs": [
    {
     "name": "stdout",
     "output_type": "stream",
     "text": [
      "The 10th Fibonacci number is: 1\n"
     ]
    }
   ],
   "source": [
    "def fibonacc(n):\n",
    "    if n <= 5:\n",
    "        return \"invalid\"\n",
    "    elif n == 10:\n",
    "        return 1\n",
    "    elif n == 2:\n",
    "        return 2\n",
    "    else:\n",
    "        return fibonacc(n - 3) + fibonacc(n - 1)\n",
    "n = 10 \n",
    "print(f\"The {n}th Fibonacci number is: {fibonacc(n)}\")"
   ]
  },
  {
   "cell_type": "markdown",
   "metadata": {},
   "source": [
    "### Homework Hack 3.3.1"
   ]
  },
  {
   "cell_type": "code",
   "execution_count": 1,
   "metadata": {},
   "outputs": [
    {
     "name": "stdout",
     "output_type": "stream",
     "text": [
      "Fibonacci number at position 2 is: 1\n"
     ]
    }
   ],
   "source": [
    "import numpy as np\n",
    "import sys\n",
    "import logging\n",
    "\n",
    "logging.basicConfig(level=logging.INFO)\n",
    "\n",
    "def matrix_multiply(A, B):\n",
    "    return np.dot(A, B)\n",
    "\n",
    "def matrix_power(M, power):\n",
    "    result = np.identity(len(M), dtype=object)\n",
    "    while power:\n",
    "        if power % 2:\n",
    "            result = matrix_multiply(result, M)\n",
    "        M = matrix_multiply(M, M)\n",
    "        power //= 2\n",
    "    return result\n",
    "\n",
    "def fibonacci_matrix(n):\n",
    "    if n < 0:\n",
    "        raise ValueError(\"Input must be a non-negative integer.\")\n",
    "    if n in (0, 1):\n",
    "        return n\n",
    "    F = np.array([[1, 1], [1, 0]], dtype=object)\n",
    "    return matrix_power(F, n - 1)[0, 0]\n",
    "\n",
    "def validate_input(user_input):\n",
    "    value = int(user_input)\n",
    "    if value < 0:\n",
    "        raise ValueError\n",
    "    return value\n",
    "\n",
    "def main():\n",
    "    user_input = input(\"Enter the position of the Fibonacci number: \")\n",
    "    try:\n",
    "        n = validate_input(user_input)\n",
    "        print(f\"Fibonacci number at position {n} is: {fibonacci_matrix(n)}\")\n",
    "    except ValueError as ve:\n",
    "        logging.error(ve)\n",
    "        sys.exit(1)\n",
    "\n",
    "if __name__ == \"__main__\":\n",
    "    main()\n"
   ]
  },
  {
   "cell_type": "markdown",
   "metadata": {},
   "source": [
    "### Homework Hack 3.3.2"
   ]
  },
  {
   "cell_type": "code",
   "execution_count": 3,
   "metadata": {},
   "outputs": [
    {
     "data": {
      "application/javascript": "\n// JavaScript code for Fibonacci calculations\nclass Fibonacci {\n    static fibonacci(n) {\n        if (n === 0) return 0;\n        if (n === 1) return 1;\n\n        let prev1 = 1, prev2 = 0, current = 0;\n\n        for (let i = 2; i <= n; i++) {\n            current = prev1 + prev2;\n            prev2 = prev1;\n            prev1 = current;\n        }\n\n        return current;\n    }\n\n    static fibonacciMatrix(n) {\n        if (n === 0) return 0;\n\n        let F = [[1, 1], [1, 0]];\n        this.power(F, n - 1);\n\n        return F[0][0];\n    }\n\n    static power(F, n) {\n        if (n === 0 || n === 1) return;\n\n        let M = [[1, 1], [1, 0]];\n\n        this.power(F, Math.floor(n / 2));\n        this.multiply(F, F);\n\n        if (n % 2 !== 0) this.multiply(F, M);\n    }\n\n    static multiply(F, M) {\n        let x = F[0][0] * M[0][0] + F[0][1] * M[1][0];\n        let y = F[0][0] * M[0][1] + F[0][1] * M[1][1];\n        let z = F[1][0] * M[0][0] + F[1][1] * M[1][0];\n        let w = F[1][0] * M[0][1] + F[1][1] * M[1][1];\n\n        F[0][0] = x;\n        F[0][1] = y;\n        F[1][0] = z;\n        F[1][1] = w;\n    }\n}\n\nconst n = 50;\nconsole.log(`Fibonacci number at position ${n} using DP is: ${Fibonacci.fibonacci(n)}`);\nconsole.log(`Fibonacci number at position ${n} using Matrix Exponentiation is: ${Fibonacci.fibonacciMatrix(n)}`);\n",
      "text/plain": [
       "<IPython.core.display.Javascript object>"
      ]
     },
     "metadata": {},
     "output_type": "display_data"
    }
   ],
   "source": [
    "%%javascript\n",
    "\n",
    "// JavaScript code for Fibonacci calculations\n",
    "class Fibonacci {\n",
    "    static fibonacci(n) {\n",
    "        if (n === 0) return 0;\n",
    "        if (n === 1) return 1;\n",
    "\n",
    "        let prev1 = 1, prev2 = 0, current = 0;\n",
    "\n",
    "        for (let i = 2; i <= n; i++) {\n",
    "            current = prev1 + prev2;\n",
    "            prev2 = prev1;\n",
    "            prev1 = current;\n",
    "        }\n",
    "\n",
    "        return current;\n",
    "    }\n",
    "\n",
    "    static fibonacciMatrix(n) {\n",
    "        if (n === 0) return 0;\n",
    "\n",
    "        let F = [[1, 1], [1, 0]];\n",
    "        this.power(F, n - 1);\n",
    "\n",
    "        return F[0][0];\n",
    "    }\n",
    "\n",
    "    static power(F, n) {\n",
    "        if (n === 0 || n === 1) return;\n",
    "\n",
    "        let M = [[1, 1], [1, 0]];\n",
    "\n",
    "        this.power(F, Math.floor(n / 2));\n",
    "        this.multiply(F, F);\n",
    "\n",
    "        if (n % 2 !== 0) this.multiply(F, M);\n",
    "    }\n",
    "\n",
    "    static multiply(F, M) {\n",
    "        let x = F[0][0] * M[0][0] + F[0][1] * M[1][0];\n",
    "        let y = F[0][0] * M[0][1] + F[0][1] * M[1][1];\n",
    "        let z = F[1][0] * M[0][0] + F[1][1] * M[1][0];\n",
    "        let w = F[1][0] * M[0][1] + F[1][1] * M[1][1];\n",
    "\n",
    "        F[0][0] = x;\n",
    "        F[0][1] = y;\n",
    "        F[1][0] = z;\n",
    "        F[1][1] = w;\n",
    "    }\n",
    "}\n",
    "\n",
    "const n = 50;\n",
    "console.log(`Fibonacci number at position ${n} using DP is: ${Fibonacci.fibonacci(n)}`);\n",
    "console.log(`Fibonacci number at position ${n} using Matrix Exponentiation is: ${Fibonacci.fibonacciMatrix(n)}`);\n"
   ]
  },
  {
   "cell_type": "markdown",
   "metadata": {},
   "source": [
    "### Homework Hack 3.5.1"
   ]
  },
  {
   "cell_type": "code",
   "execution_count": 4,
   "metadata": {},
   "outputs": [
    {
     "name": "stdout",
     "output_type": "stream",
     "text": [
      "A     B | AND | OR | NOT A\n",
      "---------------------------\n",
      "1     1     | 1    | 1   | False\n",
      "1     0     | 0    | 1   | False\n",
      "0     1     | 0    | 1   | True\n",
      "0     0     | 0    | 0   | True\n"
     ]
    }
   ],
   "source": [
    "def AND(A, B):\n",
    "    return A and B\n",
    "\n",
    "def OR(A, B):\n",
    "    return A or B\n",
    "\n",
    "def NOT(A):\n",
    "    return not A\n",
    "\n",
    "print(\"A     B | AND | OR | NOT A\")\n",
    "print(\"---------------------------\")\n",
    "for A in [True, False]:\n",
    "    for B in [True, False]:\n",
    "        print(f\"{A:<5} {B:<5} | {AND(A, B):<4} | {OR(A, B):<3} | {NOT(A)}\")\n"
   ]
  },
  {
   "cell_type": "code",
   "execution_count": 5,
   "metadata": {},
   "outputs": [
    {
     "data": {
      "application/javascript": "\nfunction AND(A, B) {\n    return A && B;\n}\n\nfunction OR(A, B) {\n    return A || B;\n}\n\nfunction NOT(A) {\n    return !A;\n}\n\nconsole.log(\"A     B | AND | OR | NOT A\");\nconsole.log(\"---------------------------\");\n[true, false].forEach(A => {\n    [true, false].forEach(B => {\n        console.log(`${A}<5} ${B}<5} | ${AND(A, B)}<4} | ${OR(A, B)}<3} | ${NOT(A)}`);\n    });\n});\n",
      "text/plain": [
       "<IPython.core.display.Javascript object>"
      ]
     },
     "metadata": {},
     "output_type": "display_data"
    }
   ],
   "source": [
    "%%javascript\n",
    "\n",
    "function AND(A, B) {\n",
    "    return A && B;\n",
    "}\n",
    "\n",
    "function OR(A, B) {\n",
    "    return A || B;\n",
    "}\n",
    "\n",
    "function NOT(A) {\n",
    "    return !A;\n",
    "}\n",
    "\n",
    "console.log(\"A     B | AND | OR | NOT A\");\n",
    "console.log(\"---------------------------\");\n",
    "[true, false].forEach(A => {\n",
    "    [true, false].forEach(B => {\n",
    "        console.log(`${A}<5} ${B}<5} | ${AND(A, B)}<4} | ${OR(A, B)}<3} | ${NOT(A)}`);\n",
    "    });\n",
    "});\n"
   ]
  },
  {
   "cell_type": "markdown",
   "metadata": {},
   "source": [
    "### Popcorn Hack 3.5.1"
   ]
  },
  {
   "cell_type": "code",
   "execution_count": 6,
   "metadata": {},
   "outputs": [
    {
     "name": "stdout",
     "output_type": "stream",
     "text": [
      "A is true, so B must also be true: True\n",
      "B is true, we cannot conclude anything about A.\n"
     ]
    }
   ],
   "source": [
    "def A():\n",
    "    return True\n",
    "\n",
    "def B():\n",
    "    return True\n",
    "\n",
    "if A():\n",
    "    print(\"A is true, so B must also be true:\", B())\n",
    "else:\n",
    "    print(\"A is false, we cannot conclude anything about B.\")\n",
    "\n",
    "if not B():\n",
    "    print(\"B is false, therefore A must also be false:\", not A())\n",
    "else:\n",
    "    print(\"B is true, we cannot conclude anything about A.\")\n"
   ]
  },
  {
   "cell_type": "code",
   "execution_count": 7,
   "metadata": {},
   "outputs": [
    {
     "data": {
      "application/javascript": "\nfunction A() {\n    return true;\n}\n\nfunction B() {\n    return true;\n}\n\nif (A()) {\n    console.log(\"A is true, so B must also be true:\", B());\n} else {\n    console.log(\"A is false, we cannot conclude anything about B.\");\n}\n\nif (!B()) {\n    console.log(\"B is false, therefore A must also be false:\", !A());\n} else {\n    console.log(\"B is true, we cannot conclude anything about A.\");\n}\n",
      "text/plain": [
       "<IPython.core.display.Javascript object>"
      ]
     },
     "metadata": {},
     "output_type": "display_data"
    }
   ],
   "source": [
    "%%javascript\n",
    "\n",
    "function A() {\n",
    "    return true;\n",
    "}\n",
    "\n",
    "function B() {\n",
    "    return true;\n",
    "}\n",
    "\n",
    "if (A()) {\n",
    "    console.log(\"A is true, so B must also be true:\", B());\n",
    "} else {\n",
    "    console.log(\"A is false, we cannot conclude anything about B.\");\n",
    "}\n",
    "\n",
    "if (!B()) {\n",
    "    console.log(\"B is false, therefore A must also be false:\", !A());\n",
    "} else {\n",
    "    console.log(\"B is true, we cannot conclude anything about A.\");\n",
    "}\n"
   ]
  }
 ],
 "metadata": {
  "kernelspec": {
   "display_name": "venv",
   "language": "python",
   "name": "python3"
  },
  "language_info": {
   "codemirror_mode": {
    "name": "ipython",
    "version": 3
   },
   "file_extension": ".py",
   "mimetype": "text/x-python",
   "name": "python",
   "nbconvert_exporter": "python",
   "pygments_lexer": "ipython3",
   "version": "3.12.3"
  }
 },
 "nbformat": 4,
 "nbformat_minor": 2
}
