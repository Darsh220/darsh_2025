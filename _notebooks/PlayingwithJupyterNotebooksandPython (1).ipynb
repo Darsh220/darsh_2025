{
 "cells": [
  {
   "cell_type": "markdown",
   "metadata": {},
   "source": [
    "---\n",
    "layout: post\n",
    "title: Hacks Tools & Equipment Play Hacks\n",
    "description:  Hacks Tools & Equipment Play Hacks\n",
    "type: issues \n",
    "comments: true\n",
    "---"
   ]
  },
  {
   "cell_type": "code",
   "execution_count": 1,
   "metadata": {},
   "outputs": [
    {
     "name": "stdout",
     "output_type": "stream",
     "text": [
      "hello world\n"
     ]
    }
   ],
   "source": [
    "print(\"hello world\")"
   ]
  },
  {
   "cell_type": "code",
   "execution_count": 2,
   "metadata": {},
   "outputs": [
    {
     "name": "stdout",
     "output_type": "stream",
     "text": [
      "Requirement already satisfied: wikipedia in /home/darsh22/nighthawk/darsh_2025/venv/lib/python3.12/site-packages (1.4.0)\n",
      "Requirement already satisfied: beautifulsoup4 in /home/darsh22/nighthawk/darsh_2025/venv/lib/python3.12/site-packages (from wikipedia) (4.12.3)\n",
      "Requirement already satisfied: requests<3.0.0,>=2.0.0 in /home/darsh22/nighthawk/darsh_2025/venv/lib/python3.12/site-packages (from wikipedia) (2.32.3)\n",
      "Requirement already satisfied: charset-normalizer<4,>=2 in /home/darsh22/nighthawk/darsh_2025/venv/lib/python3.12/site-packages (from requests<3.0.0,>=2.0.0->wikipedia) (3.3.2)\n",
      "Requirement already satisfied: idna<4,>=2.5 in /home/darsh22/nighthawk/darsh_2025/venv/lib/python3.12/site-packages (from requests<3.0.0,>=2.0.0->wikipedia) (3.8)\n",
      "Requirement already satisfied: urllib3<3,>=1.21.1 in /home/darsh22/nighthawk/darsh_2025/venv/lib/python3.12/site-packages (from requests<3.0.0,>=2.0.0->wikipedia) (2.2.2)\n",
      "Requirement already satisfied: certifi>=2017.4.17 in /home/darsh22/nighthawk/darsh_2025/venv/lib/python3.12/site-packages (from requests<3.0.0,>=2.0.0->wikipedia) (2024.8.30)\n",
      "Requirement already satisfied: soupsieve>1.2 in /home/darsh22/nighthawk/darsh_2025/venv/lib/python3.12/site-packages (from beautifulsoup4->wikipedia) (2.6)\n"
     ]
    }
   ],
   "source": [
    "! pip install wikipedia"
   ]
  },
  {
   "cell_type": "code",
   "execution_count": 3,
   "metadata": {},
   "outputs": [
    {
     "name": "stdout",
     "output_type": "stream",
     "text": [
      "Python (programming language)\n"
     ]
    },
    {
     "data": {
      "text/markdown": [
       "Python is a high-level, general-purpose programming language. Its design philosophy emphasizes code readability with the use of significant indentation.\n",
       "Python is dynamically typed and garbage-collected. It supports multiple programming paradigms, including structured (particularly procedural), object-oriented and functional programming. It is often described as a \"batteries included\" language due to its comprehensive standard library.\n",
       "Guido van Rossum began working on Python in the late 1980s as a successor to the ABC programming language and first released it in 1991 as Python 0.9.0. Python 2.0 was released in 2000. Python 3.0, released in 2008, was a major revision not completely backward-compatible with earlier versions. Python 2.7.18, released in 2020, was the last release of Python 2.\n",
       "Python consistently ranks as one of the most popular programming languages, and has gained widespread use in the machine learning community.\n",
       "\n"
      ],
      "text/plain": [
       "<IPython.core.display.Markdown object>"
      ]
     },
     "metadata": {},
     "output_type": "display_data"
    }
   ],
   "source": [
    "import wikipedia \n",
    "from IPython.display import display, Markdown # add for Jupyter\n",
    "\n",
    "terms = [\"Python (programming language)\", \"JavaScript\"]\n",
    "for term in terms:\n",
    "    # Search for a page \n",
    "    result = wikipedia.search(term)\n",
    "    # Get the summary of the first result\n",
    "    summary = wikipedia.summary(result[0])\n",
    "    print(term) \n",
    "    # print(summary) # console display\n",
    "    display(Markdown(summary)) # Jupyter display"
   ]
  },
  {
   "cell_type": "code",
   "execution_count": 22,
   "metadata": {},
   "outputs": [
    {
     "name": "stdout",
     "output_type": "stream",
     "text": [
      "Requirement already satisfied: newspaper3k in /home/darsh22/nighthawk/darsh_2025/venv/lib/python3.12/site-packages (0.2.8)\n",
      "Requirement already satisfied: beautifulsoup4>=4.4.1 in /home/darsh22/nighthawk/darsh_2025/venv/lib/python3.12/site-packages (from newspaper3k) (4.12.3)\n",
      "Requirement already satisfied: Pillow>=3.3.0 in /home/darsh22/nighthawk/darsh_2025/venv/lib/python3.12/site-packages (from newspaper3k) (10.4.0)\n",
      "Requirement already satisfied: PyYAML>=3.11 in /home/darsh22/nighthawk/darsh_2025/venv/lib/python3.12/site-packages (from newspaper3k) (6.0.2)\n",
      "Requirement already satisfied: cssselect>=0.9.2 in /home/darsh22/nighthawk/darsh_2025/venv/lib/python3.12/site-packages (from newspaper3k) (1.2.0)\n",
      "Requirement already satisfied: lxml>=3.6.0 in /home/darsh22/nighthawk/darsh_2025/venv/lib/python3.12/site-packages (from newspaper3k) (5.3.0)\n",
      "Requirement already satisfied: nltk>=3.2.1 in /home/darsh22/nighthawk/darsh_2025/venv/lib/python3.12/site-packages (from newspaper3k) (3.9.1)\n",
      "Requirement already satisfied: requests>=2.10.0 in /home/darsh22/nighthawk/darsh_2025/venv/lib/python3.12/site-packages (from newspaper3k) (2.32.3)\n",
      "Requirement already satisfied: feedparser>=5.2.1 in /home/darsh22/nighthawk/darsh_2025/venv/lib/python3.12/site-packages (from newspaper3k) (6.0.11)\n",
      "Requirement already satisfied: tldextract>=2.0.1 in /home/darsh22/nighthawk/darsh_2025/venv/lib/python3.12/site-packages (from newspaper3k) (5.1.2)\n",
      "Requirement already satisfied: feedfinder2>=0.0.4 in /home/darsh22/nighthawk/darsh_2025/venv/lib/python3.12/site-packages (from newspaper3k) (0.0.4)\n",
      "Requirement already satisfied: jieba3k>=0.35.1 in /home/darsh22/nighthawk/darsh_2025/venv/lib/python3.12/site-packages (from newspaper3k) (0.35.1)\n",
      "Requirement already satisfied: python-dateutil>=2.5.3 in /home/darsh22/nighthawk/darsh_2025/venv/lib/python3.12/site-packages (from newspaper3k) (2.9.0.post0)\n",
      "Requirement already satisfied: tinysegmenter==0.3 in /home/darsh22/nighthawk/darsh_2025/venv/lib/python3.12/site-packages (from newspaper3k) (0.3)\n",
      "Requirement already satisfied: soupsieve>1.2 in /home/darsh22/nighthawk/darsh_2025/venv/lib/python3.12/site-packages (from beautifulsoup4>=4.4.1->newspaper3k) (2.6)\n",
      "Requirement already satisfied: six in /home/darsh22/nighthawk/darsh_2025/venv/lib/python3.12/site-packages (from feedfinder2>=0.0.4->newspaper3k) (1.16.0)\n",
      "Requirement already satisfied: sgmllib3k in /home/darsh22/nighthawk/darsh_2025/venv/lib/python3.12/site-packages (from feedparser>=5.2.1->newspaper3k) (1.0.0)\n",
      "Requirement already satisfied: click in /home/darsh22/nighthawk/darsh_2025/venv/lib/python3.12/site-packages (from nltk>=3.2.1->newspaper3k) (8.1.7)\n",
      "Requirement already satisfied: joblib in /home/darsh22/nighthawk/darsh_2025/venv/lib/python3.12/site-packages (from nltk>=3.2.1->newspaper3k) (1.4.2)\n",
      "Requirement already satisfied: regex>=2021.8.3 in /home/darsh22/nighthawk/darsh_2025/venv/lib/python3.12/site-packages (from nltk>=3.2.1->newspaper3k) (2024.7.24)\n",
      "Requirement already satisfied: tqdm in /home/darsh22/nighthawk/darsh_2025/venv/lib/python3.12/site-packages (from nltk>=3.2.1->newspaper3k) (4.66.5)\n",
      "Requirement already satisfied: charset-normalizer<4,>=2 in /home/darsh22/nighthawk/darsh_2025/venv/lib/python3.12/site-packages (from requests>=2.10.0->newspaper3k) (3.3.2)\n",
      "Requirement already satisfied: idna<4,>=2.5 in /home/darsh22/nighthawk/darsh_2025/venv/lib/python3.12/site-packages (from requests>=2.10.0->newspaper3k) (3.8)\n",
      "Requirement already satisfied: urllib3<3,>=1.21.1 in /home/darsh22/nighthawk/darsh_2025/venv/lib/python3.12/site-packages (from requests>=2.10.0->newspaper3k) (2.2.2)\n",
      "Requirement already satisfied: certifi>=2017.4.17 in /home/darsh22/nighthawk/darsh_2025/venv/lib/python3.12/site-packages (from requests>=2.10.0->newspaper3k) (2024.8.30)\n",
      "Requirement already satisfied: requests-file>=1.4 in /home/darsh22/nighthawk/darsh_2025/venv/lib/python3.12/site-packages (from tldextract>=2.0.1->newspaper3k) (2.1.0)\n",
      "Requirement already satisfied: filelock>=3.0.8 in /home/darsh22/nighthawk/darsh_2025/venv/lib/python3.12/site-packages (from tldextract>=2.0.1->newspaper3k) (3.16.0)\n"
     ]
    }
   ],
   "source": [
    "! pip install newspaper3k"
   ]
  },
  {
   "cell_type": "code",
   "execution_count": 23,
   "metadata": {},
   "outputs": [
    {
     "name": "stdout",
     "output_type": "stream",
     "text": [
      "Requirement already satisfied: emoji in /home/darsh22/nighthawk/darsh_2025/venv/lib/python3.12/site-packages (2.12.1)\n",
      "Requirement already satisfied: typing-extensions>=4.7.0 in /home/darsh22/nighthawk/darsh_2025/venv/lib/python3.12/site-packages (from emoji) (4.12.2)\n"
     ]
    }
   ],
   "source": [
    "! pip install emoji"
   ]
  },
  {
   "cell_type": "code",
   "execution_count": 30,
   "metadata": {},
   "outputs": [
    {
     "name": "stdout",
     "output_type": "stream",
     "text": [
      "👎 Python is CONFUSING! 😠\n"
     ]
    }
   ],
   "source": [
    "from emoji import emojize \n",
    "print(emojize(\":thumbs_down: Python is CONFUSING! :angry_face:\"))"
   ]
  },
  {
   "cell_type": "code",
   "execution_count": 25,
   "metadata": {},
   "outputs": [
    {
     "name": "stdout",
     "output_type": "stream",
     "text": [
      "Requirement already satisfied: lxml in /home/darsh22/nighthawk/darsh_2025/venv/lib/python3.12/site-packages (5.3.0)\n",
      "Requirement already satisfied: lxml_html_clean in /home/darsh22/nighthawk/darsh_2025/venv/lib/python3.12/site-packages (0.2.2)\n",
      "Note: you may need to restart the kernel to use updated packages.\n"
     ]
    }
   ],
   "source": [
    "pip install lxml lxml_html_clean\n"
   ]
  },
  {
   "cell_type": "code",
   "execution_count": 26,
   "metadata": {},
   "outputs": [
    {
     "name": "stdout",
     "output_type": "stream",
     "text": [
      "Requirement already satisfied: lxml[html_clean] in /home/darsh22/nighthawk/darsh_2025/venv/lib/python3.12/site-packages (5.3.0)\n",
      "Requirement already satisfied: lxml-html-clean in /home/darsh22/nighthawk/darsh_2025/venv/lib/python3.12/site-packages (from lxml[html_clean]) (0.2.2)\n"
     ]
    }
   ],
   "source": [
    "! pip install lxml[html_clean]"
   ]
  },
  {
   "cell_type": "code",
   "execution_count": 27,
   "metadata": {},
   "outputs": [
    {
     "name": "stdout",
     "output_type": "stream",
     "text": [
      "Firefighters are battling an eruption of wild🔥s in the western United States this weekend, with flames ravaging thousands of acres and triggering evacuation orders across California, Oregon and Nevada. Line Fire The quick-moving Line Fire in Southern California exploded over the weekend, consuming more than 20,500 acres as of late Sunday and forcing evacuations amid a searing heat wave in the region. It was zero percent contained as of just after 9 p.m. Sunday, authorities said.\n",
      "\n",
      "The blaze in San Bernardino County, which ignited late last week, quadrupled in size as the weekend began, scorching thousands of acres on Saturday alone. The flames raced up steep terrain, chewing through thick vegetation as they approached Running Springs, a mountain community of about 5,000 people that lies between the populated resort areas of Lake Arrowhead and Big Bear Lake. The community has been ordered to evacuate, while Lake Arrowhead and areas to its west are under an evacuation warning. By Sunday evening, Cal Fire estimated that the blaze threatened more than 36,000 structures, including family homes and businesses.\n",
      "\n",
      "The San Bernardino County 🔥 quadrupled in size over the weekend, and Gov. Gavin Newsom (D) has declared a state of emergency in the county. (Video: Menifee Battalion Chief via Storyful)\n",
      "\n",
      "Evacuation orders are also in effect on the 🔽 side of the 🔥, while structures could be affected in the city of Highland, which lies at the base of the mountains in San Bernardino County. Three 🔥fighters had been injured battling the blaze as of Sunday afternoon, according to a Cal Fire incident update. “Hot and dry conditions mixed with thunderstorms are expected to challenge 🔥fighters for the next few days,” the update stated.\n",
      "\n",
      "Advertisement\n",
      "\n",
      "Gov. Gavin Newsom (D) proclaimed a state of emergency in the county to secure federal assistance to respond to the 🔥, which is threatening homes as well as critical infrastructure.\n",
      "\n",
      "The 🔥 has “room to grow now in essentially three directions and there are population centers and pretty dense, dry vegetation in between those population centers,” UCLA climate scientist Daniel Swain said in a Saturday briefing.\n",
      "\n",
      "The 🔥 initially sparked Thursday and had burned about 3,800 acres by Saturday morning, before ballooning thousands of acres through the afternoon. The blaze was so intense that it also formed a towering pyrocumulonimbus cloud — a 🔥-generated thunderstorm — that was sending out its own lightning, erratic winds and brief rain.\n",
      "\n",
      "The Line Fire is spreading amid a scorching heat wave in Southern California that has rivaled one seen in September 2020, with temperatures approaching or tying all-time records, exceeding 105 and even 110 degrees in many locations.\n",
      "\n",
      "Advertisement\n",
      "\n",
      "Vegetation in the area is “critically dry,” according to the San Bernardino National Forest.\n",
      "\n",
      "“The San Bernardino front country … has everything you need for a 🔥 to get big,” retired Cal Fire assistant chief Tim Chavez said in an interview posted online by the Lookout, a wild🔥 reporting website.\n",
      "\n",
      "Along with this week’s heat, Chavez said, that includes heavy fuels that in most places haven’t burned since the 1990s — and “steep, steep terrain leading up to the mountain communities.”\n",
      "\n",
      "“Fuels that are stressed like that — they tend to surprise you,” he said.\n",
      "\n",
      "Firefighters battled fast-spreading wild🔥s ravaging thousands of acres of land across California and Nevada this weekend, forcing thousands to evacuate. (Video: Naomi Schanen, Anna Liss-Roy/The Washington Post)\n",
      "\n",
      "Temperatures at the base of the 🔥 have been running about 105-110 degrees each day this weekend, Alex Tardy, a meteorologist with the National Weather Service in San Diego, said in an email.\n",
      "\n",
      "He compared the blaze to the El Dorado Fire, which sparked during the September 2020 heat wave, burning almost 23,000 acres in San Bernardino and Riverside counties.\n",
      "\n",
      "Advertisement\n",
      "\n",
      "“These 🔥s are occurring in light winds, but this one is a little more complicated because it had thunderstorms over it yesterday and likely today as well,” he said.\n",
      "\n",
      "Stormy skies cloud parts of the region, as monsoon thunderstorms in the area Saturday also helped to intensify the 🔥.\n",
      "\n",
      "“Unfortunately, the weather conditions over the next few days are not going to be favorable,” Swain said in the Saturday briefing. “It’s going to be very hot and relatively unstable over the next few days with some increasing winds next week.\n",
      "\n",
      "Cooler weather is expected to move in by midweek, but that transition could come with strong winds.\n",
      "\n",
      "Boyles Fire\n",
      "\n",
      "California 🔥fighters are also battling to contain blazes around Los Angeles County, San Diego County and the city of Clearlake, which is about 100 miles northwest of Sacramento.\n",
      "\n",
      "Advertisement\n",
      "\n",
      "The Boyles Fire in Clearlake, in Lake County, has burned through about 76 acres and was about 10 percent contained as of Sunday evening. Authorities issued evacuation orders for two parts of the town, displacing at least 4,000 of its approximately 17,000 residents.\n",
      "\n",
      "According to Cal Fire, which posted a Sunday night update from the Lake County Fire Protection District, the blaze has “impacted” about 30 structures, although it is too soon to assess the damage. It has also destroyed more than 40 vehicles, the agency said.\n",
      "\n",
      "Bridge and Roblar Fires\n",
      "\n",
      "The Bridge Fire has ravaged at least 800 acres around the Angeles National Forest northeast of Los Angeles and Pasadena. In San Diego County, the Roblar Fire northeast of Camp Pendleton burned through at least 950 acres and remained only 20 percent contained as of Sunday night.\n",
      "\n",
      "Firefighting aircraft flew over the Bridge Fire on Sept. 8. The blaze has burned more than 800 acres northeast of Los Angeles and Pasadena, Calif. (Video: Angeles National Forest via Storyful)\n",
      "\n",
      "Fires in Nevada and Oregon\n",
      "\n",
      "Wild🔥s also raged Sunday in other parts of the western United States, including Nevada and Oregon.\n",
      "\n",
      "Advertisement\n",
      "\n",
      "In Oregon, multiple blazes in Deschutes County and northern Lake County have torn through thousands of acres of land and prompted evacuation notices. The Firestone Fire, 🔽east of Paulina Lake and within roughly an hour’s drive of the city of Bend, burned through at least 6,500 acres as of early Sunday evening. Meanwhile, the Flat Top Fire in the Deschutes National Forest has burned through at least 13,600 acres.\n",
      "\n",
      "In Nevada, strong, dry winds helped propel the Davis Fire 🔽 of Reno to roughly 6,500 acres, sparking a state of emergency declaration. Roughly 20,000 people have been evacuated ahead of the flames, according to the declaration from Nevada Gov. Joe Lombardo (R).\n",
      "\n",
      "The 🔥 destroyed at least 12 structures and continued to spread quickly Sunday, forcing new evacuations.\n",
      "\n",
      "The Western 🔥 season has roared back to life this past week as hot, dry conditions have returned. There are at least 70 large 🔥s burning out West, including 21 in Oregon, 19 in Idaho and 13 in Montana. A mix of wind and dry thunderstorms forecast for the coming days could exacerbate the situation and further strain 🔥fighting resources.\n",
      "\n",
      "Excessive heat in California is fueling the 🔥s\n",
      "\n",
      "The heat that has helped fuel the 🔥s has been extraordinary, especially in Southern California.\n",
      "\n",
      "Advertisement\n",
      "\n",
      "Downtown Los Angeles has observed its hottest weather of the year with highs near and above the century mark on four straight days. On Friday, it soared to a calendar day record of 112 which tied for its second-hottest day all-time. On Sunday, it reached 104, another calendar day record and one of many in the region.\n",
      "\n",
      "Other notable high temperatures include:\n",
      "\n",
      "Palm Springs: 121 degrees Friday.\n",
      "\n",
      "Death Valley: 119 on Sept. 5 and 6; it has reached at least 116 every day this month.\n",
      "\n",
      "Burbank: 114 on Thursday and Friday, tying the all-time high.\n",
      "\n",
      "Long Beach: 109 on Friday, a calendar day record and fifth hottest all time. It has reached at least 100 on four straight days , tied for most on record. A fifth is possible Monday.\n",
      "\n",
      "Widespread dangerous heat is forecast to persist in Southern California for one more day before starting to ease Tuesday. By Wednesday, highs will decrease into the 70s and 80s in most areas outside of the deserts because of a wind off the ocean.\n",
      "\n",
      "More dangerous 🔥 weather on Monday\n",
      "\n",
      "A red flag warning for dangerous 🔥 weather runs until 11 p.m. Monday evening in the Santa Ynez Mountains and coastal areas in 🔽west Santa Barbara County because of the combination of heat, low humidity and strong winds. Gusts of 30 mph or higher remain possible, with erratic and gustier winds a threat near any large 🔥s.\n"
     ]
    }
   ],
   "source": [
    "import newspaper\n",
    "from newspaper import Article\n",
    "import emoji\n",
    "\n",
    "# URL of the article you want to extract\n",
    "url = 'https://www.washingtonpost.com/weather/2024/09/08/california-line-fire-evacuations-san-bernardino/?itid=hp-top-table-main_p001_f006'\n",
    "\n",
    "# Extract the article\n",
    "article = Article(url)\n",
    "article.download()\n",
    "article.parse()\n",
    "\n",
    "# Display article text\n",
    "# print(article.text)\n",
    "def add_emojis(text):\n",
    "    # Mapping of keywords to emojis\n",
    "    emoji_map = {\n",
    "        'happy': '😊',\n",
    "        'love': '❤️',\n",
    "        'money': '💰',\n",
    "        'fire': '🔥',\n",
    "        'good': '👍',\n",
    "        'bad': '👎',\n",
    "        'south': '🔽'\n",
    "    }\n",
    "\n",
    "    # Replace words with their emoji equivalent\n",
    "    for word, emj in emoji_map.items():\n",
    "        text = text.replace(word, emj)\n",
    "    \n",
    "    return text\n",
    "\n",
    "# Add emojis to the extracted article\n",
    "article_with_emojis = add_emojis(article.text)\n",
    "\n",
    "# Display article with emojis\n",
    "print(article_with_emojis)"
   ]
  }
 ],
 "metadata": {
  "kernelspec": {
   "display_name": "Python 3",
   "language": "python",
   "name": "python3"
  },
  "language_info": {
   "codemirror_mode": {
    "name": "ipython",
    "version": 3
   },
   "file_extension": ".py",
   "mimetype": "text/x-python",
   "name": "python",
   "nbconvert_exporter": "python",
   "pygments_lexer": "ipython3",
   "version": "3.12.3"
  }
 },
 "nbformat": 4,
 "nbformat_minor": 2
}
