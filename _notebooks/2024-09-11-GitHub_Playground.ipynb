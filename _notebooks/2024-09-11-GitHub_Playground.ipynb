{
 "cells": [
  {
   "cell_type": "raw",
   "metadata": {
    "vscode": {
     "languageId": "raw"
    }
   },
   "source": [
    "---\n",
    "layout: post\n",
    "title: Github Playground\n",
    "description: Github Playground\n",
    "courses: { csp: {week: 1} }\n",
    "comments: true\n",
    "sticky_rank: 1\n",
    "\n",
    "---"
   ]
  },
  {
   "cell_type": "code",
   "execution_count": 1,
   "metadata": {},
   "outputs": [
    {
     "data": {
      "text/markdown": [
       "‘The Mandalorian’ finally comes into focus, while giving out a ‘Rebels’ yell"
      ],
      "text/plain": [
       "<IPython.core.display.Markdown object>"
      ]
     },
     "metadata": {},
     "output_type": "display_data"
    },
    {
     "data": {
      "text/markdown": [
       "Editor’s Note: The following contains spoilers about the fifth episode of “The Mandalorian,” Season 3, “The Pirate.”\n",
       "\n",
       "CNN —\n",
       "\n",
       "After what can at best be described as a somewhat disjointed third season thus far, the fifth episode of “The Mandalorian” began to bring those pieces together and into focus, while continuing to draw upon the “Star Wars” animated series that preceded it, including another cameo by a character from the rightfully lauded “Rebels.”\n",
       "\n",
       "Subtitled “The Pirate,” the episode presented further evidence of the dysfunctional nature of the New Republic, unable or unwilling to defend a faraway planet from an invading band of pirates. (Lucasfilm being a unit of Disney, the marauders had a certain “Yo ho, yo ho” vibe to them.)\n",
       "\n",
       "The siege also played into Mandalorian politics, and the efforts of Bo-Katan (Katee Sackhoff) to reclaim her heritage and potentially reunite her people’s various tribes, after leading them, along with Din Djarin (voiced by Pedro Pascal), to the rescue of his pal Greef Karga (Carl Weathers) and the planet’s residents.\n",
       "\n",
       "Still, the most pleasing moment for longtime “Star Wars” fans was likely what amounted to a throwaway scene, introducing a live-action version of the hulking alien Zeb, a character from the animated “Star Wars Rebels,” which concluded in 2018. “The Mandalorian” has drawn heavily from those properties, which were overseen by one of its executive producers, Dave Filoni. (In another nice touch, Steve Blum again provided the voice of the character, and Zeb looked a whole lot better than the pirate leader.)\n",
       "\n",
       "Finally, the episode closed with evidence that the evil Moff Gideon (played by Giancarlo Esposito previously) had seemingly been freed from the prison ship that was transporting him to stand trial, reviving that potential threat.\n",
       "\n",
       "Having resolved the fate of Grogu, a.k.a. Baby Yoda, during the first two seasons, “The Mandalorian” has thus moved on to fill in narrative gaps about an under-explored chapter in “Star Wars” history – namely, the factors that resulted in the fall of the New Republic and the rise of the First Order, the plot line featured in the most recent trilogy that began with “The Force Awakens.”\n",
       "\n",
       "“This isn’t a rebellion anymore,” a bureaucrat (played by Tim Meadows) says about what happens outside of the New Republic’s jurisdiction, conveying an indifference to the fate of the planet Nevarro overtly articulated later when it was observed that the governing body in Coruscant “doesn’t care.”\n",
       "\n",
       "Executive producers Jon Favreau and Filoni have taken their time in reaching this point, juggling these various issues in somewhat ungainly fashion through the first half of the season. That perhaps reflects the transition of the show to an emphasis on the macro instead of the micro, while still finding time to detour for the occasional “Rebels” yell."
      ],
      "text/plain": [
       "<IPython.core.display.Markdown object>"
      ]
     },
     "metadata": {},
     "output_type": "display_data"
    },
    {
     "name": "stdout",
     "output_type": "stream",
     "text": [
      "\n",
      "\n"
     ]
    },
    {
     "data": {
      "text/markdown": [
       "‘Jurassic Park’ still has bite at 30 years old, and here’s why"
      ],
      "text/plain": [
       "<IPython.core.display.Markdown object>"
      ]
     },
     "metadata": {},
     "output_type": "display_data"
    },
    {
     "data": {
      "text/markdown": [
       "CNN —\n",
       "\n",
       "It’s been 30 years since Steven Spielberg’s dinosaurs stampeded across the screen in the first “Jurassic Park,” but it feels more recent.\n",
       "\n",
       "I was 12 in June of 1993 and vividly remember watching with glee when the Tyrannosaurus Rex, with its teeny arms and perpetual scowl, blew the walls of the bathroom down like a big bad wolf and promptly ate the lawyer character (played to hilarious effect by Martin Ferrero). Part of this, surely, had to do with the fact that I was a mouthy pre-teen, and many adults in my sphere at the time opined that I “would make a great lawyer” just like my father – a fate I abhorred.\n",
       "\n",
       "Admittedly, I was the exact target audience for this creature feature, and even though I was already somewhat of a self-taught critic (note the aforementioned mouthiness), I was awed by what I saw that summer three decades ago, and my impressions of “Jurassic Park” remain to this day.\n",
       "\n",
       "Joseph Mazzello in \"Jurassic Park.\" Amblin/Universal/Kobal/Shutterstock\n",
       "\n",
       "Part of that lasting impact, of course, has to do with the still-groundbreaking effects in the movie, which surprisingly hold up, and on a fairly hi-tech 72-inch TV screen to boot. While the first dino money shot – of the plant-eating brachiosaurus – might look just a tad soupy in 2023, it still looks considerably better than more contemporary fare, and the ensuing imagery of the more predatory beasts (like T-rex and especially those raptors) remains top-notch. The computer-generated imagery in the movie is essentially credited with marking the end of stop-motion animation as the go-to effects option for films such as these, notably used in everything that came before, from 1933’s “King Kong” to 1981’s “Clash of the Titans.” The animatronics are something to behold as well, particularly the ailing triceratops responsible for that “one big pile of s—,” one of many priceless quips uttered by Ian Malcolm (Jeff Goldblum).\n",
       "\n",
       "The appeal of “Jurassic,” based on Michael Crichton’s acclaimed novel, is also largely due to the film’s suspenseful and pared-down pacing, which of course can be linked to Spielberg, who learned a thing or two about keeping his cards close to his chest with “Jaws” – the great white mother of all creature features that famously showed startlingly little of the big fish before the climax.\n",
       "\n",
       "Another “Jaws” connection is prolific film composer John Williams, the Spielberg collaborator who created a majestic score for “Jurassic Park” that is still synonymous with an air of discovery, one that can easily be hummed when looking upon any great view or upon entering a new and uncharted space.\n",
       "\n",
       "Laura Dern, Sam Neill and Joseph Mazzello in \"Jurassic Park.\" Amblin/Universal/Kobal/Shutterstock\n",
       "\n",
       "And then there’s the casting, an element that sometimes takes a number of years to truly appreciate. Aside from the always-dependable Goldblum, there’s Laura Dern, who carved out her own Sigourney Weaver-shaped notch in the movie thanks to that one terrifying sequence in the control shed. Plus, her reaction shot to that first dinosaur reveal – along with that of Sam Neill – could be viewed as a textbook for green-screen acting, which has become the standard ever since, in Marvel movies and beyond. Add to that the amazing and meme-worthy smaller performances from Samuel L. Jackson (“Hold onto your butts!”), Wayne Knight (“Ah ah ah! You didn’t say the magic word!”) and Bob Peck (“Clever girl”), and you’ve got a crowd-pleaser that is equal parts adventure, comedy and chomp-chomp thriller.\n",
       "\n",
       "While the rest of the entries in the “Jurassic” franchise have not exactly been up to par (aside from 2015’s not-terrible first reboot “Jurassic World”), the original flick still “rules” – and is definitely worth a rewatch on the occasion of its 30th birthday."
      ],
      "text/plain": [
       "<IPython.core.display.Markdown object>"
      ]
     },
     "metadata": {},
     "output_type": "display_data"
    },
    {
     "name": "stdout",
     "output_type": "stream",
     "text": [
      "\n",
      "\n"
     ]
    }
   ],
   "source": [
    "from newspaper import Article\n",
    "from IPython.display import display, Markdown\n",
    "\n",
    "\n",
    "urls = [\"http://cnn.com/2023/03/29/entertainment/the-mandalorian-episode-5-recap/index.html\", \n",
    "        \"https://www.cnn.com/2023/06/09/entertainment/jurassic-park-anniversary/index.html\"]\n",
    "\n",
    "for url in urls:\n",
    "    article = Article(url)\n",
    "    article.download()\n",
    "    article.parse()\n",
    "    # Jupyter Notebook Display\n",
    "    # print(article.title)\n",
    "    display(Markdown(article.title)) # Jupyter display only\n",
    "    display(Markdown(article.text)) # Jupyter display only\n",
    "    print(\"\\n\")"
   ]
  },
  {
   "cell_type": "code",
   "execution_count": 2,
   "metadata": {},
   "outputs": [
    {
     "name": "stdout",
     "output_type": "stream",
     "text": [
      "Print test data: 100\n",
      "Mean of single number: 100\n",
      "\n",
      "Print test data: [90.5, 100, 85.4, 88]\n",
      "Average score, loop method: 90.98\n",
      "Average score, function method: 90.98\n",
      "\n",
      "Print test data: [100, 'NaN', 90]\n",
      "Bad data: NaN in [100, 'NaN', 90]\n"
     ]
    },
    {
     "ename": "SystemExit",
     "evalue": "",
     "output_type": "error",
     "traceback": [
      "An exception has occurred, use %tb to see the full traceback.\n",
      "\u001b[0;31mSystemExit\u001b[0m\n"
     ]
    },
    {
     "name": "stderr",
     "output_type": "stream",
     "text": [
      "/home/darsh22/nighthawk/darsh_2025/venv/lib/python3.12/site-packages/IPython/core/interactiveshell.py:3585: UserWarning: To exit: use 'exit', 'quit', or Ctrl-D.\n",
      "  warn(\"To exit: use 'exit', 'quit', or Ctrl-D.\", stacklevel=1)\n"
     ]
    }
   ],
   "source": [
    "import sys\n",
    "from typing import Union\n",
    "\n",
    "# Define types for mean function, trying to analyze input possibilities\n",
    "Number = Union[int, float]  # Number can be either int or float type\n",
    "Numbers = list[Number] # Numbers is a list of Number types\n",
    "Scores = Union[Number, Numbers] # Scores can be single or multiple \n",
    "\n",
    "def mean(scores: Scores, method: int = 1) -> float:\n",
    "    \"\"\"\n",
    "    Calculate the mean of a list of scores.\n",
    "    \n",
    "    Average and Average2 are hidden functions performing mean algorithm\n",
    "\n",
    "    If a single score is provided in scores, it is returned as the mean.\n",
    "    If a list of scores is provided, the average is calculated and returned.\n",
    "    \"\"\"\n",
    "    \n",
    "    def average(scores): \n",
    "        \"\"\"Calculate the average of a list of scores using a Python for loop with rounding.\"\"\"\n",
    "        sum = 0\n",
    "        len = 0\n",
    "        for score in scores:\n",
    "            if isinstance(score, Number):\n",
    "                sum += score\n",
    "                len += 1\n",
    "            else:\n",
    "                print(\"Bad data: \" + str(score) + \" in \" + str(scores))\n",
    "                sys.exit()\n",
    "        return sum / len\n",
    "    \n",
    "    def average2(scores):\n",
    "        \"\"\"Calculate the average of a list of scores using the built-in sum() function with rounding.\"\"\"\n",
    "        return sum(scores) / len(scores)\n",
    "\n",
    "    # test to see if scores is  a list of numbers\n",
    "    if isinstance(scores, list):\n",
    "        if method == 1:  \n",
    "            # long method\n",
    "            result = average(scores)\n",
    "        else:\n",
    "            # built in method\n",
    "            result = average2(scores)\n",
    "        return round(result + 0.005, 2)\n",
    "    \n",
    "    return scores # case where scores is a single valu\n",
    "\n",
    "# try with one number\n",
    "singleScore = 100\n",
    "print(\"Print test data: \" + str(singleScore))  # concat data for single line\n",
    "print(\"Mean of single number: \" + str(mean(singleScore)))\n",
    "\n",
    "print()\n",
    "\n",
    "# define a list of numbers\n",
    "testScores = [90.5, 100, 85.4, 88]\n",
    "print(\"Print test data: \" + str(testScores))\n",
    "print(\"Average score, loop method: \" + str(mean(testScores)))\n",
    "print(\"Average score, function method: \" +  str(mean(testScores, 2)))\n",
    "\n",
    "print()\n",
    "\n",
    "badData = [100, \"NaN\", 90]\n",
    "print(\"Print test data: \" + str(badData))\n",
    "print(\"Mean with bad data: \" + str(mean(badData)))"
   ]
  },
  {
   "cell_type": "code",
   "execution_count": 3,
   "metadata": {
    "vscode": {
     "languageId": "html"
    }
   },
   "outputs": [
    {
     "name": "stderr",
     "output_type": "stream",
     "text": [
      "/tmp/ipykernel_4493/2962417301.py:1: DeprecationWarning: Importing display from IPython.core.display is deprecated since IPython 7.14, please import from IPython display\n",
      "  from IPython.core.display import display, HTML\n"
     ]
    },
    {
     "data": {
      "text/html": [
       "\n",
       "<h2>Color Picker</h2>\n",
       "<input type=\"color\" id=\"colorPicker\" onchange=\"changeColor()\">\n",
       "<p>Selected Color: <span id=\"colorValue\">#ffffff</span></p>\n",
       "\n",
       "<div id=\"colorDisplay\" style=\"width: 100%; height: 100px; border: 1px solid #000;\"></div>\n",
       "\n",
       "<style>\n",
       "    body { font-family: Arial, sans-serif; }\n",
       "    #colorDisplay {\n",
       "        transition: background-color 0.3s ease;\n",
       "    }\n",
       "</style>\n",
       "\n",
       "<script>\n",
       "    function changeColor() {\n",
       "        const color = document.getElementById('colorPicker').value;\n",
       "        document.getElementById('colorValue').innerText = color;\n",
       "        document.getElementById('colorDisplay').style.backgroundColor = color;\n",
       "    }\n",
       "</script>\n"
      ],
      "text/plain": [
       "<IPython.core.display.HTML object>"
      ]
     },
     "metadata": {},
     "output_type": "display_data"
    }
   ],
   "source": [
    "from IPython.core.display import display, HTML\n",
    "\n",
    "# HTML code for the color picker\n",
    "html_code = \"\"\"\n",
    "<h2>Color Picker</h2>\n",
    "<input type=\"color\" id=\"colorPicker\" onchange=\"changeColor()\">\n",
    "<p>Selected Color: <span id=\"colorValue\">#ffffff</span></p>\n",
    "\n",
    "<div id=\"colorDisplay\" style=\"width: 100%; height: 100px; border: 1px solid #000;\"></div>\n",
    "\n",
    "<style>\n",
    "    body { font-family: Arial, sans-serif; }\n",
    "    #colorDisplay {\n",
    "        transition: background-color 0.3s ease;\n",
    "    }\n",
    "</style>\n",
    "\n",
    "<script>\n",
    "    function changeColor() {\n",
    "        const color = document.getElementById('colorPicker').value;\n",
    "        document.getElementById('colorValue').innerText = color;\n",
    "        document.getElementById('colorDisplay').style.backgroundColor = color;\n",
    "    }\n",
    "</script>\n",
    "\"\"\"\n",
    "\n",
    "# Display the HTML code in the notebook\n",
    "display(HTML(html_code))\n"
   ]
  },
  {
   "cell_type": "code",
   "execution_count": 4,
   "metadata": {
    "vscode": {
     "languageId": "html"
    }
   },
   "outputs": [
    {
     "name": "stderr",
     "output_type": "stream",
     "text": [
      "/tmp/ipykernel_4493/1927388351.py:1: DeprecationWarning: Importing display from IPython.core.display is deprecated since IPython 7.14, please import from IPython display\n",
      "  from IPython.core.display import display, HTML\n"
     ]
    },
    {
     "data": {
      "text/html": [
       "\n",
       "<h2>Theme Toggle</h2>\n",
       "<button class=\"theme-button\" onclick=\"toggleTheme()\">Toggle Theme</button>\n",
       "\n",
       "<p>This is a simple theme toggle example. Click the button to change the theme!</p>\n",
       "\n",
       "<style>\n",
       "    body {\n",
       "        font-family: Arial, sans-serif;\n",
       "        transition: background-color 0.3s, color 0.3s;\n",
       "    }\n",
       "    .light {\n",
       "        background-color: white;\n",
       "        color: black;\n",
       "    }\n",
       "    .dark {\n",
       "        background-color: #333;\n",
       "        color: white;\n",
       "    }\n",
       "    .theme-button {\n",
       "        background-color: lightblue;\n",
       "        color: white;\n",
       "        padding: 10px 15px;\n",
       "        margin: 5px;\n",
       "        border: none;\n",
       "        border-radius: 5px;\n",
       "        cursor: pointer;\n",
       "    }\n",
       "    .theme-button:hover {\n",
       "        background-color: #45a049;\n",
       "    }\n",
       "</style>\n",
       "\n",
       "<script>\n",
       "    let isDarkTheme = false;\n",
       "\n",
       "    function toggleTheme() {\n",
       "        isDarkTheme = !isDarkTheme;\n",
       "        document.body.className = isDarkTheme ? 'dark' : 'light';\n",
       "    }\n",
       "\n",
       "    // Set initial theme\n",
       "    document.body.className = 'light';\n",
       "</script>\n"
      ],
      "text/plain": [
       "<IPython.core.display.HTML object>"
      ]
     },
     "metadata": {},
     "output_type": "display_data"
    }
   ],
   "source": [
    "from IPython.core.display import display, HTML\n",
    "\n",
    "# HTML code for the theme toggle button\n",
    "html_code = \"\"\"\n",
    "<h2>Theme Toggle</h2>\n",
    "<button class=\"theme-button\" onclick=\"toggleTheme()\">Toggle Theme</button>\n",
    "\n",
    "<p>This is a simple theme toggle example. Click the button to change the theme!</p>\n",
    "\n",
    "<style>\n",
    "    body {\n",
    "        font-family: Arial, sans-serif;\n",
    "        transition: background-color 0.3s, color 0.3s;\n",
    "    }\n",
    "    .light {\n",
    "        background-color: white;\n",
    "        color: black;\n",
    "    }\n",
    "    .dark {\n",
    "        background-color: #333;\n",
    "        color: white;\n",
    "    }\n",
    "    .theme-button {\n",
    "        background-color: lightblue;\n",
    "        color: white;\n",
    "        padding: 10px 15px;\n",
    "        margin: 5px;\n",
    "        border: none;\n",
    "        border-radius: 5px;\n",
    "        cursor: pointer;\n",
    "    }\n",
    "    .theme-button:hover {\n",
    "        background-color: #45a049;\n",
    "    }\n",
    "</style>\n",
    "\n",
    "<script>\n",
    "    let isDarkTheme = false;\n",
    "\n",
    "    function toggleTheme() {\n",
    "        isDarkTheme = !isDarkTheme;\n",
    "        document.body.className = isDarkTheme ? 'dark' : 'light';\n",
    "    }\n",
    "\n",
    "    // Set initial theme\n",
    "    document.body.className = 'light';\n",
    "</script>\n",
    "\"\"\"\n",
    "\n",
    "# Display the HTML code in the notebook\n",
    "display(HTML(html_code))\n"
   ]
  },
  {
   "cell_type": "code",
   "execution_count": null,
   "metadata": {
    "vscode": {
     "languageId": "html"
    }
   },
   "outputs": [],
   "source": []
  }
 ],
 "metadata": {
  "kernelspec": {
   "display_name": "venv",
   "language": "python",
   "name": "python3"
  },
  "language_info": {
   "codemirror_mode": {
    "name": "ipython",
    "version": 3
   },
   "file_extension": ".py",
   "mimetype": "text/x-python",
   "name": "python",
   "nbconvert_exporter": "python",
   "pygments_lexer": "ipython3",
   "version": "3.12.3"
  }
 },
 "nbformat": 4,
 "nbformat_minor": 2
}
