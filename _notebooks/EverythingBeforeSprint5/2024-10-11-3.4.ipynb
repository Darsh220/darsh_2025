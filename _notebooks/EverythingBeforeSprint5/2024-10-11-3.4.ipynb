{
 "cells": [
  {
   "cell_type": "markdown",
   "metadata": {},
   "source": [
    "---\n",
    "layout: post\n",
    "title: Homework and Popcorn Hacks for 3.4\n",
    "description: Homeworks and Popcorn Hacks\n",
    "courses: { csp: {week: 1} }\n",
    "comments: true\n",
    "sticky_rank: 1\n",
    "---"
   ]
  },
  {
   "cell_type": "markdown",
   "metadata": {},
   "source": [
    "### 3.4.1 Popcorn Hacks"
   ]
  },
  {
   "cell_type": "code",
   "execution_count": 1,
   "metadata": {},
   "outputs": [
    {
     "data": {
      "application/javascript": "\nlet favoriteBook = \"1984\";\nlet favoriteActivity = \"basketball\";\nlet dogName = \"Max\";\n\n// Concatenation\nlet messageConcat = \"I enjoy reading \" + favoriteBook + \". My favorite activity is \" + favoriteActivity + \" and my dog's name is \" + dogName + \".\";\n\n// Interpolation\nlet messageTemplate = `I enjoy reading ${favoriteBook}. My favorite activity is ${favoriteActivity} and my dog's name is ${dogName}.`;\n",
      "text/plain": [
       "<IPython.core.display.Javascript object>"
      ]
     },
     "metadata": {},
     "output_type": "display_data"
    }
   ],
   "source": [
    "%%javascript\n",
    "\n",
    "let favoriteBook = \"1984\";\n",
    "let favoriteActivity = \"basketball\";\n",
    "let dogName = \"Max\";\n",
    "\n",
    "// Concatenation\n",
    "let messageConcat = \"I enjoy reading \" + favoriteBook + \". My favorite activity is \" + favoriteActivity + \" and my dog's name is \" + dogName + \".\";\n",
    "\n",
    "// Interpolation\n",
    "let messageTemplate = `I enjoy reading ${favoriteBook}. My favorite activity is ${favoriteActivity} and my dog's name is ${dogName}.`;\n"
   ]
  },
  {
   "cell_type": "markdown",
   "metadata": {},
   "source": [
    "### 3.4.2 Popcorn Hack"
   ]
  },
  {
   "cell_type": "code",
   "execution_count": 2,
   "metadata": {},
   "outputs": [
    {
     "data": {
      "application/javascript": "\nlet phrase = \"A journey of a thousand miles begins with a single step\";\n\nlet partOne = phrase.slice(2, 8);\nlet partTwo = phrase.slice(-18, -12);\nlet remainder = phrase.slice(20);\n\nconsole.log(partOne, partTwo, remainder);\n",
      "text/plain": [
       "<IPython.core.display.Javascript object>"
      ]
     },
     "metadata": {},
     "output_type": "display_data"
    }
   ],
   "source": [
    "%%javascript\n",
    "\n",
    "let phrase = \"A journey of a thousand miles begins with a single step\";\n",
    "\n",
    "let partOne = phrase.slice(2, 8);\n",
    "let partTwo = phrase.slice(-18, -12);\n",
    "let remainder = phrase.slice(20);\n",
    "\n",
    "console.log(partOne, partTwo, remainder);\n"
   ]
  },
  {
   "cell_type": "markdown",
   "metadata": {},
   "source": [
    "### 3.4.3 Popcorn Hack"
   ]
  },
  {
   "cell_type": "code",
   "execution_count": 4,
   "metadata": {},
   "outputs": [
    {
     "name": "stdout",
     "output_type": "stream",
     "text": [
      " lv plyng bdmntn!\n"
     ]
    }
   ],
   "source": [
    "def remove_vowels(s):\n",
    "    return ''.join(c for c in s if c not in \"aeiouAEIOU\")\n",
    "\n",
    "print(remove_vowels(\"I love playing badminton!\"))\n",
    "\n"
   ]
  },
  {
   "cell_type": "markdown",
   "metadata": {},
   "source": [
    "### Reverse Hack"
   ]
  },
  {
   "cell_type": "code",
   "execution_count": 5,
   "metadata": {},
   "outputs": [
    {
     "name": "stdout",
     "output_type": "stream",
     "text": [
      "coding! love I\n"
     ]
    }
   ],
   "source": [
    "def reverse_words(s):\n",
    "    return \" \".join(s.split()[::-1])\n",
    "\n",
    "print(reverse_words(\"I love coding!\"))\n"
   ]
  },
  {
   "cell_type": "markdown",
   "metadata": {},
   "source": [
    "### Homework 3.4.1"
   ]
  },
  {
   "cell_type": "code",
   "execution_count": 6,
   "metadata": {},
   "outputs": [
    {
     "data": {
      "application/javascript": "let firstName = \"John\";\nlet lastName = \"Doe\";\n\nlet greeting = `Hello, ${firstName} ${lastName}!`;\nconsole.log(greeting);\n",
      "text/plain": [
       "<IPython.core.display.Javascript object>"
      ]
     },
     "metadata": {},
     "output_type": "display_data"
    }
   ],
   "source": [
    "%%javascript\n",
    "let firstName = \"John\";\n",
    "let lastName = \"Doe\";\n",
    "\n",
    "let greeting = `Hello, ${firstName} ${lastName}!`;\n",
    "console.log(greeting);\n"
   ]
  },
  {
   "cell_type": "markdown",
   "metadata": {},
   "source": [
    "### Homework hack 3.4.2"
   ]
  },
  {
   "cell_type": "code",
   "execution_count": 7,
   "metadata": {},
   "outputs": [
    {
     "name": "stdout",
     "output_type": "stream",
     "text": [
      "True\n",
      "False\n"
     ]
    }
   ],
   "source": [
    "def is_palindrome(s):\n",
    "    return s == s[::-1]\n",
    "\n",
    "print(is_palindrome(\"racecar\"))\n",
    "print(is_palindrome(\"hello\"))\n"
   ]
  }
 ],
 "metadata": {
  "kernelspec": {
   "display_name": "venv",
   "language": "python",
   "name": "python3"
  },
  "language_info": {
   "codemirror_mode": {
    "name": "ipython",
    "version": 3
   },
   "file_extension": ".py",
   "mimetype": "text/x-python",
   "name": "python",
   "nbconvert_exporter": "python",
   "pygments_lexer": "ipython3",
   "version": "3.12.3"
  }
 },
 "nbformat": 4,
 "nbformat_minor": 2
}
