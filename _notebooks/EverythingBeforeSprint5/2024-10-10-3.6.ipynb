{
 "cells": [
  {
   "cell_type": "markdown",
   "metadata": {},
   "source": [
    "---\n",
    "layout: post\n",
    "title: Homework and Popcorn Hacks for 3.6\n",
    "description: Homeworks and Popcorn Hacks\n",
    "courses: { csp: {week: 1} }\n",
    "comments: true\n",
    "sticky_rank: 1\n",
    "---"
   ]
  },
  {
   "cell_type": "markdown",
   "metadata": {},
   "source": [
    "--- \n",
    "### Popcorn Hack 1"
   ]
  },
  {
   "cell_type": "code",
   "execution_count": 2,
   "metadata": {},
   "outputs": [
    {
     "name": "stdout",
     "output_type": "stream",
     "text": [
      "You dont have an A lol\n"
     ]
    }
   ],
   "source": [
    "grade = 89\n",
    "if grade >= 90:\n",
    "    print(\"You have an A!\")\n",
    "else:\n",
    "    print(\"You dont have an A lol\")"
   ]
  },
  {
   "cell_type": "markdown",
   "metadata": {},
   "source": [
    "---\n",
    "### Popcorn Hack 2"
   ]
  },
  {
   "cell_type": "code",
   "execution_count": 5,
   "metadata": {},
   "outputs": [
    {
     "data": {
      "application/javascript": "let score = 99;\n\n// Conditional statement\nif (score >= 90) {\n    console.log(\"You have an A!\");\n} else {\n    console.log(\"You dont have an A.\");\n}\n",
      "text/plain": [
       "<IPython.core.display.Javascript object>"
      ]
     },
     "metadata": {},
     "output_type": "display_data"
    }
   ],
   "source": [
    "%%js\n",
    "let score = 99;\n",
    "\n",
    "// Conditional statement\n",
    "if (score >= 90) {\n",
    "    console.log(\"You have an A!\");\n",
    "} else {\n",
    "    console.log(\"You dont have an A.\");\n",
    "}\n"
   ]
  },
  {
   "cell_type": "code",
   "execution_count": 7,
   "metadata": {},
   "outputs": [
    {
     "name": "stdout",
     "output_type": "stream",
     "text": [
      "Food Is Good\n"
     ]
    }
   ],
   "source": [
    "food_is_good = True\n",
    "if food_is_good:\n",
    "     print(\"Food Is Good\")\n",
    "else:\n",
    "    print(\"Food is not good\")\n",
    " "
   ]
  },
  {
   "cell_type": "code",
   "execution_count": 8,
   "metadata": {},
   "outputs": [
    {
     "data": {
      "application/javascript": "food_is_good = true;\nif food_is_good {\n    console.log(\"Food is Good\");\n} else {\n    console.log(\"Food is not Good\");\n}\n",
      "text/plain": [
       "<IPython.core.display.Javascript object>"
      ]
     },
     "metadata": {},
     "output_type": "display_data"
    }
   ],
   "source": [
    "%%js\n",
    "food_is_good = true;\n",
    "if food_is_good {\n",
    "    console.log(\"Food is Good\");\n",
    "} else {\n",
    "    console.log(\"Food is not Good\");\n",
    "}\n"
   ]
  },
  {
   "cell_type": "code",
   "execution_count": 10,
   "metadata": {},
   "outputs": [
    {
     "data": {
      "application/javascript": "let number_game = Math.floor(Math.random() * 6) + 1 \nconsole.log(\"Printing number...\");\n\nif (number_game === 1) {\n    console.log(\"Your number is 1\");\n} else if (number_game === 2) {\n    console.log(\"Your Number is 2\");\n} else if (number_game === 3) {\n    console.log(\"Your Number is 3\")\n} else if (number_game === 4) {\n    console.log(\"Your number is 4\")\n} else if (number_game === 5) {\n    console.log(\"Your number is 5\")\n} else {\n    console.log(\"Your Number is a 6\")\n}\n        \n    \n",
      "text/plain": [
       "<IPython.core.display.Javascript object>"
      ]
     },
     "metadata": {},
     "output_type": "display_data"
    }
   ],
   "source": [
    "%%js\n",
    "let number_game = Math.floor(Math.random() * 6) + 1 \n",
    "console.log(\"Printing number...\");\n",
    "\n",
    "if (number_game === 1) {\n",
    "    console.log(\"Your number is 1\");\n",
    "} else if (number_game === 2) {\n",
    "    console.log(\"Your Number is 2\");\n",
    "} else if (number_game === 3) {\n",
    "    console.log(\"Your Number is 3\")\n",
    "} else if (number_game === 4) {\n",
    "    console.log(\"Your number is 4\")\n",
    "} else if (number_game === 5) {\n",
    "    console.log(\"Your number is 5\")\n",
    "} else {\n",
    "    console.log(\"Your Number is a 6\")\n",
    "}"
   ]
  },
  {
   "cell_type": "code",
   "execution_count": 11,
   "metadata": {},
   "outputs": [
    {
     "name": "stdout",
     "output_type": "stream",
     "text": [
      "You can have candy\n"
     ]
    }
   ],
   "source": [
    "age = int(input(\"Enter your age: \"))\n",
    "yummy_sweets = input(\"Are sweets the goat? (yes/no): \").lower()\n",
    "\n",
    "if age <= 10:\n",
    "    if yummy_sweets == \"No\":\n",
    "        print(\"Youre underage\")\n",
    "    else:\n",
    "        print(\"You can have candy once you get older\")\n",
    "else:\n",
    "    print(\"You can have candy\")"
   ]
  },
  {
   "cell_type": "code",
   "execution_count": 13,
   "metadata": {},
   "outputs": [
    {
     "name": "stdout",
     "output_type": "stream",
     "text": [
      "You need more money to buy these items\n"
     ]
    }
   ],
   "source": [
    "life_savings = 200\n",
    "\n",
    "computer_price = 500\n",
    "phone_price = 350\n",
    "headphone_price = 300\n",
    "if life_savings >= computer_price:\n",
    "    print(\"You have enough to purchase a new computer\")\n",
    "elif life_savings >= phone_price:\n",
    "    print(\"You can buy a brand new phone\")\n",
    "elif life_savings >= headphone_price:\n",
    "    print(\"You have enougn to purchase a brand new headphone\")\n",
    "else:\n",
    "    print(\"You need more money to buy these items\")\n",
    "    "
   ]
  },
  {
   "cell_type": "code",
   "execution_count": 15,
   "metadata": {},
   "outputs": [
    {
     "data": {
      "application/javascript": "let game_store_open = true;\nlet game_yes = false;\n\nif (game_store_open) {\n    console.log(\"The Game store is open\")\n    if (game_yes) {\n        print(\"The Game is not available :( \")\n    }\n}\n",
      "text/plain": [
       "<IPython.core.display.Javascript object>"
      ]
     },
     "metadata": {},
     "output_type": "display_data"
    }
   ],
   "source": [
    "%%js\n",
    "let game_store_open = true;\n",
    "let game_yes = false;\n",
    "\n",
    "if (game_store_open) {\n",
    "    console.log(\"The Game store is open\")\n",
    "    if (game_yes) {\n",
    "        print(\"The Game is not available :( \")\n",
    "    }\n",
    "}"
   ]
  },
  {
   "cell_type": "code",
   "execution_count": 18,
   "metadata": {},
   "outputs": [
    {
     "name": "stdout",
     "output_type": "stream",
     "text": [
      "Current list: ['apple', 'orange', 'banana']\n",
      "Updated list: ['orange', 'banana']\n"
     ]
    }
   ],
   "source": [
    "# HW 1 SECTION 1\n",
    "\n",
    "mylist = [\"apple\", \"orange\", \"banana\"]\n",
    "\n",
    "print(\"Current list:\", mylist)\n",
    "\n",
    "index = int(input(\"Enter an index to remove an item (0 for 'apple', 1 for 'orange', 2 for 'banana'): \"))\n",
    "\n",
    "removed_item = mylist.remove(mylist[index])\n",
    "\n",
    "print(\"Updated list:\", mylist)"
   ]
  }
 ],
 "metadata": {
  "kernelspec": {
   "display_name": "venv",
   "language": "python",
   "name": "python3"
  },
  "language_info": {
   "codemirror_mode": {
    "name": "ipython",
    "version": 3
   },
   "file_extension": ".py",
   "mimetype": "text/x-python",
   "name": "python",
   "nbconvert_exporter": "python",
   "pygments_lexer": "ipython3",
   "version": "3.12.3"
  }
 },
 "nbformat": 4,
 "nbformat_minor": 2
}
