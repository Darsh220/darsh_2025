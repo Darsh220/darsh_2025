{
 "cells": [
  {
   "cell_type": "markdown",
   "metadata": {},
   "source": [
    "---\n",
    "layout: post\n",
    "title: Homework and Popcorn Hacks for 3.2\n",
    "description: Homeworks and Popcorn Hacks\n",
    "courses: { csp: {week: 1} }\n",
    "comments: true\n",
    "sticky_rank: 1\n",
    "---"
   ]
  },
  {
   "cell_type": "markdown",
   "metadata": {},
   "source": [
    "---\n",
    "### Popcorn Hack 1 - Dictionaries"
   ]
  },
  {
   "cell_type": "code",
   "execution_count": 4,
   "metadata": {},
   "outputs": [
    {
     "name": "stdout",
     "output_type": "stream",
     "text": [
      "Fruit for key 1: Bananas\n"
     ]
    }
   ],
   "source": [
    "fruits = {1: \"Bananas\", 2: \"Apples\", 3: \"Pears\"}\n",
    "key_to_access = 1  \n",
    "print(f\"Fruit for key {key_to_access}: {fruits[key_to_access]}\")\n",
    "\n"
   ]
  },
  {
   "cell_type": "markdown",
   "metadata": {},
   "source": [
    "---\n",
    "### Popcorn Hack 2 - Calculator"
   ]
  },
  {
   "cell_type": "code",
   "execution_count": 1,
   "metadata": {},
   "outputs": [
    {
     "name": "stdout",
     "output_type": "stream",
     "text": [
      "3\n"
     ]
    }
   ],
   "source": [
    "\n",
    "firstNumber = int(input(\"Please Enter the First Number Here: \"))\n",
    "secondNumber = int(input(\"Please Enter the Second Number Here: \"))\n",
    "mathFunction = input(\"Please Enter the function here (+, -, *, /): \")\n",
    "\n",
    "operations = {\n",
    "    \"+\": firstNumber + secondNumber,\n",
    "    \"-\": firstNumber - secondNumber,\n",
    "    \"*\": firstNumber * secondNumber,\n",
    "    \"/\": firstNumber / secondNumber if secondNumber != 0 else \"Error: Division by zero\"\n",
    "}\n",
    "\n",
    "result = operations.get(mathFunction, \"Error: Invalid operation.\")\n",
    "print(result)\n"
   ]
  },
  {
   "cell_type": "markdown",
   "metadata": {},
   "source": [
    "---\n",
    "### Popcorn Hack 3 - Returning elements a list"
   ]
  },
  {
   "cell_type": "code",
   "execution_count": 5,
   "metadata": {},
   "outputs": [
    {
     "name": "stdout",
     "output_type": "stream",
     "text": [
      "['carscarscars', 'bikesbikesbikes', 'aweosmeaweosmeaweosme']\n"
     ]
    }
   ],
   "source": [
    "def repeat_strings_in_list(strings, n): \n",
    "    result = [] # Creating array\n",
    "    for string in strings:\n",
    "        result.append(string * n)  # Repeating the string `n` times\n",
    "    return result\n",
    "\n",
    "string_list = [\"cars\", \"bikes\", \"aweosme\"]\n",
    "print(repeat_strings_in_list(string_list, 3))\n"
   ]
  },
  {
   "cell_type": "markdown",
   "metadata": {},
   "source": [
    "---\n",
    "### Popcorn Hack 4 - Comparison of Sets\n"
   ]
  },
  {
   "cell_type": "code",
   "execution_count": 14,
   "metadata": {},
   "outputs": [
    {
     "name": "stdout",
     "output_type": "stream",
     "text": [
      "True\n"
     ]
    }
   ],
   "source": [
    "set1 = {1,2,3}\n",
    "set2 = {3,4,5}\n",
    "def simsets(s1,s2):\n",
    "    similar = False\n",
    "    for i in set1:\n",
    "        for j in set2:\n",
    "            if i == j:\n",
    "                similar = True\n",
    "    return similar\n",
    "print(simsets(set1, set2))"
   ]
  },
  {
   "cell_type": "markdown",
   "metadata": {},
   "source": [
    "---"
   ]
  },
  {
   "cell_type": "markdown",
   "metadata": {},
   "source": [
    "## Homework 1,2,3,4"
   ]
  },
  {
   "cell_type": "markdown",
   "metadata": {},
   "source": [
    "\n",
    "#### Part 1 - Dictionary with Specified Keys"
   ]
  },
  {
   "cell_type": "code",
   "execution_count": 8,
   "metadata": {},
   "outputs": [
    {
     "name": "stdout",
     "output_type": "stream",
     "text": [
      "{'name': 'Darsh Darsh', 'age': 17, 'city': 'San Diego', 'favorite_color': 'Purple'}\n"
     ]
    }
   ],
   "source": [
    "profile = {\n",
    "    \"name\": \"Darsh Darsh\",           \n",
    "    \"age\": 17,                  \n",
    "    \"city\": \"San Diego\",         \n",
    "    \"favorite_color\": \"Purple\"    \n",
    "}\n",
    "print(profile)\n"
   ]
  },
  {
   "cell_type": "markdown",
   "metadata": {},
   "source": [
    "\n",
    "#### Part 2 - Creating a list of hobbies "
   ]
  },
  {
   "cell_type": "code",
   "execution_count": 9,
   "metadata": {},
   "outputs": [
    {
     "name": "stdout",
     "output_type": "stream",
     "text": [
      "Hobbies: ['Studying', 'Badminton', 'Biking']\n"
     ]
    }
   ],
   "source": [
    "hobbies = [\"Studying\", \"Badminton\", \"Biking\"]\n",
    "print(\"Hobbies:\", hobbies)"
   ]
  },
  {
   "cell_type": "markdown",
   "metadata": {},
   "source": [
    "#### Part 3 - Adding Hobbies to to Profile"
   ]
  },
  {
   "cell_type": "code",
   "execution_count": 10,
   "metadata": {},
   "outputs": [
    {
     "name": "stdout",
     "output_type": "stream",
     "text": [
      "Profile updated successfully: {'name': 'Darsh Darsh', 'age': 17, 'city': 'San Diego', 'favorite_color': 'Purple', 'hobbies': ['Studying', 'Badminton', 'Biking']}\n"
     ]
    }
   ],
   "source": [
    "profile[\"hobbies\"] = hobbies\n",
    "print(\"Profile updated successfully:\", profile)\n"
   ]
  },
  {
   "cell_type": "markdown",
   "metadata": {},
   "source": [
    "#### Part 4 - Checking the Availability of a Hobby"
   ]
  },
  {
   "cell_type": "code",
   "execution_count": 11,
   "metadata": {},
   "outputs": [
    {
     "name": "stdout",
     "output_type": "stream",
     "text": [
      "Is the hobby 'Studying' available today? Yes\n"
     ]
    }
   ],
   "source": [
    "has_hobby = True  # or False\n",
    "print(f\"Is the hobby '{hobbies[0]}' available today? {'Yes' if has_hobby else 'No'}\")\n"
   ]
  },
  {
   "cell_type": "markdown",
   "metadata": {},
   "source": [
    "#### Part 5 - Total number of Hobbies"
   ]
  },
  {
   "cell_type": "code",
   "execution_count": 12,
   "metadata": {},
   "outputs": [
    {
     "name": "stdout",
     "output_type": "stream",
     "text": [
      "I currently have a total of 3 hobbies.\n"
     ]
    }
   ],
   "source": [
    "total_hobbies = len(hobbies)\n",
    "print(f\"I currently have a total of {total_hobbies} hobbies.\")\n"
   ]
  },
  {
   "cell_type": "markdown",
   "metadata": {},
   "source": [
    "#### Part 6 - Favorite Hobbies"
   ]
  },
  {
   "cell_type": "code",
   "execution_count": 14,
   "metadata": {},
   "outputs": [
    {
     "name": "stdout",
     "output_type": "stream",
     "text": [
      "My favorite hobbies are: ('Badminton', 'Biking')\n"
     ]
    }
   ],
   "source": [
    "favorite_hobbies = (\"Badminton\", \"Biking\")\n",
    "print(\"My favorite hobbies are:\", favorite_hobbies)\n"
   ]
  },
  {
   "cell_type": "markdown",
   "metadata": {},
   "source": [
    "#### Part 7 - Add a new item to your profile"
   ]
  },
  {
   "cell_type": "code",
   "execution_count": 15,
   "metadata": {},
   "outputs": [
    {
     "name": "stdout",
     "output_type": "stream",
     "text": [
      "My skills include: ['Coding', 'Painting', 'Cooking']\n"
     ]
    }
   ],
   "source": [
    "skills = [\"Coding\", \"Painting\", \"Cooking\"]\n",
    "print(\"My skills include:\", skills)\n"
   ]
  },
  {
   "cell_type": "markdown",
   "metadata": {},
   "source": [
    "#### Part 8 - Add a new skill "
   ]
  },
  {
   "cell_type": "code",
   "execution_count": 16,
   "metadata": {},
   "outputs": [
    {
     "name": "stdout",
     "output_type": "stream",
     "text": [
      "New skill to learn: None\n"
     ]
    }
   ],
   "source": [
    "new_skill = None\n",
    "print(\"New skill to learn:\", new_skill)\n"
   ]
  },
  {
   "cell_type": "markdown",
   "metadata": {},
   "source": [
    "#### Part 9 - Calculate Total Cost"
   ]
  },
  {
   "cell_type": "code",
   "execution_count": 17,
   "metadata": {},
   "outputs": [
    {
     "name": "stdout",
     "output_type": "stream",
     "text": [
      "Total cost for pursuing hobbies and skills: $45.00\n"
     ]
    }
   ],
   "source": [
    "total_cost = float(total_hobbies * 5 + len(skills) * 10)\n",
    "print(f\"Total cost for pursuing hobbies and skills: ${total_cost:.2f}\")\n"
   ]
  }
 ],
 "metadata": {
  "kernelspec": {
   "display_name": "venv",
   "language": "python",
   "name": "python3"
  },
  "language_info": {
   "codemirror_mode": {
    "name": "ipython",
    "version": 3
   },
   "file_extension": ".py",
   "mimetype": "text/x-python",
   "name": "python",
   "nbconvert_exporter": "python",
   "pygments_lexer": "ipython3",
   "version": "3.12.3"
  }
 },
 "nbformat": 4,
 "nbformat_minor": 2
}
