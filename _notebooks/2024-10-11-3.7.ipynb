{
 "cells": [
  {
   "cell_type": "markdown",
   "metadata": {},
   "source": [
    "---\n",
    "layout: post\n",
    "title: Homework and Popcorn Hacks for 3.4\n",
    "description: Homeworks and Popcorn Hacks\n",
    "courses: { csp: {week: 1} }\n",
    "comments: true\n",
    "sticky_rank: 1\n",
    "---"
   ]
  },
  {
   "cell_type": "markdown",
   "metadata": {},
   "source": [
    "### 3.7.1 Popcorn Hack"
   ]
  },
  {
   "cell_type": "code",
   "execution_count": 2,
   "metadata": {},
   "outputs": [
    {
     "name": "stdout",
     "output_type": "stream",
     "text": [
      "Enjoy some candy!\n"
     ]
    }
   ],
   "source": [
    "age = int(input(\"How old are you? \"))\n",
    "likes_sweets = input(\"Are you a fan of sweets? (yes/no): \").lower()\n",
    "\n",
    "if age >= 10:\n",
    "    print(\"Enjoy some candy!\" if likes_sweets == \"yes\" else \"How about a healthy snack instead?\")\n",
    "else:\n",
    "    print(\"You can have a yummy fruit snack!\")\n",
    "\n"
   ]
  },
  {
   "cell_type": "markdown",
   "metadata": {},
   "source": [
    "### 3.7.2 Popcorn Hack"
   ]
  },
  {
   "cell_type": "code",
   "execution_count": 3,
   "metadata": {},
   "outputs": [
    {
     "name": "stdout",
     "output_type": "stream",
     "text": [
      "Unfortunately, you need more money to buy a laptop.\n"
     ]
    }
   ],
   "source": [
    "savings = 500  \n",
    "\n",
    "dell_price = 800\n",
    "hp_price = 700\n",
    "macbook_price = 1200\n",
    "\n",
    "if savings >= macbook_price:\n",
    "    print(\"Congratulations! You can afford a MacBook!\")\n",
    "elif savings >= dell_price:\n",
    "    print(\"Great choice! You can get a Dell laptop!\")\n",
    "elif savings >= hp_price:\n",
    "    print(\"Awesome! You can buy an HP laptop!\")\n",
    "else:\n",
    "    print(\"Unfortunately, you need more money to buy a laptop.\")\n"
   ]
  },
  {
   "cell_type": "markdown",
   "metadata": {},
   "source": [
    "### 3.7.3 Popcorn Hack"
   ]
  },
  {
   "cell_type": "code",
   "execution_count": 4,
   "metadata": {},
   "outputs": [
    {
     "data": {
      "application/javascript": "\nlet isStoreOpen = true;\nlet areVegetablesInStock = false;\n\nif (isStoreOpen) {\n    console.log(\"The grocery store is open for shopping.\");\n\n    if (areVegetablesInStock) {\n        console.log(\"Grab some fresh veggies!\");\n    } else {\n        console.log(\"Consider checking other products on your list.\");\n    }\n} else {\n    console.log(\"The store is currently closed. Come back later.\");\n}\n",
      "text/plain": [
       "<IPython.core.display.Javascript object>"
      ]
     },
     "metadata": {},
     "output_type": "display_data"
    }
   ],
   "source": [
    "%%javascript\n",
    "\n",
    "let isStoreOpen = true;\n",
    "let areVegetablesInStock = false;\n",
    "\n",
    "if (isStoreOpen) {\n",
    "    console.log(\"The grocery store is open for shopping.\");\n",
    "\n",
    "    if (areVegetablesInStock) {\n",
    "        console.log(\"Grab some fresh veggies!\");\n",
    "    } else {\n",
    "        console.log(\"Consider checking other products on your list.\");\n",
    "    }\n",
    "} else {\n",
    "    console.log(\"The store is currently closed. Come back later.\");\n",
    "}\n"
   ]
  },
  {
   "cell_type": "markdown",
   "metadata": {},
   "source": [
    "### Homework Hack 3.7.1"
   ]
  },
  {
   "cell_type": "code",
   "execution_count": 5,
   "metadata": {},
   "outputs": [
    {
     "data": {
      "application/javascript": "\nlet age = parseInt(prompt(\"Enter your age:\"));\nlet hasBall = prompt(\"Do you have a ball? (yes/no):\").toLowerCase();\n\nif (age >= 5 && hasBall === \"yes\") {\n    let group = age < 8 ? \"under 8\" : \"8 and older\";\n    console.log(`You can join the game! Your group is: ${group}`);\n} else {\n    console.log(\"Sorry, you cannot join the game.\");\n}\n",
      "text/plain": [
       "<IPython.core.display.Javascript object>"
      ]
     },
     "metadata": {},
     "output_type": "display_data"
    }
   ],
   "source": [
    "%%javascript\n",
    "\n",
    "let age = parseInt(prompt(\"Enter your age:\"));\n",
    "let hasBall = prompt(\"Do you have a ball? (yes/no):\").toLowerCase();\n",
    "\n",
    "if (age >= 5 && hasBall === \"yes\") {\n",
    "    let group = age < 8 ? \"under 8\" : \"8 and older\";\n",
    "    console.log(`You can join the game! Your group is: ${group}`);\n",
    "} else {\n",
    "    console.log(\"Sorry, you cannot join the game.\");\n",
    "}\n"
   ]
  }
 ],
 "metadata": {
  "kernelspec": {
   "display_name": "venv",
   "language": "python",
   "name": "python3"
  },
  "language_info": {
   "codemirror_mode": {
    "name": "ipython",
    "version": 3
   },
   "file_extension": ".py",
   "mimetype": "text/x-python",
   "name": "python",
   "nbconvert_exporter": "python",
   "pygments_lexer": "ipython3",
   "version": "3.12.3"
  }
 },
 "nbformat": 4,
 "nbformat_minor": 2
}
