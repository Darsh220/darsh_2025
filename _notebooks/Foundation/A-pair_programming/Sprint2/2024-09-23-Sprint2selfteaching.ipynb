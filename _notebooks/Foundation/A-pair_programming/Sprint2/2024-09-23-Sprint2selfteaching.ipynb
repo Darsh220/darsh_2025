{
 "cells": [
  {
   "cell_type": "markdown",
   "metadata": {},
   "source": [
    "---\n",
    "layout: post\n",
    "title: Lists 3.10\n",
    "description: Lists 3.10\n",
    "type: issues \n",
    "comments: true\n",
    "---"
   ]
  },
  {
   "cell_type": "markdown",
   "metadata": {
    "vscode": {
     "languageId": "raw"
    }
   },
   "source": [
    "# Python Data Type \n",
    "# Lists"
   ]
  },
  {
   "cell_type": "code",
   "execution_count": 1,
   "metadata": {},
   "outputs": [
    {
     "data": {
      "application/javascript": "alert('Hello from JavaScript!');\n",
      "text/plain": [
       "<IPython.core.display.Javascript object>"
      ]
     },
     "metadata": {},
     "output_type": "display_data"
    }
   ],
   "source": [
    "%%javascript\n",
    "alert('Hello from JavaScript!');\n"
   ]
  },
  {
   "cell_type": "code",
   "execution_count": 11,
   "metadata": {
    "vscode": {
     "languageId": "javascript"
    }
   },
   "outputs": [
    {
     "data": {
      "application/javascript": "\n// Log output to the browser console for debugging\nconsole.log(\"JavaScript/Jupyter Output Example\");\n\n// Display a message in the HTML page using the DOM\ndocument.getElementById(\"output\").textContent = \"Welcome to Jupyter with JavaScript!\";\n\n// Jupyter Only: output for development\nelement.append(\"This is a message from the Jupyter cell.\");\n\n// Optionally show an alert\nalert(\"This is an alert message!\");\n\n",
      "text/plain": [
       "<IPython.core.display.Javascript object>"
      ]
     },
     "metadata": {},
     "output_type": "display_data"
    }
   ],
   "source": [
    "%%js\n",
    "\n",
    "// Log output to the browser console for debugging\n",
    "console.log(\"JavaScript/Jupyter Output Example\");\n",
    "\n",
    "// Display a message in the HTML page using the DOM\n",
    "document.getElementById(\"output\").textContent = \"Welcome to Jupyter with JavaScript!\";\n",
    "\n",
    "// Jupyter Only: output for development\n",
    "element.append(\"This is a message from the Jupyter cell.\");\n",
    "\n",
    "// Optionally show an alert\n",
    "alert(\"This is an alert message!\");\n",
    "\n"
   ]
  }
 ],
 "metadata": {
  "kernelspec": {
   "display_name": "venv",
   "language": "python",
   "name": "python3"
  },
  "language_info": {
   "codemirror_mode": {
    "name": "ipython",
    "version": 3
   },
   "file_extension": ".py",
   "mimetype": "text/x-python",
   "name": "python",
   "nbconvert_exporter": "python",
   "pygments_lexer": "ipython3",
   "version": "3.12.3"
  }
 },
 "nbformat": 4,
 "nbformat_minor": 2
}
