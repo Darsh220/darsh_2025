{
 "cells": [
  {
   "cell_type": "markdown",
   "metadata": {},
   "source": [
    "---\n",
    "layout: post\n",
    "title: Playing With Jupyter Notebooks and Python\n",
    "description: Jupyter notebooks and Python \n",
    "courses: { csa: {week: 1} }\n",
    "comments: true\n",
    "sticky_rank: 1\n",
    "---"
   ]
  },
  {
   "cell_type": "code",
   "execution_count": 1,
   "metadata": {},
   "outputs": [
    {
     "name": "stdout",
     "output_type": "stream",
     "text": [
      "hello world\n"
     ]
    }
   ],
   "source": [
    "print(\"hello world\")"
   ]
  },
  {
   "cell_type": "code",
   "execution_count": 2,
   "metadata": {},
   "outputs": [
    {
     "name": "stdout",
     "output_type": "stream",
     "text": [
      "Collecting wikipedia\n",
      "  Downloading wikipedia-1.4.0.tar.gz (27 kB)\n",
      "  Installing build dependencies ... \u001b[?25ldone\n",
      "\u001b[?25h  Getting requirements to build wheel ... \u001b[?25ldone\n",
      "\u001b[?25h  Preparing metadata (pyproject.toml) ... \u001b[?25ldone\n",
      "\u001b[?25hCollecting beautifulsoup4 (from wikipedia)\n",
      "  Using cached beautifulsoup4-4.12.3-py3-none-any.whl.metadata (3.8 kB)\n",
      "Collecting requests<3.0.0,>=2.0.0 (from wikipedia)\n",
      "  Using cached requests-2.32.3-py3-none-any.whl.metadata (4.6 kB)\n",
      "Collecting charset-normalizer<4,>=2 (from requests<3.0.0,>=2.0.0->wikipedia)\n",
      "  Using cached charset_normalizer-3.3.2-cp312-cp312-manylinux_2_17_x86_64.manylinux2014_x86_64.whl.metadata (33 kB)\n",
      "Collecting idna<4,>=2.5 (from requests<3.0.0,>=2.0.0->wikipedia)\n",
      "  Using cached idna-3.8-py3-none-any.whl.metadata (9.9 kB)\n",
      "Collecting urllib3<3,>=1.21.1 (from requests<3.0.0,>=2.0.0->wikipedia)\n",
      "  Using cached urllib3-2.2.2-py3-none-any.whl.metadata (6.4 kB)\n",
      "Collecting certifi>=2017.4.17 (from requests<3.0.0,>=2.0.0->wikipedia)\n",
      "  Using cached certifi-2024.8.30-py3-none-any.whl.metadata (2.2 kB)\n",
      "Collecting soupsieve>1.2 (from beautifulsoup4->wikipedia)\n",
      "  Using cached soupsieve-2.6-py3-none-any.whl.metadata (4.6 kB)\n",
      "Using cached requests-2.32.3-py3-none-any.whl (64 kB)\n",
      "Using cached beautifulsoup4-4.12.3-py3-none-any.whl (147 kB)\n",
      "Using cached certifi-2024.8.30-py3-none-any.whl (167 kB)\n",
      "Using cached charset_normalizer-3.3.2-cp312-cp312-manylinux_2_17_x86_64.manylinux2014_x86_64.whl (141 kB)\n",
      "Using cached idna-3.8-py3-none-any.whl (66 kB)\n",
      "Using cached soupsieve-2.6-py3-none-any.whl (36 kB)\n",
      "Using cached urllib3-2.2.2-py3-none-any.whl (121 kB)\n",
      "Building wheels for collected packages: wikipedia\n",
      "  Building wheel for wikipedia (pyproject.toml) ... \u001b[?25ldone\n",
      "\u001b[?25h  Created wheel for wikipedia: filename=wikipedia-1.4.0-py3-none-any.whl size=11679 sha256=892d5f0c5facb89e197fdc135840bacc95b35a738aec308a7f8e3a4c4c747d29\n",
      "  Stored in directory: /home/darsh22/.cache/pip/wheels/63/47/7c/a9688349aa74d228ce0a9023229c6c0ac52ca2a40fe87679b8\n",
      "Successfully built wikipedia\n",
      "Installing collected packages: urllib3, soupsieve, idna, charset-normalizer, certifi, requests, beautifulsoup4, wikipedia\n",
      "Successfully installed beautifulsoup4-4.12.3 certifi-2024.8.30 charset-normalizer-3.3.2 idna-3.8 requests-2.32.3 soupsieve-2.6 urllib3-2.2.2 wikipedia-1.4.0\n"
     ]
    }
   ],
   "source": [
    "!pip install wikipedia"
   ]
  },
  {
   "cell_type": "code",
   "execution_count": 3,
   "metadata": {},
   "outputs": [
    {
     "name": "stdout",
     "output_type": "stream",
     "text": [
      "Welcome to Wikipedia!\n",
      "bonobo\n"
     ]
    },
    {
     "data": {
      "text/markdown": [
       "Paul David Hewson (born 10 May 1960), known by the nickname Bono ( BON-oh), is an Irish singer-songwriter and activist. He is the lead vocalist and primary lyricist of the rock band U2.\n",
       "Born and raised in Dublin, Ireland, he attended Mount Temple Comprehensive School where in 1976 he began dating his future wife, Alison Stewart, as well as forming, with schoolmates, the band that became U2.  Bono soon established himself as a passionate frontman for the band through his expressive vocal style and grandiose gestures and songwriting. His lyrics frequently include social and political themes, and religious imagery inspired by his Christian beliefs. During U2's early years, Bono's lyrics contributed to the group's rebellious and spiritual tone. As the band matured, his lyrics became inspired more by personal experiences shared with the other members. As a member of U2, Bono has received 22 Grammy Awards and has been inducted into the Rock and Roll Hall of Fame.\n",
       "Aside from his music, Bono is an activist for social justice causes, both through U2 and as an individual. He is particularly active in campaigning to fight extreme poverty and HIV/AIDS in Africa, for which he co-founded DATA, EDUN, the ONE Campaign, and Product Red. In pursuit of these causes, he has participated in benefit concerts and lobbied politicians and heads of state for relief. Bono has been honoured for his philanthropic efforts. In 2005, Bono was named one of the Time Persons of the Year. He was granted an honorary knighthood by Elizabeth II of the United Kingdom in 2007 for \"his services to the music industry and for his humanitarian work\", and was made a Commandeur of the French Ordre des Arts et des Lettres (Order of Arts and Letters) in 2013. Bono has also attracted criticism for bypassing African businesses in his activist efforts and for tax avoidance in his personal finances.\n",
       "Outside the band, he has recorded with numerous artists. He has collaborated with U2 bandmate the Edge on several projects, including: songs for Roy Orbison, Tina Turner, and Martin Garrix; and the soundtracks to the musical Spider-Man: Turn Off the Dark and a London stage adaptation of A Clockwork Orange. In business, he invested in the refurbishment of the Clarence Hotel in Dublin, and was managing director and a managing partner of the private equity firm Elevation Partners, which invested in several companies."
      ],
      "text/plain": [
       "<IPython.core.display.Markdown object>"
      ]
     },
     "metadata": {},
     "output_type": "display_data"
    },
    {
     "name": "stdout",
     "output_type": "stream",
     "text": [
      "bonobo\n"
     ]
    },
    {
     "data": {
      "text/markdown": [
       "Paul David Hewson (born 10 May 1960), known by the nickname Bono ( BON-oh), is an Irish singer-songwriter and activist. He is the lead vocalist and primary lyricist of the rock band U2.\n",
       "Born and raised in Dublin, Ireland, he attended Mount Temple Comprehensive School where in 1976 he began dating his future wife, Alison Stewart, as well as forming, with schoolmates, the band that became U2.  Bono soon established himself as a passionate frontman for the band through his expressive vocal style and grandiose gestures and songwriting. His lyrics frequently include social and political themes, and religious imagery inspired by his Christian beliefs. During U2's early years, Bono's lyrics contributed to the group's rebellious and spiritual tone. As the band matured, his lyrics became inspired more by personal experiences shared with the other members. As a member of U2, Bono has received 22 Grammy Awards and has been inducted into the Rock and Roll Hall of Fame.\n",
       "Aside from his music, Bono is an activist for social justice causes, both through U2 and as an individual. He is particularly active in campaigning to fight extreme poverty and HIV/AIDS in Africa, for which he co-founded DATA, EDUN, the ONE Campaign, and Product Red. In pursuit of these causes, he has participated in benefit concerts and lobbied politicians and heads of state for relief. Bono has been honoured for his philanthropic efforts. In 2005, Bono was named one of the Time Persons of the Year. He was granted an honorary knighthood by Elizabeth II of the United Kingdom in 2007 for \"his services to the music industry and for his humanitarian work\", and was made a Commandeur of the French Ordre des Arts et des Lettres (Order of Arts and Letters) in 2013. Bono has also attracted criticism for bypassing African businesses in his activist efforts and for tax avoidance in his personal finances.\n",
       "Outside the band, he has recorded with numerous artists. He has collaborated with U2 bandmate the Edge on several projects, including: songs for Roy Orbison, Tina Turner, and Martin Garrix; and the soundtracks to the musical Spider-Man: Turn Off the Dark and a London stage adaptation of A Clockwork Orange. In business, he invested in the refurbishment of the Clarence Hotel in Dublin, and was managing director and a managing partner of the private equity firm Elevation Partners, which invested in several companies."
      ],
      "text/plain": [
       "<IPython.core.display.Markdown object>"
      ]
     },
     "metadata": {},
     "output_type": "display_data"
    },
    {
     "name": "stdout",
     "output_type": "stream",
     "text": [
      "parakeet\n"
     ]
    },
    {
     "data": {
      "text/markdown": [
       "A parakeet is any one of many small- to medium-sized species of parrot, in multiple genera, that generally has long tail feathers."
      ],
      "text/plain": [
       "<IPython.core.display.Markdown object>"
      ]
     },
     "metadata": {},
     "output_type": "display_data"
    },
    {
     "name": "stdout",
     "output_type": "stream",
     "text": [
      "parakeet\n"
     ]
    },
    {
     "data": {
      "text/markdown": [
       "A parakeet is any one of many small- to medium-sized species of parrot, in multiple genera, that generally has long tail feathers."
      ],
      "text/plain": [
       "<IPython.core.display.Markdown object>"
      ]
     },
     "metadata": {},
     "output_type": "display_data"
    },
    {
     "name": "stdout",
     "output_type": "stream",
     "text": [
      "chimpanzee\n"
     ]
    },
    {
     "data": {
      "text/markdown": [
       "The chimpanzee (; Pan troglodytes), also simply known as the chimp, is a species of great ape native to the forests and savannahs of tropical Africa. It has four confirmed subspecies and a fifth proposed one. When its close relative the bonobo was more commonly known as the pygmy chimpanzee, this species was often called the common chimpanzee or the robust chimpanzee. The chimpanzee and the bonobo are the only species in the genus Pan. Evidence from fossils and DNA sequencing shows that Pan is a sister taxon to the human lineage and is thus humans' closest living relative. The chimpanzee is covered in coarse black hair, but has a bare face, fingers, toes, palms of the hands, and soles of the feet. It is larger and more robust than the bonobo, weighing 40–70 kg (88–154 lb) for males and 27–50 kg (60–110 lb) for females and standing 150 cm (4 ft 11 in).\n",
       "The chimpanzee lives in groups that range in size from 15 to 150 members, although individuals travel and forage in much smaller groups during the day. The species lives in a strict male-dominated hierarchy, where disputes are generally settled without the need for violence. Nearly all chimpanzee populations have been recorded using tools, modifying sticks, rocks, grass and leaves and using them for hunting and acquiring honey, termites, ants, nuts and water. The species has also been found creating sharpened sticks to spear small mammals. Its gestation period is eight months. The infant is weaned at about three years old but usually maintains a close relationship with its mother for several years more.\n",
       "The chimpanzee is listed on the IUCN Red List as an endangered species. Between 170,000 and 300,000 individuals are estimated across its range. The biggest threats to the chimpanzee are habitat loss, poaching, and disease. Chimpanzees appear in Western popular culture as stereotyped clown-figures and have featured in entertainments such as chimpanzees' tea parties, circus acts and stage shows. Although many chimpanzees have been kept as pets, their strength, aggression, and unpredictability makes them dangerous in this role. Some hundreds have been kept in laboratories for research, especially in the United States. Many attempts have been made to teach languages such as American Sign Language to chimpanzees, with limited success."
      ],
      "text/plain": [
       "<IPython.core.display.Markdown object>"
      ]
     },
     "metadata": {},
     "output_type": "display_data"
    },
    {
     "name": "stdout",
     "output_type": "stream",
     "text": [
      "chimpanzee\n"
     ]
    },
    {
     "data": {
      "text/markdown": [
       "The chimpanzee (; Pan troglodytes), also simply known as the chimp, is a species of great ape native to the forests and savannahs of tropical Africa. It has four confirmed subspecies and a fifth proposed one. When its close relative the bonobo was more commonly known as the pygmy chimpanzee, this species was often called the common chimpanzee or the robust chimpanzee. The chimpanzee and the bonobo are the only species in the genus Pan. Evidence from fossils and DNA sequencing shows that Pan is a sister taxon to the human lineage and is thus humans' closest living relative. The chimpanzee is covered in coarse black hair, but has a bare face, fingers, toes, palms of the hands, and soles of the feet. It is larger and more robust than the bonobo, weighing 40–70 kg (88–154 lb) for males and 27–50 kg (60–110 lb) for females and standing 150 cm (4 ft 11 in).\n",
       "The chimpanzee lives in groups that range in size from 15 to 150 members, although individuals travel and forage in much smaller groups during the day. The species lives in a strict male-dominated hierarchy, where disputes are generally settled without the need for violence. Nearly all chimpanzee populations have been recorded using tools, modifying sticks, rocks, grass and leaves and using them for hunting and acquiring honey, termites, ants, nuts and water. The species has also been found creating sharpened sticks to spear small mammals. Its gestation period is eight months. The infant is weaned at about three years old but usually maintains a close relationship with its mother for several years more.\n",
       "The chimpanzee is listed on the IUCN Red List as an endangered species. Between 170,000 and 300,000 individuals are estimated across its range. The biggest threats to the chimpanzee are habitat loss, poaching, and disease. Chimpanzees appear in Western popular culture as stereotyped clown-figures and have featured in entertainments such as chimpanzees' tea parties, circus acts and stage shows. Although many chimpanzees have been kept as pets, their strength, aggression, and unpredictability makes them dangerous in this role. Some hundreds have been kept in laboratories for research, especially in the United States. Many attempts have been made to teach languages such as American Sign Language to chimpanzees, with limited success."
      ],
      "text/plain": [
       "<IPython.core.display.Markdown object>"
      ]
     },
     "metadata": {},
     "output_type": "display_data"
    },
    {
     "name": "stdout",
     "output_type": "stream",
     "text": [
      "Here is your search history: ['bonobo', 'bonobo', 'parakeet', 'parakeet', 'chimpanzee', 'chimpanzee']\n",
      "Search history cleared!\n",
      "[]\n",
      "Thank you for visiting Wikipedia! Come back soon!\n"
     ]
    }
   ],
   "source": [
    "import wikipedia\n",
    "from IPython.display import display, Markdown\n",
    "\n",
    "print(\"Welcome to Wikipedia!\")\n",
    "search_history = []\n",
    "condition = True\n",
    "while condition:\n",
    "    search_input = input(\"Enter a search or type 'quit' to exit: \")\n",
    "    if search_input != \"quit\":\n",
    "            result = wikipedia.search(search_input)\n",
    "            # Get the summary of the first result\n",
    "            summary = wikipedia.summary(result[0])\n",
    "            print(search_input)\n",
    "            search_history.append(search_input)\n",
    "            # print(summary) # console display\n",
    "            display(Markdown(summary)) # Jupyter display\n",
    "    else:\n",
    "        condition = False\n",
    "        print(f\"Here is your search history: {search_history}\")\n",
    "        choice = input(\"Would you like to clear your search history? [y/n]\")\n",
    "        if choice == \"y\":\n",
    "            search_history.clear()\n",
    "            print(\"Search history cleared!\")\n",
    "            print(search_history)\n",
    "        elif choice == \"n\":\n",
    "            print(\"Ok, no problem.\")\n",
    "        else:\n",
    "            print(\"Invalid choice entered.\")\n",
    "        print(\"Thank you for visiting Wikipedia! Come back soon!\")"
   ]
  },
  {
   "cell_type": "code",
   "execution_count": 4,
   "metadata": {},
   "outputs": [
    {
     "name": "stdout",
     "output_type": "stream",
     "text": [
      "Collecting newspaper3k\n",
      "  Downloading newspaper3k-0.2.8-py3-none-any.whl.metadata (11 kB)\n",
      "Requirement already satisfied: beautifulsoup4>=4.4.1 in /home/darsh22/nighthawk/darsh_2025/venv/lib/python3.12/site-packages (from newspaper3k) (4.12.3)\n",
      "Collecting Pillow>=3.3.0 (from newspaper3k)\n",
      "  Downloading pillow-10.4.0-cp312-cp312-manylinux_2_28_x86_64.whl.metadata (9.2 kB)\n",
      "Collecting PyYAML>=3.11 (from newspaper3k)\n",
      "  Using cached PyYAML-6.0.2-cp312-cp312-manylinux_2_17_x86_64.manylinux2014_x86_64.whl.metadata (2.1 kB)\n",
      "Collecting cssselect>=0.9.2 (from newspaper3k)\n",
      "  Downloading cssselect-1.2.0-py2.py3-none-any.whl.metadata (2.2 kB)\n",
      "Collecting lxml>=3.6.0 (from newspaper3k)\n",
      "  Downloading lxml-5.3.0-cp312-cp312-manylinux_2_28_x86_64.whl.metadata (3.8 kB)\n",
      "Collecting nltk>=3.2.1 (from newspaper3k)\n",
      "  Downloading nltk-3.9.1-py3-none-any.whl.metadata (2.9 kB)\n",
      "Requirement already satisfied: requests>=2.10.0 in /home/darsh22/nighthawk/darsh_2025/venv/lib/python3.12/site-packages (from newspaper3k) (2.32.3)\n",
      "Collecting feedparser>=5.2.1 (from newspaper3k)\n",
      "  Downloading feedparser-6.0.11-py3-none-any.whl.metadata (2.4 kB)\n",
      "Collecting tldextract>=2.0.1 (from newspaper3k)\n",
      "  Downloading tldextract-5.1.2-py3-none-any.whl.metadata (11 kB)\n",
      "Collecting feedfinder2>=0.0.4 (from newspaper3k)\n",
      "  Downloading feedfinder2-0.0.4.tar.gz (3.3 kB)\n",
      "  Installing build dependencies ... \u001b[?25ldone\n",
      "\u001b[?25h  Getting requirements to build wheel ... \u001b[?25ldone\n",
      "\u001b[?25h  Preparing metadata (pyproject.toml) ... \u001b[?25ldone\n",
      "\u001b[?25hCollecting jieba3k>=0.35.1 (from newspaper3k)\n",
      "  Downloading jieba3k-0.35.1.zip (7.4 MB)\n",
      "\u001b[2K     \u001b[90m━━━━━━━━━━━━━━━━━━━━━━━━━━━━━━━━━━━━━━━━\u001b[0m \u001b[32m7.4/7.4 MB\u001b[0m \u001b[31m13.1 MB/s\u001b[0m eta \u001b[36m0:00:00\u001b[0m00:01\u001b[0m00:01\u001b[0m\n",
      "\u001b[?25h  Installing build dependencies ... \u001b[?25ldone\n",
      "\u001b[?25h  Getting requirements to build wheel ... \u001b[?25ldone\n",
      "\u001b[?25h  Preparing metadata (pyproject.toml) ... \u001b[?25ldone\n",
      "\u001b[?25hRequirement already satisfied: python-dateutil>=2.5.3 in /home/darsh22/nighthawk/darsh_2025/venv/lib/python3.12/site-packages (from newspaper3k) (2.9.0.post0)\n",
      "Collecting tinysegmenter==0.3 (from newspaper3k)\n",
      "  Downloading tinysegmenter-0.3.tar.gz (16 kB)\n",
      "  Installing build dependencies ... \u001b[?25ldone\n",
      "\u001b[?25h  Getting requirements to build wheel ... \u001b[?25ldone\n",
      "\u001b[?25h  Preparing metadata (pyproject.toml) ... \u001b[?25ldone\n",
      "\u001b[?25hRequirement already satisfied: soupsieve>1.2 in /home/darsh22/nighthawk/darsh_2025/venv/lib/python3.12/site-packages (from beautifulsoup4>=4.4.1->newspaper3k) (2.6)\n",
      "Requirement already satisfied: six in /home/darsh22/nighthawk/darsh_2025/venv/lib/python3.12/site-packages (from feedfinder2>=0.0.4->newspaper3k) (1.16.0)\n",
      "Collecting sgmllib3k (from feedparser>=5.2.1->newspaper3k)\n",
      "  Downloading sgmllib3k-1.0.0.tar.gz (5.8 kB)\n",
      "  Installing build dependencies ... \u001b[?25ldone\n",
      "\u001b[?25h  Getting requirements to build wheel ... \u001b[?25ldone\n",
      "\u001b[?25h  Preparing metadata (pyproject.toml) ... \u001b[?25ldone\n",
      "\u001b[?25hCollecting click (from nltk>=3.2.1->newspaper3k)\n",
      "  Downloading click-8.1.7-py3-none-any.whl.metadata (3.0 kB)\n",
      "Collecting joblib (from nltk>=3.2.1->newspaper3k)\n",
      "  Downloading joblib-1.4.2-py3-none-any.whl.metadata (5.4 kB)\n",
      "Collecting regex>=2021.8.3 (from nltk>=3.2.1->newspaper3k)\n",
      "  Downloading regex-2024.7.24-cp312-cp312-manylinux_2_17_x86_64.manylinux2014_x86_64.whl.metadata (40 kB)\n",
      "\u001b[2K     \u001b[90m━━━━━━━━━━━━━━━━━━━━━━━━━━━━━━━━━━━━━━━━\u001b[0m \u001b[32m40.5/40.5 kB\u001b[0m \u001b[31m1.3 MB/s\u001b[0m eta \u001b[36m0:00:00\u001b[0m\n",
      "\u001b[?25hCollecting tqdm (from nltk>=3.2.1->newspaper3k)\n",
      "  Downloading tqdm-4.66.5-py3-none-any.whl.metadata (57 kB)\n",
      "\u001b[2K     \u001b[90m━━━━━━━━━━━━━━━━━━━━━━━━━━━━━━━━━━━━━━━━\u001b[0m \u001b[32m57.6/57.6 kB\u001b[0m \u001b[31m1.1 MB/s\u001b[0m eta \u001b[36m0:00:00\u001b[0mta \u001b[36m0:00:01\u001b[0m\n",
      "\u001b[?25hRequirement already satisfied: charset-normalizer<4,>=2 in /home/darsh22/nighthawk/darsh_2025/venv/lib/python3.12/site-packages (from requests>=2.10.0->newspaper3k) (3.3.2)\n",
      "Requirement already satisfied: idna<4,>=2.5 in /home/darsh22/nighthawk/darsh_2025/venv/lib/python3.12/site-packages (from requests>=2.10.0->newspaper3k) (3.8)\n",
      "Requirement already satisfied: urllib3<3,>=1.21.1 in /home/darsh22/nighthawk/darsh_2025/venv/lib/python3.12/site-packages (from requests>=2.10.0->newspaper3k) (2.2.2)\n",
      "Requirement already satisfied: certifi>=2017.4.17 in /home/darsh22/nighthawk/darsh_2025/venv/lib/python3.12/site-packages (from requests>=2.10.0->newspaper3k) (2024.8.30)\n",
      "Collecting requests-file>=1.4 (from tldextract>=2.0.1->newspaper3k)\n",
      "  Downloading requests_file-2.1.0-py2.py3-none-any.whl.metadata (1.7 kB)\n",
      "Collecting filelock>=3.0.8 (from tldextract>=2.0.1->newspaper3k)\n",
      "  Downloading filelock-3.16.0-py3-none-any.whl.metadata (3.0 kB)\n",
      "Downloading newspaper3k-0.2.8-py3-none-any.whl (211 kB)\n",
      "\u001b[2K   \u001b[90m━━━━━━━━━━━━━━━━━━━━━━━━━━━━━━━━━━━━━━━━\u001b[0m \u001b[32m211.1/211.1 kB\u001b[0m \u001b[31m8.7 MB/s\u001b[0m eta \u001b[36m0:00:00\u001b[0m\n",
      "\u001b[?25hDownloading cssselect-1.2.0-py2.py3-none-any.whl (18 kB)\n",
      "Downloading feedparser-6.0.11-py3-none-any.whl (81 kB)\n",
      "\u001b[2K   \u001b[90m━━━━━━━━━━━━━━━━━━━━━━━━━━━━━━━━━━━━━━━━\u001b[0m \u001b[32m81.3/81.3 kB\u001b[0m \u001b[31m2.9 MB/s\u001b[0m eta \u001b[36m0:00:00\u001b[0m\n",
      "\u001b[?25hDownloading lxml-5.3.0-cp312-cp312-manylinux_2_28_x86_64.whl (4.9 MB)\n",
      "\u001b[2K   \u001b[90m━━━━━━━━━━━━━━━━━━━━━━━━━━━━━━━━━━━━━━━━\u001b[0m \u001b[32m4.9/4.9 MB\u001b[0m \u001b[31m11.6 MB/s\u001b[0m eta \u001b[36m0:00:00\u001b[0m00:01\u001b[0m00:01\u001b[0m\n",
      "\u001b[?25hDownloading nltk-3.9.1-py3-none-any.whl (1.5 MB)\n",
      "\u001b[2K   \u001b[90m━━━━━━━━━━━━━━━━━━━━━━━━━━━━━━━━━━━━━━━━\u001b[0m \u001b[32m1.5/1.5 MB\u001b[0m \u001b[31m10.7 MB/s\u001b[0m eta \u001b[36m0:00:00\u001b[0m00:01\u001b[0m00:01\u001b[0m\n",
      "\u001b[?25hDownloading pillow-10.4.0-cp312-cp312-manylinux_2_28_x86_64.whl (4.5 MB)\n",
      "\u001b[2K   \u001b[90m━━━━━━━━━━━━━━━━━━━━━━━━━━━━━━━━━━━━━━━━\u001b[0m \u001b[32m4.5/4.5 MB\u001b[0m \u001b[31m13.4 MB/s\u001b[0m eta \u001b[36m0:00:00\u001b[0m00:01\u001b[0m00:01\u001b[0m\n",
      "\u001b[?25hUsing cached PyYAML-6.0.2-cp312-cp312-manylinux_2_17_x86_64.manylinux2014_x86_64.whl (767 kB)\n",
      "Downloading tldextract-5.1.2-py3-none-any.whl (97 kB)\n",
      "\u001b[2K   \u001b[90m━━━━━━━━━━━━━━━━━━━━━━━━━━━━━━━━━━━━━━━━\u001b[0m \u001b[32m97.6/97.6 kB\u001b[0m \u001b[31m6.3 MB/s\u001b[0m eta \u001b[36m0:00:00\u001b[0m\n",
      "\u001b[?25hDownloading filelock-3.16.0-py3-none-any.whl (16 kB)\n",
      "Downloading regex-2024.7.24-cp312-cp312-manylinux_2_17_x86_64.manylinux2014_x86_64.whl (790 kB)\n",
      "\u001b[2K   \u001b[90m━━━━━━━━━━━━━━━━━━━━━━━━━━━━━━━━━━━━━━━━\u001b[0m \u001b[32m790.9/790.9 kB\u001b[0m \u001b[31m14.4 MB/s\u001b[0m eta \u001b[36m0:00:00\u001b[0m00:01\u001b[0m\n",
      "\u001b[?25hDownloading requests_file-2.1.0-py2.py3-none-any.whl (4.2 kB)\n",
      "Downloading click-8.1.7-py3-none-any.whl (97 kB)\n",
      "\u001b[2K   \u001b[90m━━━━━━━━━━━━━━━━━━━━━━━━━━━━━━━━━━━━━━━━\u001b[0m \u001b[32m97.9/97.9 kB\u001b[0m \u001b[31m6.8 MB/s\u001b[0m eta \u001b[36m0:00:00\u001b[0m\n",
      "\u001b[?25hDownloading joblib-1.4.2-py3-none-any.whl (301 kB)\n",
      "\u001b[2K   \u001b[90m━━━━━━━━━━━━━━━━━━━━━━━━━━━━━━━━━━━━━━━━\u001b[0m \u001b[32m301.8/301.8 kB\u001b[0m \u001b[31m9.5 MB/s\u001b[0m eta \u001b[36m0:00:00\u001b[0m\n",
      "\u001b[?25hDownloading tqdm-4.66.5-py3-none-any.whl (78 kB)\n",
      "\u001b[2K   \u001b[90m━━━━━━━━━━━━━━━━━━━━━━━━━━━━━━━━━━━━━━━━\u001b[0m \u001b[32m78.4/78.4 kB\u001b[0m \u001b[31m3.3 MB/s\u001b[0m eta \u001b[36m0:00:00\u001b[0m\n",
      "\u001b[?25hBuilding wheels for collected packages: tinysegmenter, feedfinder2, jieba3k, sgmllib3k\n",
      "  Building wheel for tinysegmenter (pyproject.toml) ... \u001b[?25ldone\n",
      "\u001b[?25h  Created wheel for tinysegmenter: filename=tinysegmenter-0.3-py3-none-any.whl size=13540 sha256=ed9c93d6eb18b9da76fd0b717be9087220b6bccffe7f4921fb17b135149fddaa\n",
      "  Stored in directory: /home/darsh22/.cache/pip/wheels/a5/91/9f/00d66475960891a64867914273fcaf78df6cb04d905b104a2a\n",
      "  Building wheel for feedfinder2 (pyproject.toml) ... \u001b[?25ldone\n",
      "\u001b[?25h  Created wheel for feedfinder2: filename=feedfinder2-0.0.4-py3-none-any.whl size=3343 sha256=a6e37794fa57905a5ef87d7a3e75750c6548aaddcbb457d1534a9b822901554d\n",
      "  Stored in directory: /home/darsh22/.cache/pip/wheels/9f/9f/fb/364871d7426d3cdd4d293dcf7e53d97f160c508b2ccf00cc79\n",
      "  Building wheel for jieba3k (pyproject.toml) ... \u001b[?25ldone\n",
      "\u001b[?25h  Created wheel for jieba3k: filename=jieba3k-0.35.1-py3-none-any.whl size=7398380 sha256=0443d7d44d1aeceb00d9ff81d34412736de01f05aabe75f116f6438cdec78d29\n",
      "  Stored in directory: /home/darsh22/.cache/pip/wheels/26/72/f7/fff392a8d4ea988dea4ccf9788599d09462a7f5e51e04f8a92\n",
      "  Building wheel for sgmllib3k (pyproject.toml) ... \u001b[?25ldone\n",
      "\u001b[?25h  Created wheel for sgmllib3k: filename=sgmllib3k-1.0.0-py3-none-any.whl size=6048 sha256=099f313be4f84899ca88c310dbe48161949e1f85a8b65ebf1d1f98351a5be794\n",
      "  Stored in directory: /home/darsh22/.cache/pip/wheels/03/f5/1a/23761066dac1d0e8e683e5fdb27e12de53209d05a4a37e6246\n",
      "Successfully built tinysegmenter feedfinder2 jieba3k sgmllib3k\n",
      "Installing collected packages: tinysegmenter, sgmllib3k, jieba3k, tqdm, regex, PyYAML, Pillow, lxml, joblib, filelock, feedparser, cssselect, click, requests-file, nltk, feedfinder2, tldextract, newspaper3k\n",
      "Successfully installed Pillow-10.4.0 PyYAML-6.0.2 click-8.1.7 cssselect-1.2.0 feedfinder2-0.0.4 feedparser-6.0.11 filelock-3.16.0 jieba3k-0.35.1 joblib-1.4.2 lxml-5.3.0 newspaper3k-0.2.8 nltk-3.9.1 regex-2024.7.24 requests-file-2.1.0 sgmllib3k-1.0.0 tinysegmenter-0.3 tldextract-5.1.2 tqdm-4.66.5\n"
     ]
    }
   ],
   "source": [
    "!pip install newspaper3k"
   ]
  },
  {
   "cell_type": "code",
   "execution_count": 11,
   "metadata": {},
   "outputs": [
    {
     "name": "stdout",
     "output_type": "stream",
     "text": [
      "Collecting newspaper\n",
      "  Using cached newspaper-0.1.0.7.tar.gz (176 kB)\n",
      "  Installing build dependencies ... \u001b[?25ldone\n",
      "\u001b[?25h  Getting requirements to build wheel ... \u001b[?25lerror\n",
      "  \u001b[1;31merror\u001b[0m: \u001b[1msubprocess-exited-with-error\u001b[0m\n",
      "  \n",
      "  \u001b[31m×\u001b[0m \u001b[32mGetting requirements to build wheel\u001b[0m did not run successfully.\n",
      "  \u001b[31m│\u001b[0m exit code: \u001b[1;36m1\u001b[0m\n",
      "  \u001b[31m╰─>\u001b[0m \u001b[31m[1 lines of output]\u001b[0m\n",
      "  \u001b[31m   \u001b[0m \u001b[31;1mWARNING! You are attempting to install newspaper's python2 repository on python3. PLEASE RUN `$ pip3 install newspaper3k` for python3 or `$ pip install newspaper` for python2\u001b[0m\n",
      "  \u001b[31m   \u001b[0m \u001b[31m[end of output]\u001b[0m\n",
      "  \n",
      "  \u001b[1;35mnote\u001b[0m: This error originates from a subprocess, and is likely not a problem with pip.\n",
      "\u001b[?25h\u001b[1;31merror\u001b[0m: \u001b[1msubprocess-exited-with-error\u001b[0m\n",
      "\n",
      "\u001b[31m×\u001b[0m \u001b[32mGetting requirements to build wheel\u001b[0m did not run successfully.\n",
      "\u001b[31m│\u001b[0m exit code: \u001b[1;36m1\u001b[0m\n",
      "\u001b[31m╰─>\u001b[0m See above for output.\n",
      "\n",
      "\u001b[1;35mnote\u001b[0m: This error originates from a subprocess, and is likely not a problem with pip.\n"
     ]
    }
   ],
   "source": [
    "!pip install newspaper"
   ]
  },
  {
   "cell_type": "code",
   "execution_count": 14,
   "metadata": {},
   "outputs": [
    {
     "name": "stdout",
     "output_type": "stream",
     "text": [
      "Requirement already satisfied: emoji in /home/darsh22/nighthawk/darsh_2025/venv/lib/python3.12/site-packages (2.12.1)\n",
      "Requirement already satisfied: typing-extensions>=4.7.0 in /home/darsh22/nighthawk/darsh_2025/venv/lib/python3.12/site-packages (from emoji) (4.12.2)\n"
     ]
    }
   ],
   "source": [
    "!pip install emoji"
   ]
  },
  {
   "cell_type": "code",
   "execution_count": 15,
   "metadata": {},
   "outputs": [
    {
     "name": "stdout",
     "output_type": "stream",
     "text": [
      "Collecting newspaper\n",
      "  Using cached newspaper-0.1.0.7.tar.gz (176 kB)\n",
      "  Installing build dependencies ... \u001b[?25ldone\n",
      "\u001b[?25h  Getting requirements to build wheel ... \u001b[?25lerror\n",
      "  \u001b[1;31merror\u001b[0m: \u001b[1msubprocess-exited-with-error\u001b[0m\n",
      "  \n",
      "  \u001b[31m×\u001b[0m \u001b[32mGetting requirements to build wheel\u001b[0m did not run successfully.\n",
      "  \u001b[31m│\u001b[0m exit code: \u001b[1;36m1\u001b[0m\n",
      "  \u001b[31m╰─>\u001b[0m \u001b[31m[1 lines of output]\u001b[0m\n",
      "  \u001b[31m   \u001b[0m \u001b[31;1mWARNING! You are attempting to install newspaper's python2 repository on python3. PLEASE RUN `$ pip3 install newspaper3k` for python3 or `$ pip install newspaper` for python2\u001b[0m\n",
      "  \u001b[31m   \u001b[0m \u001b[31m[end of output]\u001b[0m\n",
      "  \n",
      "  \u001b[1;35mnote\u001b[0m: This error originates from a subprocess, and is likely not a problem with pip.\n",
      "\u001b[?25h\u001b[1;31merror\u001b[0m: \u001b[1msubprocess-exited-with-error\u001b[0m\n",
      "\n",
      "\u001b[31m×\u001b[0m \u001b[32mGetting requirements to build wheel\u001b[0m did not run successfully.\n",
      "\u001b[31m│\u001b[0m exit code: \u001b[1;36m1\u001b[0m\n",
      "\u001b[31m╰─>\u001b[0m See above for output.\n",
      "\n",
      "\u001b[1;35mnote\u001b[0m: This error originates from a subprocess, and is likely not a problem with pip.\n"
     ]
    }
   ],
   "source": [
    "!pip install newspaper"
   ]
  },
  {
   "cell_type": "code",
   "execution_count": 12,
   "metadata": {},
   "outputs": [
    {
     "name": "stdout",
     "output_type": "stream",
     "text": [
      "Requirement already satisfied: lxml in /home/darsh22/nighthawk/darsh_2025/venv/lib/python3.12/site-packages (5.3.0)\n",
      "Requirement already satisfied: lxml_html_clean in /home/darsh22/nighthawk/darsh_2025/venv/lib/python3.12/site-packages (0.2.2)\n",
      "Note: you may need to restart the kernel to use updated packages.\n"
     ]
    }
   ],
   "source": [
    "pip install lxml lxml_html_clean\n"
   ]
  },
  {
   "cell_type": "code",
   "execution_count": 13,
   "metadata": {},
   "outputs": [
    {
     "name": "stdout",
     "output_type": "stream",
     "text": [
      "Requirement already satisfied: lxml[html_clean] in /home/darsh22/nighthawk/darsh_2025/venv/lib/python3.12/site-packages (5.3.0)\n",
      "Requirement already satisfied: lxml-html-clean in /home/darsh22/nighthawk/darsh_2025/venv/lib/python3.12/site-packages (from lxml[html_clean]) (0.2.2)\n"
     ]
    }
   ],
   "source": [
    "!pip install lxml[html_clean]"
   ]
  },
  {
   "cell_type": "code",
   "execution_count": 17,
   "metadata": {},
   "outputs": [
    {
     "name": "stdout",
     "output_type": "stream",
     "text": [
      "A quick-moving blaze in Southern California exploded this weekend, consuming more than 17,000 acres as of early Sunday and forcing evacuations amid a searing heat wave in the region. The Line Fire in San Bernardino County, which ignited late last week, quadrupled in size as the weekend began, scorching thousands of acres on Saturday alone. The flames raced up steep terrain, chewing through thick vegetation as they approached Running Springs, a mountain community of about 5,000 people that lies between the populated resort areas of Lake Arrowhead and Big Bear Lake. The community has been ordered to evacuate, while Lake Arrowhead and areas to its west are under an evacuation warning.\n",
      "\n",
      "Meanwhile, in Nevada, strong, dry winds helped propel the Davis Fire 🔽 of Reno over 5,000 acres, sparking a state of emergency declaration. Roughly 20,000 people have been evacuated ahead of the flames, according to the declaration from Nevada Gov. Joe Lombardo (R).\n",
      "\n",
      "The Line Fire in San Bernadino County quadrupled in size over the weekend of Sept. 7, scorching more than 17,000 acres and forcing evacuations. (Video: The Washington Post)\n",
      "\n",
      "Evacuation orders are also in effect on the 🔽 side of the 🔥, where structures could be affected in the city of Highland, which lies at the base of the mountains in San Bernardino County. Three 🔥fighters have been injured battling the blaze as of Sunday afternoon, according to a Cal Fire incident update. “Hot and dry conditions mixed with thunderstorms are expected to challenge 🔥fighters for the next few days,” the update stated.\n",
      "\n",
      "Advertisement\n",
      "\n",
      "Gov. Gavin Newsom (D) proclaimed a state of emergency in the county to secure federal assistance to respond to the 🔥, which in all threatens more than 35,000 homes, as well as critical infrastructure.\n",
      "\n",
      "The 🔥 has “room to grow now in essentially three directions and there are population centers and pretty dense, dry vegetation in between those population centers,” UCLA climate scientist Daniel Swain said in a Saturday briefing.\n",
      "\n",
      "The 🔥 initially sparked Thursday and had burned about 3,800 acres by Saturday morning, before ballooning thousands of acres through the afternoon. The blaze was so intense that it also formed a towering pyrocumulonimbus cloud — a 🔥-generated thunderstorm — that was sending out its own lightning, erratic winds and brief rain.\n",
      "\n",
      "Pyrocumulus clouds may form on top of very hot 🔥s, like today for the Line Fire near Highland, CA. These can create very dangerous conditions for 🔥 fighters! As of 630PM, we recorded over 3700 lightning strikes inside the clouds, with over 280 ground strikes! #cawx @NWS https://t.co/EorjHIhRBw — NWS San Diego (@NWSSanDiego) September 8, 2024\n",
      "\n",
      "The 🔥 is spreading amid a scorching heat wave in Southern California that has rivaled one seen in September 2020, with temperatures approaching or tying all-time records, exceeding 105 and even 110 degrees in many locations.\n",
      "\n",
      "Advertisement\n",
      "\n",
      "Vegetation in the area is “critically dry,” according to the San Bernardino National Forest.\n",
      "\n",
      "“The San Bernardino front country … has everything you need for a 🔥 to get big,” retired Cal Fire assistant chief Tim Chavez said in an interview posted online by the Lookout, a wild🔥 reporting website.\n",
      "\n",
      "Along with this week’s heat, Chavez said, that includes heavy fuels that in most places haven’t burned since the 1990s — and “steep, steep terrain leading up to the mountain communities.”\n",
      "\n",
      "“Fuels that are stressed like that — they tend to surprise you,” he said.\n",
      "\n",
      "Temperatures at the base of the 🔥 have been running about 105-110 degrees each day this weekend, Alex Tardy, a meteorologist with the National Weather Service in San Diego, said in an email.\n",
      "\n",
      "He compared the blaze to the El Dorado Fire which sparked during the September 2020 heat wave, burning almost 23,000 acres in San Bernardino and Riverside counties.\n",
      "\n",
      "Advertisement\n",
      "\n",
      "“These 🔥s are occurring in light winds, but this one is a little more complicated because it had thunderstorms over it yesterday and likely today as well,” he said.\n",
      "\n",
      "Stormy skies cloud parts of the region, as monsoon thunderstorms in the area on Saturday also helped to intensify the 🔥. Officials are expecting Sunday to be another day of 🔥 growth and erratic 🔥 behavior.\n",
      "\n",
      "“Unfortunately, the weather conditions over the next few days are not going to be favorable,” Swain said in the Saturday briefing. “It’s going to be very hot and relatively unstable over the next few days with some increasing winds next week.”\n",
      "\n",
      "Cooler weather is expected to move in by midweek, but that transition could come with strong winds.\n",
      "\n",
      "Meanwhile, the wind-driven Davis Fire 🔽 of Reno, Nev., has burned at least 3,300 acres since sparking Saturday, destroying at least six structures. It was spreading quickly again on Sunday, forcing new evacuations. And amid hot and dry conditions across California, other 🔥s have sparked, including the fast-growing Boyles Fire northwest of Sacramento that’s burning through heavy brush in Lake County, triggering mandatory evacuations.\n",
      "\n",
      "Advertisement\n",
      "\n",
      "Strong, dry winds of 30 to 40 mph are expected Sunday as a weather disturbance passes through the region. The conditions are a major 🔥 weather risk for the Sierra Front, according to the National Weather Service at Reno, and a red-flag warning is in effect for western Nevada into eastern California from 11 a.m. until 8 p.m. Sunday, given the potential for fast-spreading blazes.\n"
     ]
    }
   ],
   "source": [
    "import newspaper\n",
    "from newspaper import Article\n",
    "import emoji\n",
    "\n",
    "# URL of the article you want to extract\n",
    "url = 'https://www.washingtonpost.com/weather/2024/09/08/california-line-fire-evacuations-san-bernardino/?itid=hp-top-table-main_p001_f006'\n",
    "\n",
    "# Extract the article\n",
    "article = Article(url)\n",
    "article.download()\n",
    "article.parse()\n",
    "\n",
    "# Display article text\n",
    "# print(article.text)\n",
    "def add_emojis(text):\n",
    "    # Mapping of keywords to emojis\n",
    "    emoji_map = {\n",
    "        'happy': '😊',\n",
    "        'love': '❤️',\n",
    "        'money': '💰',\n",
    "        'fire': '🔥',\n",
    "        'good': '👍',\n",
    "        'bad': '👎',\n",
    "        'south': '🔽'\n",
    "    }\n",
    "\n",
    "    # Replace words with their emoji equivalent\n",
    "    for word, emj in emoji_map.items():\n",
    "        text = text.replace(word, emj)\n",
    "    \n",
    "    return text\n",
    "\n",
    "# Add emojis to the extracted article\n",
    "article_with_emojis = add_emojis(article.text)\n",
    "\n",
    "# Display article with emojis\n",
    "print(article_with_emojis)"
   ]
  }
 ],
 "metadata": {
  "kernelspec": {
   "display_name": "Python 3",
   "language": "python",
   "name": "python3"
  },
  "language_info": {
   "codemirror_mode": {
    "name": "ipython",
    "version": 3
   },
   "file_extension": ".py",
   "mimetype": "text/x-python",
   "name": "python",
   "nbconvert_exporter": "python",
   "pygments_lexer": "ipython3",
   "version": "3.12.3"
  }
 },
 "nbformat": 4,
 "nbformat_minor": 2
}
